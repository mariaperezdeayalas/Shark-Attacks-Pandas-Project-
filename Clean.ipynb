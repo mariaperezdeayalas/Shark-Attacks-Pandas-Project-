{
 "cells": [
  {
   "cell_type": "code",
   "execution_count": 1,
   "id": "0765f6a3",
   "metadata": {},
   "outputs": [],
   "source": [
    "import pandas as pd\n",
    "import numpy as np\n",
    "import re\n",
    "import seaborn as sns\n",
    "import matplotlib.pyplot as plt\n",
    "import SRC.cleaning_functions as fc\n",
    "import warnings\n",
    "warnings.filterwarnings(\"ignore\")"
   ]
  },
  {
   "cell_type": "code",
   "execution_count": 2,
   "id": "b88eda3e",
   "metadata": {},
   "outputs": [],
   "source": [
    "df = pd.read_csv(\"data/attacks.csv\",encoding = \"ISO-8859-1\") #To load the data csv"
   ]
  },
  {
   "cell_type": "code",
   "execution_count": 3,
   "id": "ffd53d3e",
   "metadata": {},
   "outputs": [
    {
     "data": {
      "text/html": [
       "<div>\n",
       "<style scoped>\n",
       "    .dataframe tbody tr th:only-of-type {\n",
       "        vertical-align: middle;\n",
       "    }\n",
       "\n",
       "    .dataframe tbody tr th {\n",
       "        vertical-align: top;\n",
       "    }\n",
       "\n",
       "    .dataframe thead th {\n",
       "        text-align: right;\n",
       "    }\n",
       "</style>\n",
       "<table border=\"1\" class=\"dataframe\">\n",
       "  <thead>\n",
       "    <tr style=\"text-align: right;\">\n",
       "      <th></th>\n",
       "      <th>Case Number</th>\n",
       "      <th>Date</th>\n",
       "      <th>Year</th>\n",
       "      <th>Type</th>\n",
       "      <th>Country</th>\n",
       "      <th>Area</th>\n",
       "      <th>Location</th>\n",
       "      <th>Activity</th>\n",
       "      <th>Name</th>\n",
       "      <th>Sex</th>\n",
       "      <th>...</th>\n",
       "      <th>Species</th>\n",
       "      <th>Investigator or Source</th>\n",
       "      <th>pdf</th>\n",
       "      <th>href formula</th>\n",
       "      <th>href</th>\n",
       "      <th>Case Number.1</th>\n",
       "      <th>Case Number.2</th>\n",
       "      <th>original order</th>\n",
       "      <th>Unnamed: 22</th>\n",
       "      <th>Unnamed: 23</th>\n",
       "    </tr>\n",
       "  </thead>\n",
       "  <tbody>\n",
       "    <tr>\n",
       "      <th>0</th>\n",
       "      <td>2018.06.25</td>\n",
       "      <td>25-Jun-2018</td>\n",
       "      <td>2018.0</td>\n",
       "      <td>Boating</td>\n",
       "      <td>USA</td>\n",
       "      <td>California</td>\n",
       "      <td>Oceanside, San Diego County</td>\n",
       "      <td>Paddling</td>\n",
       "      <td>Julie Wolfe</td>\n",
       "      <td>F</td>\n",
       "      <td>...</td>\n",
       "      <td>White shark</td>\n",
       "      <td>R. Collier, GSAF</td>\n",
       "      <td>2018.06.25-Wolfe.pdf</td>\n",
       "      <td>http://sharkattackfile.net/spreadsheets/pdf_di...</td>\n",
       "      <td>http://sharkattackfile.net/spreadsheets/pdf_di...</td>\n",
       "      <td>2018.06.25</td>\n",
       "      <td>2018.06.25</td>\n",
       "      <td>6303.0</td>\n",
       "      <td>NaN</td>\n",
       "      <td>NaN</td>\n",
       "    </tr>\n",
       "    <tr>\n",
       "      <th>1</th>\n",
       "      <td>2018.06.18</td>\n",
       "      <td>18-Jun-2018</td>\n",
       "      <td>2018.0</td>\n",
       "      <td>Unprovoked</td>\n",
       "      <td>USA</td>\n",
       "      <td>Georgia</td>\n",
       "      <td>St. Simon Island, Glynn County</td>\n",
       "      <td>Standing</td>\n",
       "      <td>Adyson McNeely</td>\n",
       "      <td>F</td>\n",
       "      <td>...</td>\n",
       "      <td>NaN</td>\n",
       "      <td>K.McMurray, TrackingSharks.com</td>\n",
       "      <td>2018.06.18-McNeely.pdf</td>\n",
       "      <td>http://sharkattackfile.net/spreadsheets/pdf_di...</td>\n",
       "      <td>http://sharkattackfile.net/spreadsheets/pdf_di...</td>\n",
       "      <td>2018.06.18</td>\n",
       "      <td>2018.06.18</td>\n",
       "      <td>6302.0</td>\n",
       "      <td>NaN</td>\n",
       "      <td>NaN</td>\n",
       "    </tr>\n",
       "    <tr>\n",
       "      <th>2</th>\n",
       "      <td>2018.06.09</td>\n",
       "      <td>09-Jun-2018</td>\n",
       "      <td>2018.0</td>\n",
       "      <td>Invalid</td>\n",
       "      <td>USA</td>\n",
       "      <td>Hawaii</td>\n",
       "      <td>Habush, Oahu</td>\n",
       "      <td>Surfing</td>\n",
       "      <td>John Denges</td>\n",
       "      <td>M</td>\n",
       "      <td>...</td>\n",
       "      <td>NaN</td>\n",
       "      <td>K.McMurray, TrackingSharks.com</td>\n",
       "      <td>2018.06.09-Denges.pdf</td>\n",
       "      <td>http://sharkattackfile.net/spreadsheets/pdf_di...</td>\n",
       "      <td>http://sharkattackfile.net/spreadsheets/pdf_di...</td>\n",
       "      <td>2018.06.09</td>\n",
       "      <td>2018.06.09</td>\n",
       "      <td>6301.0</td>\n",
       "      <td>NaN</td>\n",
       "      <td>NaN</td>\n",
       "    </tr>\n",
       "    <tr>\n",
       "      <th>3</th>\n",
       "      <td>2018.06.08</td>\n",
       "      <td>08-Jun-2018</td>\n",
       "      <td>2018.0</td>\n",
       "      <td>Unprovoked</td>\n",
       "      <td>AUSTRALIA</td>\n",
       "      <td>New South Wales</td>\n",
       "      <td>Arrawarra Headland</td>\n",
       "      <td>Surfing</td>\n",
       "      <td>male</td>\n",
       "      <td>M</td>\n",
       "      <td>...</td>\n",
       "      <td>2 m shark</td>\n",
       "      <td>B. Myatt, GSAF</td>\n",
       "      <td>2018.06.08-Arrawarra.pdf</td>\n",
       "      <td>http://sharkattackfile.net/spreadsheets/pdf_di...</td>\n",
       "      <td>http://sharkattackfile.net/spreadsheets/pdf_di...</td>\n",
       "      <td>2018.06.08</td>\n",
       "      <td>2018.06.08</td>\n",
       "      <td>6300.0</td>\n",
       "      <td>NaN</td>\n",
       "      <td>NaN</td>\n",
       "    </tr>\n",
       "    <tr>\n",
       "      <th>4</th>\n",
       "      <td>2018.06.04</td>\n",
       "      <td>04-Jun-2018</td>\n",
       "      <td>2018.0</td>\n",
       "      <td>Provoked</td>\n",
       "      <td>MEXICO</td>\n",
       "      <td>Colima</td>\n",
       "      <td>La Ticla</td>\n",
       "      <td>Free diving</td>\n",
       "      <td>Gustavo Ramos</td>\n",
       "      <td>M</td>\n",
       "      <td>...</td>\n",
       "      <td>Tiger shark, 3m</td>\n",
       "      <td>A .Kipper</td>\n",
       "      <td>2018.06.04-Ramos.pdf</td>\n",
       "      <td>http://sharkattackfile.net/spreadsheets/pdf_di...</td>\n",
       "      <td>http://sharkattackfile.net/spreadsheets/pdf_di...</td>\n",
       "      <td>2018.06.04</td>\n",
       "      <td>2018.06.04</td>\n",
       "      <td>6299.0</td>\n",
       "      <td>NaN</td>\n",
       "      <td>NaN</td>\n",
       "    </tr>\n",
       "  </tbody>\n",
       "</table>\n",
       "<p>5 rows × 24 columns</p>\n",
       "</div>"
      ],
      "text/plain": [
       "  Case Number         Date    Year        Type    Country             Area  \\\n",
       "0  2018.06.25  25-Jun-2018  2018.0     Boating        USA       California   \n",
       "1  2018.06.18  18-Jun-2018  2018.0  Unprovoked        USA          Georgia   \n",
       "2  2018.06.09  09-Jun-2018  2018.0     Invalid        USA           Hawaii   \n",
       "3  2018.06.08  08-Jun-2018  2018.0  Unprovoked  AUSTRALIA  New South Wales   \n",
       "4  2018.06.04  04-Jun-2018  2018.0    Provoked     MEXICO           Colima   \n",
       "\n",
       "                         Location     Activity             Name Sex   ...  \\\n",
       "0     Oceanside, San Diego County     Paddling      Julie Wolfe    F  ...   \n",
       "1  St. Simon Island, Glynn County     Standing  Adyson McNeely     F  ...   \n",
       "2                    Habush, Oahu      Surfing      John Denges    M  ...   \n",
       "3              Arrawarra Headland      Surfing             male    M  ...   \n",
       "4                        La Ticla  Free diving   Gustavo Ramos     M  ...   \n",
       "\n",
       "          Species           Investigator or Source                       pdf  \\\n",
       "0      White shark                R. Collier, GSAF      2018.06.25-Wolfe.pdf   \n",
       "1              NaN  K.McMurray, TrackingSharks.com    2018.06.18-McNeely.pdf   \n",
       "2              NaN  K.McMurray, TrackingSharks.com     2018.06.09-Denges.pdf   \n",
       "3        2 m shark                  B. Myatt, GSAF  2018.06.08-Arrawarra.pdf   \n",
       "4  Tiger shark, 3m                       A .Kipper      2018.06.04-Ramos.pdf   \n",
       "\n",
       "                                        href formula  \\\n",
       "0  http://sharkattackfile.net/spreadsheets/pdf_di...   \n",
       "1  http://sharkattackfile.net/spreadsheets/pdf_di...   \n",
       "2  http://sharkattackfile.net/spreadsheets/pdf_di...   \n",
       "3  http://sharkattackfile.net/spreadsheets/pdf_di...   \n",
       "4  http://sharkattackfile.net/spreadsheets/pdf_di...   \n",
       "\n",
       "                                                href Case Number.1  \\\n",
       "0  http://sharkattackfile.net/spreadsheets/pdf_di...    2018.06.25   \n",
       "1  http://sharkattackfile.net/spreadsheets/pdf_di...    2018.06.18   \n",
       "2  http://sharkattackfile.net/spreadsheets/pdf_di...    2018.06.09   \n",
       "3  http://sharkattackfile.net/spreadsheets/pdf_di...    2018.06.08   \n",
       "4  http://sharkattackfile.net/spreadsheets/pdf_di...    2018.06.04   \n",
       "\n",
       "  Case Number.2 original order Unnamed: 22 Unnamed: 23  \n",
       "0    2018.06.25         6303.0         NaN         NaN  \n",
       "1    2018.06.18         6302.0         NaN         NaN  \n",
       "2    2018.06.09         6301.0         NaN         NaN  \n",
       "3    2018.06.08         6300.0         NaN         NaN  \n",
       "4    2018.06.04         6299.0         NaN         NaN  \n",
       "\n",
       "[5 rows x 24 columns]"
      ]
     },
     "execution_count": 3,
     "metadata": {},
     "output_type": "execute_result"
    }
   ],
   "source": [
    "# First visualization of the dataset\n",
    "\n",
    "df.head()"
   ]
  },
  {
   "cell_type": "code",
   "execution_count": 4,
   "id": "4d2b27ef",
   "metadata": {
    "scrolled": false
   },
   "outputs": [
    {
     "data": {
      "text/html": [
       "<div>\n",
       "<style scoped>\n",
       "    .dataframe tbody tr th:only-of-type {\n",
       "        vertical-align: middle;\n",
       "    }\n",
       "\n",
       "    .dataframe tbody tr th {\n",
       "        vertical-align: top;\n",
       "    }\n",
       "\n",
       "    .dataframe thead th {\n",
       "        text-align: right;\n",
       "    }\n",
       "</style>\n",
       "<table border=\"1\" class=\"dataframe\">\n",
       "  <thead>\n",
       "    <tr style=\"text-align: right;\">\n",
       "      <th></th>\n",
       "      <th>Case Number</th>\n",
       "      <th>Date</th>\n",
       "      <th>Year</th>\n",
       "      <th>Type</th>\n",
       "      <th>Country</th>\n",
       "      <th>Area</th>\n",
       "      <th>Location</th>\n",
       "      <th>Activity</th>\n",
       "      <th>Name</th>\n",
       "      <th>Sex</th>\n",
       "      <th>...</th>\n",
       "      <th>Species</th>\n",
       "      <th>Investigator or Source</th>\n",
       "      <th>pdf</th>\n",
       "      <th>href formula</th>\n",
       "      <th>href</th>\n",
       "      <th>Case Number.1</th>\n",
       "      <th>Case Number.2</th>\n",
       "      <th>original order</th>\n",
       "      <th>Unnamed: 22</th>\n",
       "      <th>Unnamed: 23</th>\n",
       "    </tr>\n",
       "  </thead>\n",
       "  <tbody>\n",
       "    <tr>\n",
       "      <th>19803</th>\n",
       "      <td>NaN</td>\n",
       "      <td>NaN</td>\n",
       "      <td>NaN</td>\n",
       "      <td>NaN</td>\n",
       "      <td>NaN</td>\n",
       "      <td>NaN</td>\n",
       "      <td>NaN</td>\n",
       "      <td>NaN</td>\n",
       "      <td>NaN</td>\n",
       "      <td>NaN</td>\n",
       "      <td>...</td>\n",
       "      <td>NaN</td>\n",
       "      <td>NaN</td>\n",
       "      <td>NaN</td>\n",
       "      <td>NaN</td>\n",
       "      <td>NaN</td>\n",
       "      <td>NaN</td>\n",
       "      <td>NaN</td>\n",
       "      <td>NaN</td>\n",
       "      <td>NaN</td>\n",
       "      <td>NaN</td>\n",
       "    </tr>\n",
       "    <tr>\n",
       "      <th>17785</th>\n",
       "      <td>NaN</td>\n",
       "      <td>NaN</td>\n",
       "      <td>NaN</td>\n",
       "      <td>NaN</td>\n",
       "      <td>NaN</td>\n",
       "      <td>NaN</td>\n",
       "      <td>NaN</td>\n",
       "      <td>NaN</td>\n",
       "      <td>NaN</td>\n",
       "      <td>NaN</td>\n",
       "      <td>...</td>\n",
       "      <td>NaN</td>\n",
       "      <td>NaN</td>\n",
       "      <td>NaN</td>\n",
       "      <td>NaN</td>\n",
       "      <td>NaN</td>\n",
       "      <td>NaN</td>\n",
       "      <td>NaN</td>\n",
       "      <td>NaN</td>\n",
       "      <td>NaN</td>\n",
       "      <td>NaN</td>\n",
       "    </tr>\n",
       "    <tr>\n",
       "      <th>25197</th>\n",
       "      <td>NaN</td>\n",
       "      <td>NaN</td>\n",
       "      <td>NaN</td>\n",
       "      <td>NaN</td>\n",
       "      <td>NaN</td>\n",
       "      <td>NaN</td>\n",
       "      <td>NaN</td>\n",
       "      <td>NaN</td>\n",
       "      <td>NaN</td>\n",
       "      <td>NaN</td>\n",
       "      <td>...</td>\n",
       "      <td>NaN</td>\n",
       "      <td>NaN</td>\n",
       "      <td>NaN</td>\n",
       "      <td>NaN</td>\n",
       "      <td>NaN</td>\n",
       "      <td>NaN</td>\n",
       "      <td>NaN</td>\n",
       "      <td>NaN</td>\n",
       "      <td>NaN</td>\n",
       "      <td>NaN</td>\n",
       "    </tr>\n",
       "    <tr>\n",
       "      <th>1303</th>\n",
       "      <td>2007.12.15</td>\n",
       "      <td>15-Dec-2007</td>\n",
       "      <td>2007.0</td>\n",
       "      <td>Unprovoked</td>\n",
       "      <td>AUSTRALIA</td>\n",
       "      <td>Queensland</td>\n",
       "      <td>South Stradbroke Island</td>\n",
       "      <td>Swimming</td>\n",
       "      <td>Josh Edwards</td>\n",
       "      <td>M</td>\n",
       "      <td>...</td>\n",
       "      <td>\"a small shark\"</td>\n",
       "      <td>goldcoast.com.au</td>\n",
       "      <td>2007.12.15-Edwards.pdf</td>\n",
       "      <td>http://sharkattackfile.net/spreadsheets/pdf_di...</td>\n",
       "      <td>http://sharkattackfile.net/spreadsheets/pdf_di...</td>\n",
       "      <td>2007.12.15</td>\n",
       "      <td>2007.12.15</td>\n",
       "      <td>5000.0</td>\n",
       "      <td>NaN</td>\n",
       "      <td>NaN</td>\n",
       "    </tr>\n",
       "    <tr>\n",
       "      <th>24675</th>\n",
       "      <td>NaN</td>\n",
       "      <td>NaN</td>\n",
       "      <td>NaN</td>\n",
       "      <td>NaN</td>\n",
       "      <td>NaN</td>\n",
       "      <td>NaN</td>\n",
       "      <td>NaN</td>\n",
       "      <td>NaN</td>\n",
       "      <td>NaN</td>\n",
       "      <td>NaN</td>\n",
       "      <td>...</td>\n",
       "      <td>NaN</td>\n",
       "      <td>NaN</td>\n",
       "      <td>NaN</td>\n",
       "      <td>NaN</td>\n",
       "      <td>NaN</td>\n",
       "      <td>NaN</td>\n",
       "      <td>NaN</td>\n",
       "      <td>NaN</td>\n",
       "      <td>NaN</td>\n",
       "      <td>NaN</td>\n",
       "    </tr>\n",
       "    <tr>\n",
       "      <th>15730</th>\n",
       "      <td>NaN</td>\n",
       "      <td>NaN</td>\n",
       "      <td>NaN</td>\n",
       "      <td>NaN</td>\n",
       "      <td>NaN</td>\n",
       "      <td>NaN</td>\n",
       "      <td>NaN</td>\n",
       "      <td>NaN</td>\n",
       "      <td>NaN</td>\n",
       "      <td>NaN</td>\n",
       "      <td>...</td>\n",
       "      <td>NaN</td>\n",
       "      <td>NaN</td>\n",
       "      <td>NaN</td>\n",
       "      <td>NaN</td>\n",
       "      <td>NaN</td>\n",
       "      <td>NaN</td>\n",
       "      <td>NaN</td>\n",
       "      <td>NaN</td>\n",
       "      <td>NaN</td>\n",
       "      <td>NaN</td>\n",
       "    </tr>\n",
       "    <tr>\n",
       "      <th>16175</th>\n",
       "      <td>NaN</td>\n",
       "      <td>NaN</td>\n",
       "      <td>NaN</td>\n",
       "      <td>NaN</td>\n",
       "      <td>NaN</td>\n",
       "      <td>NaN</td>\n",
       "      <td>NaN</td>\n",
       "      <td>NaN</td>\n",
       "      <td>NaN</td>\n",
       "      <td>NaN</td>\n",
       "      <td>...</td>\n",
       "      <td>NaN</td>\n",
       "      <td>NaN</td>\n",
       "      <td>NaN</td>\n",
       "      <td>NaN</td>\n",
       "      <td>NaN</td>\n",
       "      <td>NaN</td>\n",
       "      <td>NaN</td>\n",
       "      <td>NaN</td>\n",
       "      <td>NaN</td>\n",
       "      <td>NaN</td>\n",
       "    </tr>\n",
       "    <tr>\n",
       "      <th>16012</th>\n",
       "      <td>NaN</td>\n",
       "      <td>NaN</td>\n",
       "      <td>NaN</td>\n",
       "      <td>NaN</td>\n",
       "      <td>NaN</td>\n",
       "      <td>NaN</td>\n",
       "      <td>NaN</td>\n",
       "      <td>NaN</td>\n",
       "      <td>NaN</td>\n",
       "      <td>NaN</td>\n",
       "      <td>...</td>\n",
       "      <td>NaN</td>\n",
       "      <td>NaN</td>\n",
       "      <td>NaN</td>\n",
       "      <td>NaN</td>\n",
       "      <td>NaN</td>\n",
       "      <td>NaN</td>\n",
       "      <td>NaN</td>\n",
       "      <td>NaN</td>\n",
       "      <td>NaN</td>\n",
       "      <td>NaN</td>\n",
       "    </tr>\n",
       "    <tr>\n",
       "      <th>22797</th>\n",
       "      <td>NaN</td>\n",
       "      <td>NaN</td>\n",
       "      <td>NaN</td>\n",
       "      <td>NaN</td>\n",
       "      <td>NaN</td>\n",
       "      <td>NaN</td>\n",
       "      <td>NaN</td>\n",
       "      <td>NaN</td>\n",
       "      <td>NaN</td>\n",
       "      <td>NaN</td>\n",
       "      <td>...</td>\n",
       "      <td>NaN</td>\n",
       "      <td>NaN</td>\n",
       "      <td>NaN</td>\n",
       "      <td>NaN</td>\n",
       "      <td>NaN</td>\n",
       "      <td>NaN</td>\n",
       "      <td>NaN</td>\n",
       "      <td>NaN</td>\n",
       "      <td>NaN</td>\n",
       "      <td>NaN</td>\n",
       "    </tr>\n",
       "    <tr>\n",
       "      <th>20744</th>\n",
       "      <td>NaN</td>\n",
       "      <td>NaN</td>\n",
       "      <td>NaN</td>\n",
       "      <td>NaN</td>\n",
       "      <td>NaN</td>\n",
       "      <td>NaN</td>\n",
       "      <td>NaN</td>\n",
       "      <td>NaN</td>\n",
       "      <td>NaN</td>\n",
       "      <td>NaN</td>\n",
       "      <td>...</td>\n",
       "      <td>NaN</td>\n",
       "      <td>NaN</td>\n",
       "      <td>NaN</td>\n",
       "      <td>NaN</td>\n",
       "      <td>NaN</td>\n",
       "      <td>NaN</td>\n",
       "      <td>NaN</td>\n",
       "      <td>NaN</td>\n",
       "      <td>NaN</td>\n",
       "      <td>NaN</td>\n",
       "    </tr>\n",
       "  </tbody>\n",
       "</table>\n",
       "<p>10 rows × 24 columns</p>\n",
       "</div>"
      ],
      "text/plain": [
       "      Case Number         Date    Year        Type    Country        Area  \\\n",
       "19803         NaN          NaN     NaN         NaN        NaN         NaN   \n",
       "17785         NaN          NaN     NaN         NaN        NaN         NaN   \n",
       "25197         NaN          NaN     NaN         NaN        NaN         NaN   \n",
       "1303   2007.12.15  15-Dec-2007  2007.0  Unprovoked  AUSTRALIA  Queensland   \n",
       "24675         NaN          NaN     NaN         NaN        NaN         NaN   \n",
       "15730         NaN          NaN     NaN         NaN        NaN         NaN   \n",
       "16175         NaN          NaN     NaN         NaN        NaN         NaN   \n",
       "16012         NaN          NaN     NaN         NaN        NaN         NaN   \n",
       "22797         NaN          NaN     NaN         NaN        NaN         NaN   \n",
       "20744         NaN          NaN     NaN         NaN        NaN         NaN   \n",
       "\n",
       "                      Location  Activity          Name Sex   ...  \\\n",
       "19803                      NaN       NaN           NaN  NaN  ...   \n",
       "17785                      NaN       NaN           NaN  NaN  ...   \n",
       "25197                      NaN       NaN           NaN  NaN  ...   \n",
       "1303   South Stradbroke Island  Swimming  Josh Edwards    M  ...   \n",
       "24675                      NaN       NaN           NaN  NaN  ...   \n",
       "15730                      NaN       NaN           NaN  NaN  ...   \n",
       "16175                      NaN       NaN           NaN  NaN  ...   \n",
       "16012                      NaN       NaN           NaN  NaN  ...   \n",
       "22797                      NaN       NaN           NaN  NaN  ...   \n",
       "20744                      NaN       NaN           NaN  NaN  ...   \n",
       "\n",
       "              Species  Investigator or Source                     pdf  \\\n",
       "19803              NaN                    NaN                     NaN   \n",
       "17785              NaN                    NaN                     NaN   \n",
       "25197              NaN                    NaN                     NaN   \n",
       "1303   \"a small shark\"       goldcoast.com.au  2007.12.15-Edwards.pdf   \n",
       "24675              NaN                    NaN                     NaN   \n",
       "15730              NaN                    NaN                     NaN   \n",
       "16175              NaN                    NaN                     NaN   \n",
       "16012              NaN                    NaN                     NaN   \n",
       "22797              NaN                    NaN                     NaN   \n",
       "20744              NaN                    NaN                     NaN   \n",
       "\n",
       "                                            href formula  \\\n",
       "19803                                                NaN   \n",
       "17785                                                NaN   \n",
       "25197                                                NaN   \n",
       "1303   http://sharkattackfile.net/spreadsheets/pdf_di...   \n",
       "24675                                                NaN   \n",
       "15730                                                NaN   \n",
       "16175                                                NaN   \n",
       "16012                                                NaN   \n",
       "22797                                                NaN   \n",
       "20744                                                NaN   \n",
       "\n",
       "                                                    href Case Number.1  \\\n",
       "19803                                                NaN           NaN   \n",
       "17785                                                NaN           NaN   \n",
       "25197                                                NaN           NaN   \n",
       "1303   http://sharkattackfile.net/spreadsheets/pdf_di...    2007.12.15   \n",
       "24675                                                NaN           NaN   \n",
       "15730                                                NaN           NaN   \n",
       "16175                                                NaN           NaN   \n",
       "16012                                                NaN           NaN   \n",
       "22797                                                NaN           NaN   \n",
       "20744                                                NaN           NaN   \n",
       "\n",
       "      Case Number.2 original order Unnamed: 22 Unnamed: 23  \n",
       "19803           NaN            NaN         NaN         NaN  \n",
       "17785           NaN            NaN         NaN         NaN  \n",
       "25197           NaN            NaN         NaN         NaN  \n",
       "1303     2007.12.15         5000.0         NaN         NaN  \n",
       "24675           NaN            NaN         NaN         NaN  \n",
       "15730           NaN            NaN         NaN         NaN  \n",
       "16175           NaN            NaN         NaN         NaN  \n",
       "16012           NaN            NaN         NaN         NaN  \n",
       "22797           NaN            NaN         NaN         NaN  \n",
       "20744           NaN            NaN         NaN         NaN  \n",
       "\n",
       "[10 rows x 24 columns]"
      ]
     },
     "execution_count": 4,
     "metadata": {},
     "output_type": "execute_result"
    }
   ],
   "source": [
    "df.sample(10)"
   ]
  },
  {
   "cell_type": "code",
   "execution_count": 5,
   "id": "ec2329bd",
   "metadata": {},
   "outputs": [
    {
     "data": {
      "text/plain": [
       "(25723, 24)"
      ]
     },
     "execution_count": 5,
     "metadata": {},
     "output_type": "execute_result"
    }
   ],
   "source": [
    "# To see how many values does the dataset have \n",
    "\n",
    "df.shape"
   ]
  },
  {
   "cell_type": "code",
   "execution_count": 6,
   "id": "f10273cc",
   "metadata": {},
   "outputs": [
    {
     "name": "stdout",
     "output_type": "stream",
     "text": [
      "<class 'pandas.core.frame.DataFrame'>\n",
      "RangeIndex: 25723 entries, 0 to 25722\n",
      "Data columns (total 24 columns):\n",
      " #   Column                  Non-Null Count  Dtype  \n",
      "---  ------                  --------------  -----  \n",
      " 0   Case Number             8702 non-null   object \n",
      " 1   Date                    6302 non-null   object \n",
      " 2   Year                    6300 non-null   float64\n",
      " 3   Type                    6298 non-null   object \n",
      " 4   Country                 6252 non-null   object \n",
      " 5   Area                    5847 non-null   object \n",
      " 6   Location                5762 non-null   object \n",
      " 7   Activity                5758 non-null   object \n",
      " 8   Name                    6092 non-null   object \n",
      " 9   Sex                     5737 non-null   object \n",
      " 10  Age                     3471 non-null   object \n",
      " 11  Injury                  6274 non-null   object \n",
      " 12  Fatal (Y/N)             5763 non-null   object \n",
      " 13  Time                    2948 non-null   object \n",
      " 14  Species                 3464 non-null   object \n",
      " 15  Investigator or Source  6285 non-null   object \n",
      " 16  pdf                     6302 non-null   object \n",
      " 17  href formula            6301 non-null   object \n",
      " 18  href                    6302 non-null   object \n",
      " 19  Case Number.1           6302 non-null   object \n",
      " 20  Case Number.2           6302 non-null   object \n",
      " 21  original order          6309 non-null   float64\n",
      " 22  Unnamed: 22             1 non-null      object \n",
      " 23  Unnamed: 23             2 non-null      object \n",
      "dtypes: float64(2), object(22)\n",
      "memory usage: 4.7+ MB\n"
     ]
    }
   ],
   "source": [
    "df.info()"
   ]
  },
  {
   "cell_type": "code",
   "execution_count": 7,
   "id": "0930e1a8",
   "metadata": {
    "scrolled": true
   },
   "outputs": [],
   "source": [
    "# After analyzing the data and its figures, I can decided the HYPOTHESES I am going to work on:\n",
    "\n",
    "# 1. Over the years the fatality of shark attacks has decreased? \n",
    "# 2. Majority of accidents that end in fatality happen during the night? If not, when?\n",
    "# 3. Has the mortality of ie. surfing decreased over time? And what about the rest?"
   ]
  },
  {
   "cell_type": "code",
   "execution_count": 8,
   "id": "045bee55",
   "metadata": {},
   "outputs": [
    {
     "data": {
      "text/plain": [
       "Case Number               17021\n",
       "Date                      19421\n",
       "Year                      19423\n",
       "Type                      19425\n",
       "Country                   19471\n",
       "Area                      19876\n",
       "Location                  19961\n",
       "Activity                  19965\n",
       "Name                      19631\n",
       "Sex                       19986\n",
       "Age                       22252\n",
       "Injury                    19449\n",
       "Fatal (Y/N)               19960\n",
       "Time                      22775\n",
       "Species                   22259\n",
       "Investigator or Source    19438\n",
       "pdf                       19421\n",
       "href formula              19422\n",
       "href                      19421\n",
       "Case Number.1             19421\n",
       "Case Number.2             19421\n",
       "original order            19414\n",
       "Unnamed: 22               25722\n",
       "Unnamed: 23               25721\n",
       "dtype: int64"
      ]
     },
     "execution_count": 8,
     "metadata": {},
     "output_type": "execute_result"
    }
   ],
   "source": [
    "df.isna().sum()"
   ]
  },
  {
   "cell_type": "code",
   "execution_count": 9,
   "id": "8925ba34",
   "metadata": {},
   "outputs": [
    {
     "data": {
      "text/plain": [
       "Index(['Case Number', 'Date', 'Year', 'Type', 'Country', 'Area', 'Location',\n",
       "       'Activity', 'Name', 'Sex ', 'Age', 'Injury', 'Fatal (Y/N)', 'Time',\n",
       "       'Species ', 'Investigator or Source', 'pdf', 'href formula', 'href',\n",
       "       'Case Number.1', 'Case Number.2', 'original order', 'Unnamed: 22',\n",
       "       'Unnamed: 23'],\n",
       "      dtype='object')"
      ]
     },
     "execution_count": 9,
     "metadata": {},
     "output_type": "execute_result"
    }
   ],
   "source": [
    "df.columns"
   ]
  },
  {
   "cell_type": "code",
   "execution_count": 10,
   "id": "d378245c",
   "metadata": {},
   "outputs": [
    {
     "data": {
      "text/plain": [
       "array([nan, 'stopped here'], dtype=object)"
      ]
     },
     "execution_count": 10,
     "metadata": {},
     "output_type": "execute_result"
    }
   ],
   "source": [
    "df['Unnamed: 22'].unique()"
   ]
  },
  {
   "cell_type": "code",
   "execution_count": 11,
   "id": "102ec5aa",
   "metadata": {},
   "outputs": [
    {
     "data": {
      "text/plain": [
       "array([nan, 'Teramo', 'change filename'], dtype=object)"
      ]
     },
     "execution_count": 11,
     "metadata": {},
     "output_type": "execute_result"
    }
   ],
   "source": [
    "df['Unnamed: 23'].unique()"
   ]
  },
  {
   "cell_type": "code",
   "execution_count": 12,
   "id": "44583cfc",
   "metadata": {},
   "outputs": [],
   "source": [
    "# Now I am going to remove the columns full of NaN and also the ones whose values I am not going to use\n",
    "\n",
    "df.drop(['original order', 'Case Number.1', 'Case Number.2', 'pdf', 'href formula', 'href', 'Unnamed: 22', 'Unnamed: 23', 'Area', 'Location', 'Investigator or Source'], axis=1, inplace=True)"
   ]
  },
  {
   "cell_type": "code",
   "execution_count": 13,
   "id": "4fe4f728",
   "metadata": {},
   "outputs": [
    {
     "data": {
      "text/html": [
       "<div>\n",
       "<style scoped>\n",
       "    .dataframe tbody tr th:only-of-type {\n",
       "        vertical-align: middle;\n",
       "    }\n",
       "\n",
       "    .dataframe tbody tr th {\n",
       "        vertical-align: top;\n",
       "    }\n",
       "\n",
       "    .dataframe thead th {\n",
       "        text-align: right;\n",
       "    }\n",
       "</style>\n",
       "<table border=\"1\" class=\"dataframe\">\n",
       "  <thead>\n",
       "    <tr style=\"text-align: right;\">\n",
       "      <th></th>\n",
       "      <th>Case Number</th>\n",
       "      <th>Date</th>\n",
       "      <th>Year</th>\n",
       "      <th>Type</th>\n",
       "      <th>Country</th>\n",
       "      <th>Activity</th>\n",
       "      <th>Name</th>\n",
       "      <th>Sex</th>\n",
       "      <th>Age</th>\n",
       "      <th>Injury</th>\n",
       "      <th>Fatal (Y/N)</th>\n",
       "      <th>Time</th>\n",
       "      <th>Species</th>\n",
       "    </tr>\n",
       "  </thead>\n",
       "  <tbody>\n",
       "    <tr>\n",
       "      <th>7462</th>\n",
       "      <td>0</td>\n",
       "      <td>NaN</td>\n",
       "      <td>NaN</td>\n",
       "      <td>NaN</td>\n",
       "      <td>NaN</td>\n",
       "      <td>NaN</td>\n",
       "      <td>NaN</td>\n",
       "      <td>NaN</td>\n",
       "      <td>NaN</td>\n",
       "      <td>NaN</td>\n",
       "      <td>NaN</td>\n",
       "      <td>NaN</td>\n",
       "      <td>NaN</td>\n",
       "    </tr>\n",
       "    <tr>\n",
       "      <th>3374</th>\n",
       "      <td>1970.12.17</td>\n",
       "      <td>17-Dec-1970</td>\n",
       "      <td>1970.0</td>\n",
       "      <td>Unprovoked</td>\n",
       "      <td>MOZAMBIQUE</td>\n",
       "      <td>Fishing for prawns</td>\n",
       "      <td>Castigo Litura</td>\n",
       "      <td>M</td>\n",
       "      <td>18</td>\n",
       "      <td>FATAL, arm severed</td>\n",
       "      <td>Y</td>\n",
       "      <td>15h00</td>\n",
       "      <td>NaN</td>\n",
       "    </tr>\n",
       "    <tr>\n",
       "      <th>5087</th>\n",
       "      <td>1929.01.06.R</td>\n",
       "      <td>06-Jan-1929</td>\n",
       "      <td>1929.0</td>\n",
       "      <td>Boating</td>\n",
       "      <td>TURKEY</td>\n",
       "      <td>Fishing boat</td>\n",
       "      <td>male x 2</td>\n",
       "      <td>M</td>\n",
       "      <td>NaN</td>\n",
       "      <td>FATAL</td>\n",
       "      <td>Y</td>\n",
       "      <td>NaN</td>\n",
       "      <td>NaN</td>\n",
       "    </tr>\n",
       "    <tr>\n",
       "      <th>22962</th>\n",
       "      <td>NaN</td>\n",
       "      <td>NaN</td>\n",
       "      <td>NaN</td>\n",
       "      <td>NaN</td>\n",
       "      <td>NaN</td>\n",
       "      <td>NaN</td>\n",
       "      <td>NaN</td>\n",
       "      <td>NaN</td>\n",
       "      <td>NaN</td>\n",
       "      <td>NaN</td>\n",
       "      <td>NaN</td>\n",
       "      <td>NaN</td>\n",
       "      <td>NaN</td>\n",
       "    </tr>\n",
       "    <tr>\n",
       "      <th>5710</th>\n",
       "      <td>1890.00.00.b</td>\n",
       "      <td>1890</td>\n",
       "      <td>1890.0</td>\n",
       "      <td>Unprovoked</td>\n",
       "      <td>NEW ZEALAND</td>\n",
       "      <td>Swimming</td>\n",
       "      <td>soldier</td>\n",
       "      <td>M</td>\n",
       "      <td>NaN</td>\n",
       "      <td>FATAL</td>\n",
       "      <td>Y</td>\n",
       "      <td>NaN</td>\n",
       "      <td>NaN</td>\n",
       "    </tr>\n",
       "  </tbody>\n",
       "</table>\n",
       "</div>"
      ],
      "text/plain": [
       "        Case Number         Date    Year        Type      Country  \\\n",
       "7462              0          NaN     NaN         NaN          NaN   \n",
       "3374     1970.12.17  17-Dec-1970  1970.0  Unprovoked   MOZAMBIQUE   \n",
       "5087   1929.01.06.R  06-Jan-1929  1929.0     Boating       TURKEY   \n",
       "22962           NaN          NaN     NaN         NaN          NaN   \n",
       "5710   1890.00.00.b         1890  1890.0  Unprovoked  NEW ZEALAND   \n",
       "\n",
       "                 Activity            Name Sex   Age                Injury  \\\n",
       "7462                  NaN             NaN  NaN  NaN                   NaN   \n",
       "3374   Fishing for prawns  Castigo Litura    M   18  FATAL, arm severed     \n",
       "5087         Fishing boat        male x 2    M  NaN                 FATAL   \n",
       "22962                 NaN             NaN  NaN  NaN                   NaN   \n",
       "5710             Swimming        soldier     M  NaN                 FATAL   \n",
       "\n",
       "      Fatal (Y/N)   Time Species   \n",
       "7462          NaN    NaN      NaN  \n",
       "3374            Y  15h00      NaN  \n",
       "5087            Y    NaN      NaN  \n",
       "22962         NaN    NaN      NaN  \n",
       "5710            Y    NaN      NaN  "
      ]
     },
     "execution_count": 13,
     "metadata": {},
     "output_type": "execute_result"
    }
   ],
   "source": [
    "df.sample(5)"
   ]
  },
  {
   "cell_type": "code",
   "execution_count": 14,
   "id": "13fc42cb",
   "metadata": {},
   "outputs": [],
   "source": [
    "# Now I am removing all the rows where all the values are NaN\n",
    "\n",
    "df.dropna(axis=0, how='all', thresh=None, inplace=True)"
   ]
  },
  {
   "cell_type": "code",
   "execution_count": 15,
   "id": "82c1bb1b",
   "metadata": {
    "scrolled": true
   },
   "outputs": [
    {
     "data": {
      "text/plain": [
       "(8703, 13)"
      ]
     },
     "execution_count": 15,
     "metadata": {},
     "output_type": "execute_result"
    }
   ],
   "source": [
    "df.shape"
   ]
  },
  {
   "cell_type": "code",
   "execution_count": 16,
   "id": "7f61832e",
   "metadata": {},
   "outputs": [],
   "source": [
    "# Now I want to see the unique values per column to identify how do I have to clean the columns I need"
   ]
  },
  {
   "cell_type": "code",
   "execution_count": 17,
   "id": "97b557d5",
   "metadata": {},
   "outputs": [
    {
     "data": {
      "text/plain": [
       "array(['Boating', 'Unprovoked', 'Invalid', 'Provoked', 'Questionable',\n",
       "       'Sea Disaster', nan, 'Boat', 'Boatomg'], dtype=object)"
      ]
     },
     "execution_count": 17,
     "metadata": {},
     "output_type": "execute_result"
    }
   ],
   "source": [
    "df['Type'].unique()"
   ]
  },
  {
   "cell_type": "code",
   "execution_count": 18,
   "id": "da3ad968",
   "metadata": {
    "scrolled": true
   },
   "outputs": [
    {
     "data": {
      "text/plain": [
       "array(['White shark', nan, '2 m shark', ..., \"12' tiger shark\",\n",
       "       'Blue pointers',\n",
       "       'Said to involve a grey nurse shark that leapt out of the water and  seized the boy but species identification is questionable'],\n",
       "      dtype=object)"
      ]
     },
     "execution_count": 18,
     "metadata": {},
     "output_type": "execute_result"
    }
   ],
   "source": [
    "df['Species '].unique()"
   ]
  },
  {
   "cell_type": "code",
   "execution_count": 19,
   "id": "7855257a",
   "metadata": {},
   "outputs": [
    {
     "data": {
      "text/plain": [
       "array([2018., 2017.,   nan, 2016., 2015., 2014., 2013., 2012., 2011.,\n",
       "       2010., 2009., 2008., 2007., 2006., 2005., 2004., 2003., 2002.,\n",
       "       2001., 2000., 1999., 1998., 1997., 1996., 1995., 1984., 1994.,\n",
       "       1993., 1992., 1991., 1990., 1989., 1969., 1988., 1987., 1986.,\n",
       "       1985., 1983., 1982., 1981., 1980., 1979., 1978., 1977., 1976.,\n",
       "       1975., 1974., 1973., 1972., 1971., 1970., 1968., 1967., 1966.,\n",
       "       1965., 1964., 1963., 1962., 1961., 1960., 1959., 1958., 1957.,\n",
       "       1956., 1955., 1954., 1953., 1952., 1951., 1950., 1949., 1948.,\n",
       "       1848., 1947., 1946., 1945., 1944., 1943., 1942., 1941., 1940.,\n",
       "       1939., 1938., 1937., 1936., 1935., 1934., 1933., 1932., 1931.,\n",
       "       1930., 1929., 1928., 1927., 1926., 1925., 1924., 1923., 1922.,\n",
       "       1921., 1920., 1919., 1918., 1917., 1916., 1915., 1914., 1913.,\n",
       "       1912., 1911., 1910., 1909., 1908., 1907., 1906., 1905., 1904.,\n",
       "       1903., 1902., 1901., 1900., 1899., 1898., 1897., 1896., 1895.,\n",
       "       1894., 1893., 1892., 1891., 1890., 1889., 1888., 1887., 1886.,\n",
       "       1885., 1884., 1883., 1882., 1881., 1880., 1879., 1878., 1877.,\n",
       "       1876., 1875., 1874., 1873., 1872., 1871., 1870., 1869., 1868.,\n",
       "       1867., 1866., 1865., 1864., 1863., 1862., 1861., 1860., 1859.,\n",
       "       1858., 1857., 1856., 1855., 1853., 1852., 1851., 1850., 1849.,\n",
       "       1847., 1846., 1845., 1844., 1842., 1841., 1840., 1839., 1837.,\n",
       "       1836., 1835., 1834., 1832., 1831., 1830., 1829., 1828., 1827.,\n",
       "       1826., 1825., 1823., 1822., 1819., 1818., 1817., 1816., 1815.,\n",
       "       1812., 1811., 1810., 1808., 1807., 1805., 1804., 1803., 1802.,\n",
       "       1801., 1800., 1797., 1792., 1791., 1788., 1787., 1786., 1785.,\n",
       "       1784., 1783., 1780., 1779., 1776., 1771., 1767., 1764., 1758.,\n",
       "       1753., 1751., 1749., 1755., 1748., 1742., 1738., 1733., 1723.,\n",
       "       1721., 1703., 1700., 1642., 1638., 1637., 1617., 1595., 1580.,\n",
       "       1555., 1554., 1543.,  500.,   77.,    5.,    0.])"
      ]
     },
     "execution_count": 19,
     "metadata": {},
     "output_type": "execute_result"
    }
   ],
   "source": [
    "df['Year'].unique()"
   ]
  },
  {
   "cell_type": "code",
   "execution_count": 20,
   "id": "1380721f",
   "metadata": {},
   "outputs": [
    {
     "data": {
      "text/plain": [
       "array(['USA', 'AUSTRALIA', 'MEXICO', 'BRAZIL', 'ENGLAND', 'SOUTH AFRICA',\n",
       "       'THAILAND', 'COSTA RICA', 'MALDIVES', 'BAHAMAS', 'NEW CALEDONIA',\n",
       "       'ECUADOR', 'MALAYSIA', 'LIBYA', nan, 'CUBA', 'MAURITIUS',\n",
       "       'NEW ZEALAND', 'SPAIN', 'SAMOA', 'SOLOMON ISLANDS', 'JAPAN',\n",
       "       'EGYPT', 'ST HELENA, British overseas territory', 'COMOROS',\n",
       "       'REUNION', 'FRENCH POLYNESIA', 'UNITED KINGDOM',\n",
       "       'UNITED ARAB EMIRATES', 'PHILIPPINES', 'INDONESIA', 'CHINA',\n",
       "       'COLUMBIA', 'CAPE VERDE', 'Fiji', 'DOMINICAN REPUBLIC',\n",
       "       'CAYMAN ISLANDS', 'ARUBA', 'MOZAMBIQUE', 'FIJI', 'PUERTO RICO',\n",
       "       'ITALY', 'ATLANTIC OCEAN', 'GREECE', 'ST. MARTIN', 'FRANCE',\n",
       "       'PAPUA NEW GUINEA', 'TRINIDAD & TOBAGO', 'KIRIBATI', 'ISRAEL',\n",
       "       'DIEGO GARCIA', 'TAIWAN', 'JAMAICA', 'PALESTINIAN TERRITORIES',\n",
       "       'GUAM', 'SEYCHELLES', 'BELIZE', 'NIGERIA', 'TONGA', 'SCOTLAND',\n",
       "       'CANADA', 'CROATIA', 'SAUDI ARABIA', 'CHILE', 'ANTIGUA', 'KENYA',\n",
       "       'RUSSIA', 'TURKS & CAICOS', 'UNITED ARAB EMIRATES (UAE)', 'AZORES',\n",
       "       'SOUTH KOREA', 'MALTA', 'VIETNAM', 'MADAGASCAR', 'PANAMA',\n",
       "       'SOMALIA', 'NEVIS', 'BRITISH VIRGIN ISLANDS', 'NORWAY', 'SENEGAL',\n",
       "       'YEMEN', 'GULF OF ADEN', 'Sierra Leone', 'ST. MAARTIN',\n",
       "       'GRAND CAYMAN', 'Seychelles', 'LIBERIA', 'VANUATU', 'MEXICO ',\n",
       "       'HONDURAS', 'VENEZUELA', 'SRI LANKA', ' TONGA', 'URUGUAY', 'INDIA',\n",
       "       'MICRONESIA', 'CARIBBEAN SEA', 'OKINAWA', 'TANZANIA',\n",
       "       'MARSHALL ISLANDS', 'EGYPT / ISRAEL', 'NORTHERN ARABIAN SEA',\n",
       "       'HONG KONG', 'EL SALVADOR', 'ANGOLA', 'BERMUDA', 'MONTENEGRO',\n",
       "       'IRAN', 'TUNISIA', 'NAMIBIA', 'NORTH ATLANTIC OCEAN', 'PORTUGAL',\n",
       "       'SOUTH CHINA SEA', 'BANGLADESH', 'PALAU', 'WESTERN SAMOA',\n",
       "       'PACIFIC OCEAN ', 'BRITISH ISLES', 'GRENADA', 'IRAQ', 'TURKEY',\n",
       "       'SINGAPORE', 'NEW BRITAIN', 'SUDAN', 'JOHNSTON ISLAND',\n",
       "       'SOUTH PACIFIC OCEAN', 'NEW GUINEA', 'RED SEA',\n",
       "       'NORTH PACIFIC OCEAN', 'FEDERATED STATES OF MICRONESIA',\n",
       "       'MID ATLANTIC OCEAN', 'ADMIRALTY ISLANDS', 'BRITISH WEST INDIES',\n",
       "       'SOUTH ATLANTIC OCEAN', 'PERSIAN GULF', 'RED SEA / INDIAN OCEAN',\n",
       "       'PACIFIC OCEAN', 'NORTH SEA', 'NICARAGUA ', 'MALDIVE ISLANDS',\n",
       "       'AMERICAN SAMOA', 'ANDAMAN / NICOBAR ISLANDAS', 'GABON', 'MAYOTTE',\n",
       "       'NORTH ATLANTIC OCEAN ', 'THE BALKANS', 'SUDAN?', 'ARGENTINA',\n",
       "       'MARTINIQUE', 'INDIAN OCEAN', 'GUATEMALA', 'NETHERLANDS ANTILLES',\n",
       "       'NORTHERN MARIANA ISLANDS', 'IRAN / IRAQ', 'JAVA', 'SIERRA LEONE',\n",
       "       ' PHILIPPINES', 'NICARAGUA', 'CENTRAL PACIFIC',\n",
       "       'SOLOMON ISLANDS / VANUATU', 'SOUTHWEST PACIFIC OCEAN',\n",
       "       'BAY OF BENGAL', 'MID-PACIFC OCEAN', 'SLOVENIA', 'CURACAO',\n",
       "       'ICELAND', 'ITALY / CROATIA', 'BARBADOS', 'MONACO', 'GUYANA',\n",
       "       'HAITI', 'SAN DOMINGO', 'IRELAND', 'KUWAIT', 'YEMEN ',\n",
       "       'REUNION ISLAND', 'FALKLAND ISLANDS', 'CRETE', 'CYPRUS', 'EGYPT ',\n",
       "       'WEST INDIES', 'BURMA', 'LEBANON', 'PARAGUAY',\n",
       "       'BRITISH NEW GUINEA', 'CEYLON', 'OCEAN', 'GEORGIA', 'SYRIA',\n",
       "       'TUVALU', 'INDIAN OCEAN?', 'GUINEA', 'ANDAMAN ISLANDS',\n",
       "       'EQUATORIAL GUINEA / CAMEROON', 'COOK ISLANDS', 'TOBAGO', 'PERU',\n",
       "       'AFRICA', 'ALGERIA', 'Coast of AFRICA', 'TASMAN SEA', 'GHANA',\n",
       "       'GREENLAND', 'MEDITERRANEAN SEA', 'SWEDEN', 'ROATAN',\n",
       "       'Between PORTUGAL & INDIA', 'DJIBOUTI', 'BAHREIN', 'KOREA',\n",
       "       'RED SEA?', 'ASIA?', 'CEYLON (SRI LANKA)'], dtype=object)"
      ]
     },
     "execution_count": 20,
     "metadata": {},
     "output_type": "execute_result"
    }
   ],
   "source": [
    "df['Country'].unique()"
   ]
  },
  {
   "cell_type": "code",
   "execution_count": 21,
   "id": "37c89e13",
   "metadata": {},
   "outputs": [
    {
     "data": {
      "text/plain": [
       "array(['No injury to occupant, outrigger canoe and paddle damaged',\n",
       "       'Minor injury to left thigh',\n",
       "       'Injury to left lower leg from surfboard skeg', ...,\n",
       "       'FATAL, leg stripped of flesh  ',\n",
       "       'FATAL, knocked overboard by tail of shark & carried off by shark ',\n",
       "       'FATAL. \"Shark bit him in half, carrying away the lower extremities\" '],\n",
       "      dtype=object)"
      ]
     },
     "execution_count": 21,
     "metadata": {},
     "output_type": "execute_result"
    }
   ],
   "source": [
    "df['Injury'].unique()"
   ]
  },
  {
   "cell_type": "code",
   "execution_count": 22,
   "id": "fd074dbf",
   "metadata": {},
   "outputs": [
    {
     "data": {
      "text/plain": [
       "USA                       2229\n",
       "AUSTRALIA                 1338\n",
       "SOUTH AFRICA               579\n",
       "PAPUA NEW GUINEA           134\n",
       "NEW ZEALAND                128\n",
       "                          ... \n",
       "MALDIVE ISLANDS              1\n",
       "NICARAGUA                    1\n",
       "NORTH SEA                    1\n",
       "RED SEA / INDIAN OCEAN       1\n",
       "CEYLON (SRI LANKA)           1\n",
       "Name: Country, Length: 212, dtype: int64"
      ]
     },
     "execution_count": 22,
     "metadata": {},
     "output_type": "execute_result"
    }
   ],
   "source": [
    "df['Country'].value_counts()"
   ]
  },
  {
   "cell_type": "code",
   "execution_count": 23,
   "id": "0e800e29",
   "metadata": {
    "scrolled": true
   },
   "outputs": [
    {
     "data": {
      "text/plain": [
       "Unprovoked      4595\n",
       "Provoked         574\n",
       "Invalid          547\n",
       "Sea Disaster     239\n",
       "Boating          203\n",
       "Boat             137\n",
       "Questionable       2\n",
       "Boatomg            1\n",
       "Name: Type, dtype: int64"
      ]
     },
     "execution_count": 23,
     "metadata": {},
     "output_type": "execute_result"
    }
   ],
   "source": [
    "df['Type'].value_counts()"
   ]
  },
  {
   "cell_type": "code",
   "execution_count": 24,
   "id": "9c37575b",
   "metadata": {},
   "outputs": [],
   "source": [
    "# The column of 'Fatal (Y/N)' it is going to be used for all my hypotheses, so it will be the first column I am going to clean with the function replace"
   ]
  },
  {
   "cell_type": "code",
   "execution_count": 25,
   "id": "344593b7",
   "metadata": {},
   "outputs": [],
   "source": [
    "df['Fatal (Y/N)'].replace({' N': 'N', 'M': 'UNKNOWN', '2017': 'UNKNOWN', 'N ': 'N', 'y': 'Y'}, inplace=True)"
   ]
  },
  {
   "cell_type": "code",
   "execution_count": 26,
   "id": "3382219d",
   "metadata": {},
   "outputs": [
    {
     "data": {
      "text/plain": [
       "N          4301\n",
       "Y          1389\n",
       "UNKNOWN      73\n",
       "Name: Fatal (Y/N), dtype: int64"
      ]
     },
     "execution_count": 26,
     "metadata": {},
     "output_type": "execute_result"
    }
   ],
   "source": [
    "df['Fatal (Y/N)'].value_counts()"
   ]
  },
  {
   "cell_type": "code",
   "execution_count": 27,
   "id": "c367579f",
   "metadata": {},
   "outputs": [],
   "source": [
    "# Finally, for my hipotheses #1 I want to see if the mortality of the shark attacks has decreased over time. \n",
    "# However, I have identified there are some cases which date from year 0, 50, 500, etc. so I am going to test this hypotheses for the last 2 centuries.\n",
    "# So now I am going to remove the rows from 6133 to 6301 which are where those values are in, as identified below"
   ]
  },
  {
   "cell_type": "code",
   "execution_count": 28,
   "id": "10b59371",
   "metadata": {
    "scrolled": true
   },
   "outputs": [
    {
     "name": "stdout",
     "output_type": "stream",
     "text": [
      "[2018.0, 2017.0, nan, 2016.0, 2015.0, 2014.0, 2013.0, 2012.0, 2011.0, 2010.0, 2009.0, 2008.0, 2007.0, 2006.0, 2005.0, 2004.0, 2003.0, 2002.0, 2001.0, 2000.0, 1999.0, 1998.0, 1997.0, 1996.0, 1995.0, 1984.0, 1994.0, 1993.0, 1992.0, 1991.0, 1990.0, 1989.0, 1969.0, 1988.0, 1987.0, 1986.0, 1985.0, 1983.0, 1982.0, 1981.0, 1980.0, 1979.0, 1978.0, 1977.0, 1976.0, 1975.0, 1974.0, 1973.0, 1972.0, 1971.0, 1970.0, 1968.0, 1967.0, 1966.0, 1965.0, 1964.0, 1963.0, 1962.0, 1961.0, 1960.0, 1959.0, 1958.0, 1957.0, 1956.0, 1955.0, 1954.0, 1953.0, 1952.0, 1951.0, 1950.0, 1949.0, 1948.0, 1848.0, 1947.0, 1946.0, 1945.0, 1944.0, 1943.0, 1942.0, 1941.0, 1940.0, 1939.0, 1938.0, 1937.0, 1936.0, 1935.0, 1934.0, 1933.0, 1932.0, 1931.0, 1930.0, 1929.0, 1928.0, 1927.0, 1926.0, 1925.0, 1924.0, 1923.0, 1922.0, 1921.0, 1920.0, 1919.0, 1918.0, 1917.0, 1916.0, 1915.0, 1914.0, 1913.0, 1912.0, 1911.0, 1910.0, 1909.0, 1908.0, 1907.0, 1906.0, 1905.0, 1904.0, 1903.0, 1902.0, 1901.0, 1900.0, 1899.0, 1898.0, 1897.0, 1896.0, 1895.0, 1894.0, 1893.0, 1892.0, 1891.0, 1890.0, 1889.0, 1888.0, 1887.0, 1886.0, 1885.0, 1884.0, 1883.0, 1882.0, 1881.0, 1880.0, 1879.0, 1878.0, 1877.0, 1876.0, 1875.0, 1874.0, 1873.0, 1872.0, 1871.0, 1870.0, 1869.0, 1868.0, 1867.0, 1866.0, 1865.0, 1864.0, 1863.0, 1862.0, 1861.0, 1860.0, 1859.0, 1858.0, 1857.0, 1856.0, 1855.0, 1853.0, 1852.0, 1851.0, 1850.0, 1849.0, 1847.0, 1846.0, 1845.0, 1844.0, 1842.0, 1841.0, 1840.0, 1839.0, 1837.0, 1836.0, 1835.0, 1834.0, 1832.0, 1831.0, 1830.0, 1829.0, 1828.0, 1827.0, 1826.0, 1825.0, 1823.0, 1822.0, 1819.0, 1818.0, 1817.0, 1816.0, 1815.0, 1812.0, 1811.0, 1810.0, 1808.0, 1807.0, 1805.0, 1804.0, 1803.0, 1802.0, 1801.0, 1800.0, 1797.0, 1792.0, 1791.0, 1788.0, 1787.0, 1786.0, 1785.0, 1784.0, 1783.0, 1780.0, 1779.0, 1776.0, 1771.0, 1767.0, 1764.0, 1758.0, 1753.0, 1751.0, 1749.0, 1755.0, 1748.0, 1742.0, 1738.0, 1733.0, 1723.0, 1721.0, 1703.0, 1700.0, 1642.0, 1638.0, 1637.0, 1617.0, 1595.0, 1580.0, 1555.0, 1554.0, 1543.0, 500.0, 77.0, 5.0, 0.0]\n"
     ]
    }
   ],
   "source": [
    "print(list(df['Year'].unique()))"
   ]
  },
  {
   "cell_type": "code",
   "execution_count": 29,
   "id": "5232046c",
   "metadata": {},
   "outputs": [],
   "source": [
    "sharks = df.loc[df['Year'] >= 1800.0]"
   ]
  },
  {
   "cell_type": "code",
   "execution_count": 30,
   "id": "b0d595c8",
   "metadata": {
    "scrolled": true
   },
   "outputs": [
    {
     "data": {
      "text/plain": [
       "array([2018., 2017., 2016., 2015., 2014., 2013., 2012., 2011., 2010.,\n",
       "       2009., 2008., 2007., 2006., 2005., 2004., 2003., 2002., 2001.,\n",
       "       2000., 1999., 1998., 1997., 1996., 1995., 1984., 1994., 1993.,\n",
       "       1992., 1991., 1990., 1989., 1969., 1988., 1987., 1986., 1985.,\n",
       "       1983., 1982., 1981., 1980., 1979., 1978., 1977., 1976., 1975.,\n",
       "       1974., 1973., 1972., 1971., 1970., 1968., 1967., 1966., 1965.,\n",
       "       1964., 1963., 1962., 1961., 1960., 1959., 1958., 1957., 1956.,\n",
       "       1955., 1954., 1953., 1952., 1951., 1950., 1949., 1948., 1848.,\n",
       "       1947., 1946., 1945., 1944., 1943., 1942., 1941., 1940., 1939.,\n",
       "       1938., 1937., 1936., 1935., 1934., 1933., 1932., 1931., 1930.,\n",
       "       1929., 1928., 1927., 1926., 1925., 1924., 1923., 1922., 1921.,\n",
       "       1920., 1919., 1918., 1917., 1916., 1915., 1914., 1913., 1912.,\n",
       "       1911., 1910., 1909., 1908., 1907., 1906., 1905., 1904., 1903.,\n",
       "       1902., 1901., 1900., 1899., 1898., 1897., 1896., 1895., 1894.,\n",
       "       1893., 1892., 1891., 1890., 1889., 1888., 1887., 1886., 1885.,\n",
       "       1884., 1883., 1882., 1881., 1880., 1879., 1878., 1877., 1876.,\n",
       "       1875., 1874., 1873., 1872., 1871., 1870., 1869., 1868., 1867.,\n",
       "       1866., 1865., 1864., 1863., 1862., 1861., 1860., 1859., 1858.,\n",
       "       1857., 1856., 1855., 1853., 1852., 1851., 1850., 1849., 1847.,\n",
       "       1846., 1845., 1844., 1842., 1841., 1840., 1839., 1837., 1836.,\n",
       "       1835., 1834., 1832., 1831., 1830., 1829., 1828., 1827., 1826.,\n",
       "       1825., 1823., 1822., 1819., 1818., 1817., 1816., 1815., 1812.,\n",
       "       1811., 1810., 1808., 1807., 1805., 1804., 1803., 1802., 1801.,\n",
       "       1800.])"
      ]
     },
     "execution_count": 30,
     "metadata": {},
     "output_type": "execute_result"
    }
   ],
   "source": [
    "sharks['Year'].unique()"
   ]
  },
  {
   "cell_type": "code",
   "execution_count": 31,
   "id": "7f5f3e79",
   "metadata": {},
   "outputs": [],
   "source": [
    "# The values in column 'Year' are floats, I want them now to be int because it is much clear for a number\n",
    "sharks['Year'] = sharks['Year'].astype(dtype=int)"
   ]
  },
  {
   "cell_type": "code",
   "execution_count": 32,
   "id": "ba15d25a",
   "metadata": {},
   "outputs": [
    {
     "data": {
      "text/plain": [
       "array([2018, 2017, 2016, 2015, 2014, 2013, 2012, 2011, 2010, 2009, 2008,\n",
       "       2007, 2006, 2005, 2004, 2003, 2002, 2001, 2000, 1999, 1998, 1997,\n",
       "       1996, 1995, 1984, 1994, 1993, 1992, 1991, 1990, 1989, 1969, 1988,\n",
       "       1987, 1986, 1985, 1983, 1982, 1981, 1980, 1979, 1978, 1977, 1976,\n",
       "       1975, 1974, 1973, 1972, 1971, 1970, 1968, 1967, 1966, 1965, 1964,\n",
       "       1963, 1962, 1961, 1960, 1959, 1958, 1957, 1956, 1955, 1954, 1953,\n",
       "       1952, 1951, 1950, 1949, 1948, 1848, 1947, 1946, 1945, 1944, 1943,\n",
       "       1942, 1941, 1940, 1939, 1938, 1937, 1936, 1935, 1934, 1933, 1932,\n",
       "       1931, 1930, 1929, 1928, 1927, 1926, 1925, 1924, 1923, 1922, 1921,\n",
       "       1920, 1919, 1918, 1917, 1916, 1915, 1914, 1913, 1912, 1911, 1910,\n",
       "       1909, 1908, 1907, 1906, 1905, 1904, 1903, 1902, 1901, 1900, 1899,\n",
       "       1898, 1897, 1896, 1895, 1894, 1893, 1892, 1891, 1890, 1889, 1888,\n",
       "       1887, 1886, 1885, 1884, 1883, 1882, 1881, 1880, 1879, 1878, 1877,\n",
       "       1876, 1875, 1874, 1873, 1872, 1871, 1870, 1869, 1868, 1867, 1866,\n",
       "       1865, 1864, 1863, 1862, 1861, 1860, 1859, 1858, 1857, 1856, 1855,\n",
       "       1853, 1852, 1851, 1850, 1849, 1847, 1846, 1845, 1844, 1842, 1841,\n",
       "       1840, 1839, 1837, 1836, 1835, 1834, 1832, 1831, 1830, 1829, 1828,\n",
       "       1827, 1826, 1825, 1823, 1822, 1819, 1818, 1817, 1816, 1815, 1812,\n",
       "       1811, 1810, 1808, 1807, 1805, 1804, 1803, 1802, 1801, 1800])"
      ]
     },
     "execution_count": 32,
     "metadata": {},
     "output_type": "execute_result"
    }
   ],
   "source": [
    "sharks['Year'].unique()"
   ]
  },
  {
   "cell_type": "code",
   "execution_count": 33,
   "id": "0fef2006",
   "metadata": {},
   "outputs": [],
   "source": [
    "# Now for the column 'Time', I need to use this column for my 2nd hypotheses "
   ]
  },
  {
   "cell_type": "code",
   "execution_count": 34,
   "id": "543432e2",
   "metadata": {
    "scrolled": true
   },
   "outputs": [
    {
     "data": {
      "text/plain": [
       "Afternoon      183\n",
       "11h00          128\n",
       "Morning        120\n",
       "12h00          109\n",
       "15h00          108\n",
       "              ... \n",
       "14h37            1\n",
       "10h07            1\n",
       "13h53            1\n",
       "13h23            1\n",
       "19h00-20h00      1\n",
       "Name: Time, Length: 366, dtype: int64"
      ]
     },
     "execution_count": 34,
     "metadata": {},
     "output_type": "execute_result"
    }
   ],
   "source": [
    "sharks['Time'].value_counts()"
   ]
  },
  {
   "cell_type": "code",
   "execution_count": 35,
   "id": "e731bc73",
   "metadata": {},
   "outputs": [],
   "source": [
    "# To clean this column, I need a function to identify the first 2 items of the strings and based on that replace them with the moment of the day\n",
    "# But first, I am going to take all the random values which are not going to be captured by my function "
   ]
  },
  {
   "cell_type": "code",
   "execution_count": 36,
   "id": "fc59fe3c",
   "metadata": {},
   "outputs": [],
   "source": [
    "sharks['Time'].replace({'Late afternoon': 'Afternoon', 'Midday': 'Afternoon', 'Shortly before 12h00': 'Morning', 'After noon': 'Afternoon', 'Morning ': 'Morning', 'Midnight': 'Night', 'Sometime between 06h00 & 08hoo': 'Morning', 'Early afternoon': 'Afternoon', 'Just before noon': 'Morning', 'Early morning': 'Morning', 'Dawn': 'Night', 'Dusk': 'Night', 'Lunchtime': 'Afternoon', 'Before 07h00': 'Night', '\"Just before 11h00\"': 'Morning', 'Between 05h00 and 08h00': 'Morning', '>08h00': 'Morning', 'AM': 'Morning', 'A.M.': 'Morning', 'Sunset': 'Evening', '\"Evening\"': 'Evening', 'Just before sundown': 'Evening', '--': 'Nan', 'Just after 12h00': 'Afternoon', 'Early Morning': 'Morning', 'Shortly after midnight': ' Night', '\\xa0 ': 'Nan', '20h45 (Sunset)': 'Night', 'Late morning': 'Morning', '19h00, Dusk': 'Evening', 'Shortly before 13h00': 'Afternoon', 'Possibly same incident as 2000.08.21': 'Nan', 'After Dusk': 'Evening', 'Noon': 'Afternoon', ' Night': 'Night', 'P.M.': 'Evening', '8:04 pm': 'Evening', '2 hours after Opperman': 'NaN', 'Mid afternoon': 'Afternoon', 'Mid morning': 'Morning', '\"Night\"': 'Night', '30 minutes after 1992.07.08.a': 'Nan', '>06h45': 'Morning', 'Between 06h00 & 07h20': 'Morning', '<07h30': 'Morning', '17h00 Sunset': 'Evening', 'Nightfall': 'Night', 'X': 'NaN', '18h30 (Sunset)': 'Evening', 'Prior to 10h37': 'Morning', 'Daybreak': 'Afternoon', '>12h00': 'Afternoon', 'Mid-morning': 'Morning', 'Just before dawn': 'Night', 'Daytime': 'Morning', 'Dark': 'Night', '\"After lunch\"': 'Afternoon', 'After dusk': 'Night', 'FATAL  (Wire netting installed at local beaches after this incident.)': 'NaN', 'After midnight': 'Night', 'Late afternon': 'Afternoon', '\"Early evening\"': 'Evening', 'Late Afternoon': 'Afternoon', '   ': 'NaN', 'Before daybreak': 'Morning', 'dusk': 'Night', 'Before 10h30': 'Morning', '>17h00': 'Evening', 'night': 'Night', 'Late night': 'Night', 'Midday.': 'Afternoon', '\"After dark\"': 'Night', '2 hrs before sunset': 'Evening', '\"shortly before dusk\"': 'Night', 'Between 11h00 & 12h00': 'Morning', 'After 04h00': 'Night', 'Ship aban-doned at 03h10': 'Night', '>17h30': 'Evening', '>14h30': 'Afternoon', '11h01 -time of ship sinking': 'Morning'}, inplace=True)"
   ]
  },
  {
   "cell_type": "code",
   "execution_count": 37,
   "id": "6cdcdd7e",
   "metadata": {
    "scrolled": true
   },
   "outputs": [
    {
     "name": "stdout",
     "output_type": "stream",
     "text": [
      "['18h00', '14h00  -15h00', '07h45', nan, 'Afternoon', '17h00', '14h00', 'Morning', '15h00', '08h15', '11h00', '10h30', '10h40', '16h50', '07h00', '09h30', '21h50', '09h40', '08h00', '17h35', '15h30', '07h30', 'Evening', 'Night', '16h00', '15h01', '12h00', '13h45', '23h30', '09h00', '14h30', '18h30', '12h30', '16h30', '18h45', '06h00', '10h00', '10h44', '13h19', '13h30', '10h45', '11h20', '11h45', '19h30', '08h30', '15h45', '17h34', '17h10', '11h15', '08h50', '17h45', '13h00', '10h20', '13h20', '02h00', '09h50', '11h30', '17h30', '9h00', '10h43', '15h15', '15h40', '19h05', '1300', '14h30 / 15h30', '22h00', '16h20', '14h34', '15h25', '14h55', '17h46', '15h49', '19h00', '09h30 / 10h00', '10h15', '18h15', '04h00', '14h50', '13h50', '19h20', '10h25', '10h45-11h15', '16h45', '15h52', '06h15', '14h40', '19h45', '10h10', '08h45', '12h10', '18h05', '11h41', '12h25', '17h51', '16h12', '12h45', '10h50', '14h15', '09h45', '06h45', '05h00', '03h30', '06h30', '17h20', '20h00', '16h40', '16h18', '11h10', '17h50', '07h00 - 08h00', '18h15-18h30', '17h01', '09h57', '08h20', '17h58', '20h30', '15h19', '10h55', '15h55', '23h00', '12h40', '13h55', '16h05', '14h10', '15h20', '12h50', '14h45', '13h40', '13h24', '09h00 - 09h30', '0830', '11h40', '08h10', '15h56', '14h20', '07h56', '1600', '17h17', '16h35', '09h05', '07h15', '07h20', '19h28', '12h38', '05h50', '15h50', '11h05', '05h45', '13h25', '12h20', '13h26', '09h11', '12h15', '13h15', '18h20', '15h35', '13h51', '08h05', '19h15', '10h35', '15h44', '21h00', '15j45', '09h35', '10h27', '10h16', '0500', '09h20', '10h00 -- 11h00', '12h05', '14h21', '18h50', '15h53', '11h115', '13h42', '20h15', '12h39', '07h05', '  ', '13h05', '11h50', '17h55', '22h30', '17h15', '16h10', '11h30 ', '06h10', '16h15', '07h08', '17h00 or 17h40', '03h00', 'Nan', '12h02', '12h55', '16h14', '17h11', '00h30', '14h37', '10h07', '13h53', '11h55', '13h23', '02h30', '08h40', '11h56', '14h35', ' ', '07h50', ' Night', '14h25', '13h345', '06h47', '09h00 -10h00', '18h40', '13h14', '13h06', '12h34', '11h53', '12h46', '12h48', '17h42', '12h35', '11h57', '17h40', '11h25', '18h25', '10h28', '09h15', '14h16', '09h55', 'NaN', '15h05', '09h30 ', '11h48', '11h00 / 11h30', '07h19', '13h37', '11h06', '18h30?', '11h58', '11h51', '18h12', '07h10', '07h40', '12h33', '15h06', '12h54', '16h55', '05h40', '21h30', '08h57', '06j00', '08h35', '10h22', '02h45', '18h10', '08h55', '16h30 or 18h00', ' 14h00', '06h50', '01h00', '10h00 / 11h00', '07h32', '15h00 or 15h45', '19h00 / 20h00', '12h45 / 13h45', '14h00 - 15h00', '03h45 - 04h00', '13h10', '09h30 / 15h30', '08h00 / 09h30', '19h35', '12h00 to 14h00', '13h35', '01h32', '10h30 or 13h30', '16h23', '15h00j', '10h00 or 14h00', '19h10', '16h25', '18h15 to 21h30', '1500', '19h55', '01h30', '05h30', '08h58', '06h00 -- 07h00', '01h50', '17h00-18h00', '19h00-20h00']\n"
     ]
    }
   ],
   "source": [
    "print(list(sharks['Time'].unique()))"
   ]
  },
  {
   "cell_type": "code",
   "execution_count": 38,
   "id": "08c683fb",
   "metadata": {},
   "outputs": [],
   "source": [
    "# Now I can apply my function to the column to only have 4 values in this column"
   ]
  },
  {
   "cell_type": "code",
   "execution_count": 39,
   "id": "44192b92",
   "metadata": {},
   "outputs": [],
   "source": [
    "sharks['Time'].fillna('Unknown', inplace=True)"
   ]
  },
  {
   "cell_type": "code",
   "execution_count": 40,
   "id": "558765c4",
   "metadata": {},
   "outputs": [],
   "source": [
    "sharks['Time3'] = sharks['Time'].apply(fc.cambia_hora)"
   ]
  },
  {
   "cell_type": "code",
   "execution_count": 41,
   "id": "d7790628",
   "metadata": {},
   "outputs": [
    {
     "data": {
      "text/html": [
       "<div>\n",
       "<style scoped>\n",
       "    .dataframe tbody tr th:only-of-type {\n",
       "        vertical-align: middle;\n",
       "    }\n",
       "\n",
       "    .dataframe tbody tr th {\n",
       "        vertical-align: top;\n",
       "    }\n",
       "\n",
       "    .dataframe thead th {\n",
       "        text-align: right;\n",
       "    }\n",
       "</style>\n",
       "<table border=\"1\" class=\"dataframe\">\n",
       "  <thead>\n",
       "    <tr style=\"text-align: right;\">\n",
       "      <th></th>\n",
       "      <th>Case Number</th>\n",
       "      <th>Date</th>\n",
       "      <th>Year</th>\n",
       "      <th>Type</th>\n",
       "      <th>Country</th>\n",
       "      <th>Activity</th>\n",
       "      <th>Name</th>\n",
       "      <th>Sex</th>\n",
       "      <th>Age</th>\n",
       "      <th>Injury</th>\n",
       "      <th>Fatal (Y/N)</th>\n",
       "      <th>Time</th>\n",
       "      <th>Species</th>\n",
       "      <th>Time3</th>\n",
       "    </tr>\n",
       "  </thead>\n",
       "  <tbody>\n",
       "    <tr>\n",
       "      <th>0</th>\n",
       "      <td>2018.06.25</td>\n",
       "      <td>25-Jun-2018</td>\n",
       "      <td>2018</td>\n",
       "      <td>Boating</td>\n",
       "      <td>USA</td>\n",
       "      <td>Paddling</td>\n",
       "      <td>Julie Wolfe</td>\n",
       "      <td>F</td>\n",
       "      <td>57</td>\n",
       "      <td>No injury to occupant, outrigger canoe and pad...</td>\n",
       "      <td>N</td>\n",
       "      <td>18h00</td>\n",
       "      <td>White shark</td>\n",
       "      <td>Evening</td>\n",
       "    </tr>\n",
       "    <tr>\n",
       "      <th>1</th>\n",
       "      <td>2018.06.18</td>\n",
       "      <td>18-Jun-2018</td>\n",
       "      <td>2018</td>\n",
       "      <td>Unprovoked</td>\n",
       "      <td>USA</td>\n",
       "      <td>Standing</td>\n",
       "      <td>Adyson McNeely</td>\n",
       "      <td>F</td>\n",
       "      <td>11</td>\n",
       "      <td>Minor injury to left thigh</td>\n",
       "      <td>N</td>\n",
       "      <td>14h00  -15h00</td>\n",
       "      <td>NaN</td>\n",
       "      <td>Afternoon</td>\n",
       "    </tr>\n",
       "    <tr>\n",
       "      <th>2</th>\n",
       "      <td>2018.06.09</td>\n",
       "      <td>09-Jun-2018</td>\n",
       "      <td>2018</td>\n",
       "      <td>Invalid</td>\n",
       "      <td>USA</td>\n",
       "      <td>Surfing</td>\n",
       "      <td>John Denges</td>\n",
       "      <td>M</td>\n",
       "      <td>48</td>\n",
       "      <td>Injury to left lower leg from surfboard skeg</td>\n",
       "      <td>N</td>\n",
       "      <td>07h45</td>\n",
       "      <td>NaN</td>\n",
       "      <td>Morning</td>\n",
       "    </tr>\n",
       "    <tr>\n",
       "      <th>3</th>\n",
       "      <td>2018.06.08</td>\n",
       "      <td>08-Jun-2018</td>\n",
       "      <td>2018</td>\n",
       "      <td>Unprovoked</td>\n",
       "      <td>AUSTRALIA</td>\n",
       "      <td>Surfing</td>\n",
       "      <td>male</td>\n",
       "      <td>M</td>\n",
       "      <td>NaN</td>\n",
       "      <td>Minor injury to lower leg</td>\n",
       "      <td>N</td>\n",
       "      <td>Unknown</td>\n",
       "      <td>2 m shark</td>\n",
       "      <td>Unknown</td>\n",
       "    </tr>\n",
       "    <tr>\n",
       "      <th>4</th>\n",
       "      <td>2018.06.04</td>\n",
       "      <td>04-Jun-2018</td>\n",
       "      <td>2018</td>\n",
       "      <td>Provoked</td>\n",
       "      <td>MEXICO</td>\n",
       "      <td>Free diving</td>\n",
       "      <td>Gustavo Ramos</td>\n",
       "      <td>M</td>\n",
       "      <td>NaN</td>\n",
       "      <td>Lacerations to leg &amp; hand shark PROVOKED INCIDENT</td>\n",
       "      <td>N</td>\n",
       "      <td>Unknown</td>\n",
       "      <td>Tiger shark, 3m</td>\n",
       "      <td>Unknown</td>\n",
       "    </tr>\n",
       "  </tbody>\n",
       "</table>\n",
       "</div>"
      ],
      "text/plain": [
       "  Case Number         Date  Year        Type    Country     Activity  \\\n",
       "0  2018.06.25  25-Jun-2018  2018     Boating        USA     Paddling   \n",
       "1  2018.06.18  18-Jun-2018  2018  Unprovoked        USA     Standing   \n",
       "2  2018.06.09  09-Jun-2018  2018     Invalid        USA      Surfing   \n",
       "3  2018.06.08  08-Jun-2018  2018  Unprovoked  AUSTRALIA      Surfing   \n",
       "4  2018.06.04  04-Jun-2018  2018    Provoked     MEXICO  Free diving   \n",
       "\n",
       "              Name Sex   Age  \\\n",
       "0      Julie Wolfe    F   57   \n",
       "1  Adyson McNeely     F   11   \n",
       "2      John Denges    M   48   \n",
       "3             male    M  NaN   \n",
       "4   Gustavo Ramos     M  NaN   \n",
       "\n",
       "                                              Injury Fatal (Y/N)  \\\n",
       "0  No injury to occupant, outrigger canoe and pad...           N   \n",
       "1                         Minor injury to left thigh           N   \n",
       "2       Injury to left lower leg from surfboard skeg           N   \n",
       "3                          Minor injury to lower leg           N   \n",
       "4  Lacerations to leg & hand shark PROVOKED INCIDENT           N   \n",
       "\n",
       "            Time         Species       Time3  \n",
       "0          18h00      White shark    Evening  \n",
       "1  14h00  -15h00              NaN  Afternoon  \n",
       "2          07h45              NaN    Morning  \n",
       "3        Unknown        2 m shark    Unknown  \n",
       "4        Unknown  Tiger shark, 3m    Unknown  "
      ]
     },
     "execution_count": 41,
     "metadata": {},
     "output_type": "execute_result"
    }
   ],
   "source": [
    "sharks.head(5)"
   ]
  },
  {
   "cell_type": "code",
   "execution_count": 42,
   "id": "a78bc9ae",
   "metadata": {},
   "outputs": [],
   "source": [
    "# As I am going to use the column Activity for my 3rd hypotheses I need now to see the unique values of the column to then do a regex function"
   ]
  },
  {
   "cell_type": "code",
   "execution_count": 43,
   "id": "fceff43c",
   "metadata": {},
   "outputs": [
    {
     "data": {
      "text/plain": [
       "Surfing                                                        969\n",
       "Swimming                                                       842\n",
       "Fishing                                                        420\n",
       "Spearfishing                                                   332\n",
       "Bathing                                                        156\n",
       "                                                              ... \n",
       "Motor launch Baby Princesa capsized with 22 people on board      1\n",
       "Sea Disaster Sinking of ferryboat Christina                      1\n",
       "Wreck of the 1689-ton Portuguese  coaster Angoche                1\n",
       "Hookah diving (submerged)                                        1\n",
       "a corsair's boat was overturned                                  1\n",
       "Name: Activity, Length: 1487, dtype: int64"
      ]
     },
     "execution_count": 43,
     "metadata": {},
     "output_type": "execute_result"
    }
   ],
   "source": [
    "sharks['Activity'].value_counts()"
   ]
  },
  {
   "cell_type": "code",
   "execution_count": 44,
   "id": "f58b379e",
   "metadata": {
    "scrolled": true
   },
   "outputs": [
    {
     "name": "stdout",
     "output_type": "stream",
     "text": [
      "['Paddling', 'Standing', 'Surfing', 'Free diving', 'Kite surfing', 'Swimming', 'Fishing', 'Walking', 'Feeding sharks', 'Boogie boarding', 'Scuba diving', 'Paddle-skiing', 'Body boarding', 'Windsurfing', 'Stand-Up Paddleboarding', 'Wading', 'Scuba Diving', 'Kayak fishing for sharks', 'Cleaning fish', 'Snorkeling', 'Spearfishing', nan, 'Diving', 'Fishing / Wading', '2 boats capsized', 'Night bathing', 'Surfing ', 'Kayaking / Fishing', 'Kayaking', 'Body surfing', 'Swimming, poaching abalone', 'Canoeing', 'SUP', 'Skimboarding', 'Touching a shark', 'Fishing ', 'Attempting to lasso a shark', 'Photo shoot', 'Paddle boarding', 'Kakaying', 'Washing hands', 'Grabbing shark for a selfie', 'Kayak fishing', 'Tagging sharks', 'Surf skiing ', 'Surf fishing', 'Floating', 'Cage Diving', 'Surfng', 'SUP Foil boarding', 'Lobstering', 'Fishing in Alabama Deep Fishing Rodeo', 'Fishing for squid', 'Fishing for sharks', 'Floating in tube', 'Teasing a shark', 'Surf-skiing', 'Diving for beche-de-mer', 'Feeding stingrays?', 'Kayak Fishing', 'Sea disaster', 'Lobster fishing', 'Swimming / Wading', 'Fishing for shrimp', 'Photographing fish', 'Scallop diving on hookah', 'Treading water', 'Body boarding ', 'Playing in the water', 'Body Boarding', 'Body surfing?', 'Playing', 'Attempting to rescue a shark', 'Photographing the shark', 'Standing / Snorkeling', 'Hand feeding sharks', 'Sitting in the water', 'Transatlantic Rowing', 'Bodysurfing', 'Rowing', 'Shark fishing', 'Surfing & filming dolphins', 'Filming', 'Swimming after falling overboard', 'Diving / Filming', 'Fishing for blue sharks', 'Standing in inner tube', 'Body surfing or Boogie boarding', 'Kayaking ', 'Feeding fish', 'Playing with an air mattress', 'Kite boarding', 'Shark diving', 'Petting a shark', 'Kneeling in the water', 'Fell into the water', 'Shark watching', 'Diving for lobsters', 'Kite Surfing', 'Scuba diving / culling lionfish', 'Kitesurfing', 'Sailing', 'Spearfishing / Free diving', 'Free diving / Photographing pilot whales', 'Filming a documentary', 'Attempting to remove fishing net from submerged object', 'Kiteboarding', 'Diving for crayfish', 'Diving ', 'Swimming / snorkeling', 'Diving for Abalone', 'Casting a net', 'Marathon swimming', 'Longline fishing for sharks', 'Wrangling a shark', 'Attempting to free the shark', 'Walking in surf', 'Swimming ', 'Swimming & snorkeling', 'Boogie Boarding', 'Playing in the surf', 'Fly fishing', \"Fishing - 'tag & release'\", 'Swimming to shore with floatioon devices after boat engine conked out', 'Dragging stranded shark into deeper water', 'Bathing', 'Bodyboarding', 'Swimming or boogie boarding', 'Wading or swimming', 'Free diving ', 'Attempting to rescue an injured & beached shark', 'Free diving / spearfishing', 'Crayfishing', 'Diving, feeding sharks', 'Attempting to Kite surf from Egypt to Saudi Arabia', 'Fishing (illegally)', 'Diving, photographing sharks', 'Wade fishing', 'Jumping in the waves', 'Wade Fishing', 'Standing, collecting sea stars', 'Floating ', 'Swimming or Snorkeling', 'Kayaking or Wave skiing', 'Jet skiing', 'Standing or boogie boardin', 'Kite Boarding', 'Washing sand off a speared fish', 'Standing, holding shark pup', 'Diving / fishing', 'Wakeboarding', 'Diving for abalone', 'Shark fishing on the Ricardo Astorga', 'Shark fishing on the Don Agustín-VI. ', 'Attempting to fix motor', 'Swimming /  Whale Watching', 'Swimming after boat became disabled', 'Rescuing', 'Measuring sharks', 'Swimming / treading water', 'Surf fishing / wading', 'Spearfishing (free diving)', 'Paddling on kneeboard', 'Swimming to shore from capsized kayak', 'Paddle-boarding', 'Swimming, attempting to rescue a girl  believed to be drowning', 'Washing his feet', 'Paddle-surfing', 'Crawling', 'Diving, but on the surface when bitten by the shark', 'Air Disaster', 'Crabbing', 'Yacht race', 'Sinking of the cargo ship Mark Jason', 'Fishing boat swamped in storm', 'Swimming, towing surfboard', 'Swimming or surfing', 'Rowing an inflatable dinghy', 'Sea Disaster', 'Night diving', 'Free-diving', 'Walking out of the water after surfing', 'Fishing from surfski', \"Accidentally stood on hooked shark's tail before attempting to gut it \", 'Attempting to chase shark out to sea', 'Fishing for snapper', 'Removing fish from a trap', 'The 426-ton cargo ship Mia, laden with cement, capsized in heavy seas ', 'Wading?', 'Jumping', 'Floating near boat & observing bioluminesce', 'Jumped into the water', 'Surf paddling', 'Murder', 'Removing hook from shark', 'Reviving a sedated shark', 'Shark tagging', 'Swimming / jumping off a jetty', 'Playing on a sandbar', 'Shrimping', 'Swimming / Body Surfing', 'Playing soccer in the water', 'Free diving / modeling', 'Diving / Kissing the shark', 'Lifesaving drill', 'Touching sharks', 'Competing in the Woodvale Atlantic Rowing Race', 'Night Surfing', 'Standing / Surfing', 'Treading water/ Surfing', 'Removing shark from net', 'Boogie boarding, kicked at object in the water', 'Scuba diving in aquarium tank', 'Holding onto an inflatable boat', 'Swimming with boogie board', 'Spearfishing (Free diving)', \"Crouching in 2' of water\", 'SCUBA Diving', 'Diving in aquarium display tank', 'Attempting to drive shark away from sailing regatta', 'Fishing from a kayak', 'Swept out to sea by the tsunami, she clung  to a log for 24 hours', 'Scurfing (surfboard being  towed behind a boat)', 'Chumming for white sharks', 'Spearfishing/ filming', 'Diving & fishing with net', 'Wading / fishing & carrying a bag of fish', 'Fishing for squid aboard the trawler Shikishima-Maru when the shark leapt into the boat', 'In water with diving seabirds', 'Swimming, poaching perlemoen', 'Boogie-boarding / swimming', 'Free diving & spearfishing', 'Tandem surfing', 'Five men on makeshift raft after their 10 m fishing boat  capsized and sank in rough seas. Survivors rescued after  7.5 hours in the water', 'Surf skiing', 'Kayaking (returning from spearfishing)', 'Air disaster. Flash Airlines Boeing 737 crashed into the Red Sea', 'Swimming / shipwreck', 'Surfing amid a shoal of sharks', 'Swimming to shore from boat or kayak', 'Sitting on surfboard', 'Wading near a fishing net', 'Wading to shore from his boat', 'Standing, stepped on shark', 'Wade-fishing', 'Swimming, wearing black wetsuit & swim fins', 'Walking, carrying surfboard & stepped on shark', 'Swimming with pod of dolphins', 'Killing  sharks', 'Swimming (using a float)', 'Petting captive sharks', 'Unknown', \"Fishing, standing in 2' of water\", 'Fishing from Surfboard', 'Boogie boarding or Surfing', 'Wading, when he stepped on the shark', 'Shark Fishing', 'Attempting to retreive a dinghy', 'Snorkeling (filming the sardine run)', 'Floating on a raft', 'Fishing, removing the shark from his line', 'Playing in the surf with his 2 dogs', 'Collecting beche-de-mer', 'Fishing from prawn trawler', 'Scallop diving (using surface-supplied air & a POD) ', 'Fishing (Drowned 2-Apr-2002)', 'Surfing, but standing in water alongside board', 'Body-boarding', 'Swimming /  boogie boarding', 'Capsized fishing boat', 'Kite-Boarding', 'Surfing, fell off surfboard & stepped on the shark.', 'Wreck / Technical diving', 'Walking in shallows', 'Fell off banana boat', 'Floating face-down in knee-deep water', 'Hiking on the beach', 'Spearfishing, carrying his catch', 'Standing alongside surfboard', 'Batin', 'Attempting to catch a crocodile', \"Sinking of the 40' Esperanza off St. Maartin with 36 refugees on board\", 'Fishing for whiting', 'Swimming back from anchored sailboat', 'Diving for sea urchins', 'Diving (shell maintenance)', 'Shipwrecked', 'Fell onto dead shark', 'Standing / surfing', 'Swimming / Body surfing', 'Conducting research', 'Swimming out to porpoises ', 'Windsurfing, but sitting on his board', 'Surfing / Wading', 'Attempting to illegally enter the USA', 'Spearfishing, holding mesh bag with speared fish', 'Air Disaster - Piper aircraft crashed into the sea, killing all on board', 'Boogie boarding / wading', 'Feeding prawns to captive sharks', 'Canoe with 3 men onboard sank', 'Fishing for tarpon', 'Surfing (sitting on his board)', 'Spearfishing, but swimming at surface', 'Surfing, lying on surfboard', 'Wading to shore after surfing', 'Wading with surfboard', \"Lying prone in 2' of water\", 'Spearfishing & holding catch', 'Swimming with dolphins', 'Wading in school of baitfish', 'Adrift in a life jacket', 'Splashing / wading', 'Swimming after being swept into sea by a large wave', 'Spearfishing & diving for paua', \"Scientific research (Dr. Sonny Gruber's student)\", 'Swimming, towing a kayak', 'Body surfing or body boarding', 'Swimming near pod of whales', 'Cruising', 'Paddle Skiing', 'Inflatable boat', 'Splashing', 'Fishing for tuna', 'Fishing / washing bait off hands', 'Moving a shark in a net ', 'Surfing (or body boarding)', 'Free diving for abalone', 'Swimming / surfing', 'Towing rubber dinghy', 'Surfing (lying prone on his board)', 'Snorkeling \\x96 hunting crayfish and abalone', 'Swimming or paddle boarding', 'Spearfishing on scuba & transferring fish onto a stringer', 'Scuba diving (submerged riding a scooter)', 'Body boarding or surfing', 'Fishingat', 'Walking / surfing', 'SCUBA diving', 'Floating on raft', 'Wading / Surfing', 'Fishing for octopus', 'Spearfishing / night diving', 'Body surfing, stood up on sandbar', 'Rowing ', 'Watching seals', 'Attempting to attract dolphins', 'Swimming or snorkeling', 'Surfing / Swimming', 'Free diving with a pod of dolphins', 'Tech diving ', 'Shell Diving', 'Swimming breast stoke', 'Fishing in knee-deep water', 'Dived naked into the water on a bet', 'Swimming in fish tank', 'Boeing 757 enroute from Porta Plata plunged into the sea', 'Swimming with mask & snorkel', 'Chumming for sharks', 'Diving, gathering shellfish', 'Fell off aircraft carrier', 'Playing / standing', 'Abalone diving using Hookah (near calving whales)', 'Abalone diving using Hookah (resting on the surface)', 'On a float', '\"Riding waves on a board\"', 'Jumped off surfboard & landed on the shark', 'Scuba diving (ascending using scooter)', 'Playing / jumping', 'Sleeping in anchored boat', 'Scuba diving for bivalves', 'Wind surfing', 'Surfing, sitting on board', 'Murder victim', 'Commercial diver (submerged or treading water)', 'Surfing, paddling seawards', 'Adrift on refugee raft', 'Jumped off rocks into white water', 'Freediving for seashells', 'Swimming alongside NOAA research vessel Discoverer', 'Removing shark from tank in nightclub ', 'Swimming, after falling off towed kneeboard', 'Playing volleyball with friends', 'Hookah diving', 'Surfing, paddling shorewards', 'Stamding', 'Watching the shark feeding on a dead pinniped', 'Riding floatation device', 'Free diving for abalone (ascending)', 'Fishing for lobsters', 'Oyster fishing', 'Paddling on surfboard or body board', 'Scuba diving at seal colony', 'Floating on his back', 'Paddling on surfboard', 'Free diving & spearfishing (ascending)', '   ', 'Standing in waist-deep water, helping his father tend a gill net containing dead fish', 'Lying on surfboard', 'Spearfishing / free diving', 'Scuba diving (submerged)', 'Hookah diving for sea urchins', 'Snorkeling, carrying a speared fish in her hand', 'Fell from cliff while fishing & disappeared in strong current', 'Fisherman', \"Zosimo & his son, Jeffrey Popa, failed to return from overnight fishing trip in a 14' boat, Boat apparently sank, debris recovered but his son & boat were never found\", 'Preparing to fish for jack-mackerel', 'Scuba diving ', 'Scuba diving & filming', 'Hookah diving for pen shells ', 'Fishing for yellowtail, Seriola quinqueradiata', 'Diving for pen shells', 'Fishing from rocks, swept out to sea by large wave & treading water', 'Finning the shark that bit him', 'Swimming from makeshift raft  to life vest after fishing boat sank', 'Swimming behind sailboat', 'Surfing, collided with shark', 'Surfing (or sailboarding)', 'Scuba diving (but on surface)', 'Free diving / spearfishing, from paddleboard & floating on the surface', 'Snorkeling, possibly holding a fish', 'Resting on surfboard', 'Lying on surfboard & paddling', 'Free diving for trochus', 'Scuba diving & spearfishing', 'Board sailing', \"On board 51' fishing vessel One Ki\", 'Wading, knocked down & swept away by large waves', 'Swimming in canal', \"Fishing, stepped on hooked shark's head\", 'Observing a shark feeding on a carcass of a humpback whale', 'Hookah diving for abalone (descending)', \"Filming 5' blue shark\", 'Playing ', \"Fell off surfboard 20' from shore\", 'Windsurfing (urinating on his board)', 'Scuba diving, but swimming on surface', 'Swimming in strong current with 3 others when he disappeared', 'Surfing with dolphins', 'Scuba diving, hand feeding sharks', 'Spearfishing using scuba & trailing a string of bleeding fish', 'Skindiving', 'The Christie V sank on 11/6/1988, survivors were adrift on a dinghy', 'The MV Dona Marilyn sank in Typhoon Unsang with the loss of 389 lives', \"Diving in Sharkey's Reef restaurant\\x92s aquarium\", 'Free diving & spearfishing ', 'Spearfishing on scuba', 'Sittting in water with his child', 'Shell diving', 'Surfing / treading water', 'pêcheur de bichiques', \"Onboard 21' powerboat that capsized in rough seas\", 'Standing ', 'Lying atop surfboard', 'Drift fishing', 'Fell overboard  from the Taiwanese fishing trawler Lien Cheng Feu ', \"Attempting to lasso shark's tail\", 'Returning to shore, collided with shark', 'Ferry boat Dona Paz with 4431 passengers exploded & caught fire when she collided with an  oil tanker ', 'Vessel caught fire & capsized, survivors in the water', 'Scuba Diving for scallops', 'Dropping anchor', 'Swimming from shore to anchored sailboat', 'The inter-island ferry Vula sank in heavy weather', 'Jumped into the water from a cliff', 'Boat', 'Adrift after ditching plane in the sea', 'Free diving  & spearfishing (submerged)', 'NSB Meshing', 'Racing ski', 'Fishing, fell from rocks & disappeared', 'Hookah diving for abalone', 'Floating on inner tube after diving for lobster', 'Free diving & spearfishing (descending)', 'Bottom fishing for lingcod & had hooked a fish', 'Playing in knee-deep water', 'Surfing, but lying prone on his board', 'Free diving for scallops', 'Scuba Diving for lobster (at surface)', 'Investigating shark sighting', 'Sailing on catamaran & fell into the water', 'Surfing or body surfing', 'Free diving , but surfacing', 'Boat capsized?', 'Sea disaster, foundering of the cargo vessle M/V Dorolonda', \"During a shark fishing tournament, the 18' Boatem was capsized by waves, throwing 3 men into the water \", 'Towing her sister on plastic ski board', 'Steinhart Aquarium', 'Scuba diving for abalone', 'Ferry boat sank', 'Swimming from the New Venture ', '14 m prawn trawler New Venture capsized  & sank in heavy seas Three people in the water', 'Floating on air mattress', 'Surfing & dangling foot in water amid baitfish', 'Water-skiing', 'Paddleskiing', 'Ran into the water', 'In waist-deep water', 'Free diving for abalone from Zodiac (submerged)', 'Paddle Boarding', 'Spearfishing ', 'Sailboarding, fell into water 100 yards outside the breakwater', 'Fishing on a boat', 'Spearfishing, but swimming on surface', 'Inspecting teeth of supposedly dead (hooked & shot) shark', \"Diving to untangle a crab trap line from boat's propeller\", \"16' catamaran capsized previous night, occupants stayed with wreckage until morning, then attempted to swim ashore\", 'Snorkeling on surface', 'Catching sardines', 'Scuba diving, reportedly also spearfishing', 'Foundering of the Israeli freighter Mezada', 'Standing / Wading', 'Free diving Spearfishing', 'Exercising his dog in the shallows', 'Commercial spearfishing', 'Free diving / spearfishing, ', 'Diving in tuna net', 'Resting on body board', 'Skin diving', 'Sinking of the ferryboat Don Juan', 'Sinking of the ferryboat Bongbong 1', 'Hookah Diving', 'Gaffing netted shark', 'Freedom swimming', 'Murdered by Thai pirates', 'Floating with life preserver after his boat foundered', 'Floating on inner tube raft', \"Explosion destroyed 28' boat, survivors in the water \", 'Fishing for mackerel', 'Swimming, after single-engine aircraft went down in the sea', 'Fishing for bottom fish', 'Floating on an inflatable raft', 'Free diving for abalone (surfacing)', \"40' fishing boat sank\", 'Spearfishing / Scuba diving', 'Collecting fish from net', 'Fishing for yellowtail', 'Their 9 m launch was run down by a 25,000-ton Japanese freighter  on the night of 3-11-1977 & they drifted, clinging to an icebox for 2 days', \"Pushed surfmat of a young girl out of the shark's path, drawing shark's attention to his own board\", 'Hookah diving for abalone (submerged)', 'Thrashing the water / imitating the shark victim from \"Jaws\"', 'Fishing for white shark', 'Shipwreck', 'Skindiving,', '3,909-ton Panamanian freighter Chieh Lee sank in a typhoon', 'Surfing, fell off surfboard', \"Sitting in bow of her father's 5 m boat\", 'Competing in a light tackle game fishing', 'Fishing for snoek & yellowtail', 'Spearfishing / scuba diving', 'Attempting to drive shark away from the beach', 'Filming & feeding captive sharks', 'Floating on a small orange raft ', 'Scuba diving for abalone (at surface)', 'Swimming near his boat', 'Spearfishing Competition', 'Floating in inner tube', 'Diving & force-feeding the shark', 'Attempting to drag hooked shark ashore by its tail', 'Ferry capsized', 'Swimming underwater from crayfish cage to a fishing bait', '3.3 m fishing boat sank. Treveluwe & Peter Hodgson (wearing lifejackets) were drifting in the current', 'Freedom Swimming', 'Free diving for abalone (submerged)', 'Adrift after the sinking of the motor yacht Princess Dianne', 'Free diving (but on surface)', 'Fishing boat swamped in a storm', 'Fishing for kob', 'Fishing for red fish', 'Sitting', 'Swimming alongside yacht Mexico Fiesta', 'Being pulled to shore from wreck of 25-ton fishing vessel Alan S', 'Free diving, Spearfishing', 'Crabbing (spearing crabs)', 'Fishing from paddleski', 'Scuba diving & U/W photography', 'Sitting in shallows', 'Free diving, collecting shells', 'Scuba diving & feeding fish', 'Hookah diving (submerged)', 'Wreck of the 1689-ton Portuguese  coaster Angoche', 'Fishing for prawns', 'Sea Disaster Sinking of ferryboat Christina', 'Motor launch Baby Princesa capsized with 22 people on board', 'Freediving', 'Air disaster', 'Attempted to return injured shark to the sea', 'Spearfishing / freediving', 'Washing cooking pans', 'Washing clothes on stairs', 'Fishing, trying to catch the end of his fishing line', 'Scuba diving for lobsters', 'Freediving for abalone (at surface)', 'Surf-fishing', 'Netting pilchards', 'Hard hat diving', 'Sight-seeing', 'Feeding mullet to sharks', 'Wreck of the Storm King', 'Spearfishing using Scuba', 'Sinking of the ferryboat Dumaguete ', 'Playing with a frisbee in the shallows', 'Leaving the water', 'Dynamite fishing', 'Small boat with 2 men onboard hit a submerged coral formation. Men began swimming to shore', 'Clamming', 'Schooner sank during a storm', 'Diving. Shark \\x93swallowed\\x92 his hand, so he threw his other around the shark and went \\x93shark-back riding\\x94 for 30 yards until the shark opened its jaws', 'Wading & pushing dinghy toward  the shallows', 'Picking up shark by the tail', 'Swimming after his canoe capsized', 'Sinking of the M/V Mindoro during a typhoon', 'Standing on sandbar', \"Boat capsized between O'ahu & Molokai\", 'Pulling shark from the water', 'Spearfishing on Scuba', 'Spearfishing, dived to pick up a float line', 'Anti-sabotage night dive exercise alongside destroyer (Scuba diving)', 'Photographing sharks underwater using Scuba', 'Beach seine netting', 'Fishing boat', 'Feeding a shark', 'Vehicle plunged over cliff into the water', 'The shrimper Loless Maurine capsized in heavy seas & the men were swimming ashore  ', 'Fishing for rock lobster', 'Swimming in the channel', 'A father bathing his smallest daughter when the shark bumped her out of his arms and carried her into deep water', 'Free diving, carrying speargun', 'Hunting crayfish ', 'Diving / UW photography', 'Netting sharks', 'Diving into water', 'Lobster diving using Scuba', 'Attacked shark with fists', 'Diving for sand dollars', 'Killing a shark', 'Sinking of the dredge World Atlas', 'The passenger ship Pioneer Cebu  capsized & sank in Typhoon Irma', 'Overturned skiff', 'Fishing (big game)', 'The World Liberty and the tanker Mosli collided. The  Halcyon Breeze sent a lifeboat to the rescue, but it was smashed, throwing 6 men in the  water.', 'Helping men land a shark', 'wreck of the State Oil Company ship Permina', 'Free diving / spearfishing (resting on the surface)', 'Colombian  (Avianca) DC-4 airliner plunged into the sea 5 minutes after takeoff', 'Body surfing ', 'Spearfishing, but standing in knee-deep water', \"Fishing from 34' boat when pulled overboard by hooked shark\", 'Hauling dead shark aboard, when another shark leapt out of the water & bit him', 'Argentine Air Force C-54', 'The boat Caribou II sank', 'Sunbathing on beach when he saw child being attacked by the shark', 'Spearfishing, shot a turtle', 'Spearing fish', 'Fishing (rod & line)', 'Arsinoe, a French tanker', 'Attempting to anesthetize shark', 'Diving, retrieving film package from Titan 3C rocket', 'Walking on reef', 'Aircraft exploded', 'Motor boat Rebel Belle lost', 'Paddling rescue ski', 'Dangling feet in the water', 'Collecting marine specimens', 'Standing in waist-deep water', 'Spearfishing, but standing in the water', 'Bather', 'Canoe swamped, swimming back to canoe', 'Fishing with hand line tied to wrist & was pulled into the water', 'Free diving with seals', 'Swimming out to rescue swimmers in difficulty', 'Filming underwater, carrying powerhead', 'Longline fishing', 'Boat Miss Becky  sank 12 miles from shore', 'Surfing, but swimming to his board', 'Floating on his back in an inner tube', 'Spearfishing using scuba', 'Free diving / Spearfishingat edge of reef', 'Searching for remains of  Dr. Marais', 'Yacht Gooney Bird foundered, 4 survivors on raft', 'Standing / fishing', 'canoeing', 'Conducting a promotional film project for the Gemini space program (a practice astronaut recovery)', 'Attempting to swim across the Atlantic Ocean', 'Canoe capsized with 10 occupants, 8 survived,  Hamilton swam off to seek help', 'Skin diving ', 'Free diving for shell', 'Diving for trochus shell', 'preparing to go skin diving', 'Lying in 2 feet of water', 'Spearfishing / Scuba diving (at surface)', 'Diving for sinkers', 'Sitting on gunwale of boat', 'Greek steamship Lakonia caught fire, 98 of her 646 passengers, and 30 of her crew of 376 perished', 'Helping friend land hooked shark', 'Splashing in surf', 'Treading water while alongside capsized yacht', 'Fishing / standing in waist deep water', 'Catching sharks under government contract', 'Testing anti-shark cage', 'Surf fishing, wading ', 'Commercial fishing vessel, Ev-nn, struck object & sank. Ken Crosby and  Jame & Ann Dumas adrift on makeshift raft.', 'Spearfishing, pulled shark\\x92s tail', 'Swimming, when caught in heavy seas', 'Fishing, on charter boat Silver Dollar', \"63' fishing boat Sno' Bay foundered\", 'Seining for bait, standing in chest-deep water', 'Boat, with 42 passengers onboard, capsized in rough seas', 'Surfing on \"chest board\" (boogie board?)', 'Washed into sea while picking opihi', 'The 500-ton coastal trader Polurrian foundered ', 'S.S. Marine Sulphur Queen, laden with molten sulphur was bound from Beaumont, Texas for Norfolk, VA, when she disappeared with 39 on board', 'Free diving, hunting crayfish', 'Fishing for turtles', 'Spearfishing, Scuba diving', 'Abandoning burning ship Captain George in raging seas', 'Adrift after wave swamped engine', \"Overcome by CO fumes, fell overboard from 36' fishing cruiser & prop slashed arm\", 'When  a deckhand  jumped overboard, McIver dived after him with a rescue line.', 'Spearfishing with Scuba gear', 'Surf fishing in waist-deep water', 'Finning the shark', 'Fishing for albacore', 'Playing in surf with his child  (9)', 'Dived from inner-tube', 'U.S. Airforce crewman reported missing after bailing out of jet', 'On a \"shark hunt\"', 'Rolled off raft', 'Escaping from Alacatraz', 'Washing', 'Scuba diving, attempting to catch a captive shark', '25-foot cabin cruiser Happy Jack sank in heavy seas', 'Fishing & spearfishing', 'Swimming along a row of nets', 'Fishing for snappers & cleaning mullet. Put mullet over side of boat to wash it', 'Swimming outside fishing net', 'Splashing ', 'Fishing, slipped on rocks & fell into sea', \"Fishing with hand net in 2' of water\", 'Fishing, hauling in a 5-lb snapper', 'Surfing, pushing board ashore', 'Swimming with other crew near wharf', 'Gathering shells', 'Paddling outrigger canoe', 'Survived US Naval aircraft crash, climbing onboard rescue vessel when he fell back into sea ', 'Free diving, surveying a pipeline & examing cathodes under jetty', 'Attaching a line at sea', 'Net fishing, picking catch from the net', 'Fishing, two large sharks passed. He speared one and it bit him', 'Fishing (trolling)  from canoe', 'Scuba diving & spearfishing ', 'Fishing, speared shark upset canoe & man fell in water', 'Collecting dynamited fish', 'Walking in chest-deep water', 'Checking fish traps, fell into the water', 'Swimming, using bundles of sticks as raft', 'Cargo ship Dara sank after collision with another ship during a severe storm', 'Fishing from dinghy', 'Floating on back', 'Cleaning a tank', 'Spearfishing, shark grabbed his white t-shirt and towed him ', 'Collecting crayfish', 'Collecting aquarium specimens', 'Pacific Seafarer of US Navy', 'Ocean racing', 'Taking boat from California to Florida when it ran aground & he was swimming back to boat', 'Free diving for molluscs', 'Light aircraft ditched at sea', 'Swept out to sea while net fishing', 'Fishing, when line became snagged on rock & he dived into water to free it ', 'Fell overboard, prop slashed arm', 'Chasing shark out of bathing area while riding on a surf-ski', 'Spearfishing, speared fish retreated to cave where shark grabbed his arm', 'Hand lining for shad', 'Ejected from F3H-2 aircraft ', 'Fishing for rock lobsters', 'Collecting shells', 'Cargo ship El Gamil entroute Suez to Yemen (Aden) when her cargo shifted and she sank. 19 Egyption sailors jumped into the water and swam for several hours before being bitten by sharks', 'Free diving / photography, kneeling on sand', 'Fishing inside net', 'R5D aircraft went down with 29 on board', 'Free diving / Spearfishing', 'Swimming 3 miles offshore', 'Air disaster: crash of Air France Super Constellation ', 'Aircraft crashed into sea', 'Standing in knee-deep water', 'boat with 46 people on board capsized', 'Holding shark on leader & dangling it above the water', 'Helping angler land a shark', 'Fishing, Struck by another shark when removing shark from line', 'Swimming from camp', 'Pulling raft out to ride to shore', 'Fishing, tossing netted shark onboard', 'Testing classified underwater electronic gear for Raytheon Corporation, vessel torn apart by explosion', 'Diving for shells, saw shark circling wife near the surface, intercepted shark & it pulled him beneath the water', 'Spearfishing, free diving, possibly ascended into path of cruising shark', 'Free diving but treading water at surface', 'Skindiving for abalone (but at surface)', 'Fishing, hauling in a set line', 'Spearfishing, shot a sandtiger shark. Cord to spear tangled round his legs & a wave washed him onto a reef.', 'Speared a grouper, saw shark but it came for him instead of the fish so he fired spear into shark\\x92s mouth. Then shark took grouper but unable to swallow because of the spear in its mouth.', 'Fishing in shoulder-deep water', 'Fishing, hooked shark towed boat out to sea, storm swamped boat', 'Spearfishing, carrying fish on belt', 'Wading, fishing for flounder', 'S2F-1 airplane crashed immediately after carrier take-off', 'Portuguese Airliner with 9 people aboard went down. ', 'Fishing, lifting shark out of craypot', 'Setting crayfish pots', 'Standing, watching seine netters', 'Collecting ornamental fish', 'Spear fishing, removing fish from spear', 'Swimming underneath house on pilings', 'Dived from dinghy to retrieve oar in heavy seas', 'ship M.V. Rizal sank during typhoon', 'Spearfishing, Smith  & Walker touched shark with tip of their guns', '17 Maldivians adrift in open boat for 31 days', 'Standing in chest-deep water', 'Trailing the field in a surf race', 'National Airlines DC7B enroute from Miami to Los Angeles with 42 or 46 people on board went down in heavy fog', 'Fishing for tunny', \"Swimming at surface through school of feeding 2.5' to 5\\x92 sharks\", 'Spearfishing, shot shark, hauled it onto boat', 'Dived overboard to retrieve dinghy', \"Adrift, hanging onto cushion, after his 17' skiff ran out of gas & capsized 3 miles from shore\", 'Gigging for flounder', 'Pulling hooked salmon to boat', 'On inflatable raft', 'The 240-ton motor vessel Pilar II with 100 people on board capsized in high winds & rough seas', 'Fishing boat capsized ', 'Spearfishing with Joe Turner (24). Shark attracted to speared halibut on belt of one diver, tried to bite Ide\\x92s speargun & he shot it in the mouth', 'Pulling anchor', 'Spearfishing (but on surface)', 'Dragging stranded shark ashore', 'Columbian petrol barge Rio Atrato burned and sank', 'Swimming ashore from capsized boat', 'Jumped overboard to rescue a man', 'Diving for pearl shell', 'Lifeboat capsized', 'On boat, preparing to dive', 'Fell into water while attempting to boat a swordfish', 'Bathing with sister', 'Working prawn net', 'Washed overboard into school of fish', 'Swimming with motor tube', 'In deep water about 100 yards from his ship', 'Surfing, but treading water', 'Dragging banana seeds through the shallows', 'Swimming ashore from fishing boat swamped and sunk by a squall', 'Paddling & sailing from Buenos Aires to Miami', 'Spear fishing', 'Surfing on air mattress', 'Cleaning hull of ship ', 'Swimming near jetty', 'Slapped shark on tail as it swam by', '\"Climbing up to ship after repairing the stern in water\"', 'Boat stopped to repair electric pump', 'Swimming, ducking for shells in water 0.9 m deep', 'U.S. Airforce C124 enroute from Hickham Air Base to Japan went down. The 3 survivors fashioned raft from mailbags  & were rescued 3 days after the crash.', 'Spearfishing, had fish on his spear', 'Swimming, towing the shark', 'Paddling in knee-deep water', 'Swimming with goggles', 'Fishing, holding fish in his left hand', 'Spearfishing / swimming on surface', 'Placed hand in disemboweled shark\\x92s jaws', 'Fishing, holding fish', 'Fishing (trolling)', 'Fishing, walking in river to cast', 'Air/Sea Disaster Pan-American Airlines Stratocruiser with 44 people onboard crashed into the sea', 'Attempting to net shark in shark channel', 'Diving for trochus', 'M.V. Tropical sank. Sole survivor rode oil drums for 8 days without food or water.', 'Competing in spearfishing championship & towing dead fish', '3 men & 2 boys picked up wearing life jackets and with inner tube', 'Swimming between  anchored  pearling luggers', 'Diving from canoe', 'Skindiving for specimens', 'Helmet diving in Miami Seaquarium', 'Dynamiting fish', 'Free diving for sinkers', \"Spearfishing, holding 5' speared fish\", 'Skindiving, fish at belt', 'Climbing back on ship', 'Swimming near pier', 'Free diving for crayfish', 'Attempting to kill a shark with explosives', 'Line fishing from Lakotoi, saw shoal of fish, dived overboard, had speared second fish & surfaced for air', 'Longling fishing', 'Air/Sea Disaster', 'Free diving, working on U/W scenes for motion picture', 'Boating', 'Swimming, attacked at  surf carnival', 'Attempting to set underwater endurance record', 'Swimming off yacht', 'Removing shark from net ', 'Fishing for pompano', 'Spearfishing & lassoed shark', '\"Flying Tiger\" transport plane went down with 5 men onboard', 'Hunting turtle', 'Swimming near breakwater', 'Spearfishing or fishing', 'Fishing from boat, Kaimamla', 'Swimming with speared fish', \"Competing in U/W endurance record, standing beside drum in 10' of water\", 'Rowing toward snapper grounds', 'Hunting lobsters in 2.4 m of water', 'Crossing the bay at the ford', 'Dived overboard & was swimming near stern of trawler', 'Swimming near canoe', 'American freighter Mormackite, bound from Buenos Aires for Baltimore, capsized & sank in heavy seas', 'Fishing  (trawling)', 'Spearfishing, hunting crayfish', 'Tuna fishing, standing on stern platform that was submerged by waves', 'Closed circuit diving (submerged). Diving to recover jettisoned packets of opium for police', 'Fishing trawler Flavio Gioia ', 'Grabbed shark & threw it on deck', 'Pearl diving from lugger Whyalla', 'Bathing alongside ship', 'Fishing / cleaning fish, dived into water to retrieve a lost fish', 'Fishing from shore', 'Crouching in the water', 'Swimming or wading out  to warn bathers that a shark had been seen', 'Aircaft exploded', 'Fishing from market fishboat Sea Spray', 'Royal Hawaiian skymaster DC-6B aircraft went down with  58 passenger & crew', 'Accidentally dragged overboard from the sampan Holokahana into school of yellowfin tuna', 'Retrieving bait box that had fallen overboard', 'Landing hooked shark in boat', 'Swimming in midriver near sewage outlet & 400 m from a slaughterhouse', \"Adrift on a 4'  raft for 32 days\", 'Went over side of boat at trochus ground', 'Bitten while cutting shark from net', 'Lying prone on surfboard', 'Fishing, setting nets', 'Body surfing & treading water', 'Swimming from fishing boat setting nets', 'Fishing for trout ', 'Boat exploded', 'Spearfishing, carrying fish on spear', 'Swimming on surface', 'Fishing, standing in water washing fish', 'Fishing, standing in water next to purse net', 'Fishing for white sharks', 'Went to aid of child being menaced by the shark', 'Spearfishing, speared a small shark', 'Diving, recovering fish killed by dynamite', 'Shipwrecked; adrift on raft for 2 days & 2 nights', 'cargo ship Southern Isle sank at 04h00', 'Body found on deserted luxury yacht, 38\\x92 Christine', 'Diving (Hookah)', 'Fell overboard', 'Swept out to sea while fishing', 'Fell off surf ski', 'Fishing, casting in the surf', 'Spearfishing (but treading water on the surface)', 'Paddling a surfboat', 'Paddling a canoe', 'Body surfing / treading water', 'Jerked overboard while pole fishing for tuna', 'Swept off deck of S.S.Frontenac enroute from West Indies to US', 'Goggle-diving for seaweeds, but standing in water', 'Survived crash of two-engine  C-46 transport plane carrying 62 migrant workers from Puerto Rico to USA ', 'Sea Disaster, sinking of the fishing  launch Mavis', 'Fishing, sitting in stern of small boat, feet dangling in the water', 'Suicide', 'Fishing, one of three fishermen swept into the sea by a large wave ', 'Sitting on side of dinghy mending a net', 'Defecating in water beneath the docks', 'Bending over', 'Bathing ', 'Diving for coins', 'Spearfishing, but walking carrying fish on end of speargun', 'Helmet diving, collecting trochus shell', 'Sea Disaster, sinking of the motorship Wingate', \"Lying on the bottom of a 16' dinghy\", 'Free diving or wading back to shore', 'No details', 'Swimming near shore', 'A 75-ton  Japanese fishing ship was sunk by  Chinese Nationalist gunboat, shipwrecked men were clinging to debris', 'Examining netted shark, that had been shot', 'Bathing in water 0.9 m deep', 'Lifesaving exhibition', 'Fishing, on a boat', 'Swimming close to wharf', 'Treading water, waiting for a wave', '2 messboys (Jeppsen) & Tony Latona (13) were playing on the afterdeck of the Danish ship Grete Maersk. Jeppsen fell overboard, Latona threw a lifebelt then jumped in to help him. Ship didn\\x92t notice they were missing', 'Air/Sea Disaster involving C-54 Air Force Transport No. 2686 with 37 on board', 'Pearl diving', 'Leicester abandoned in a hurricane', 'Bathing or washing', 'Spearing a shark', 'Fishing, shark caught in his net', 'Bringing hooked, harpooned shark onboard boat', 'C47 aircraft carrying 5,000 lbs of ice ditched in the sea', 'Underwater photography', 'Fishing, holding fish in right hand', 'Fishing / diving', 'Fishing from surf ski', 'Fishing in waist-deep water', 'Jumped overboard ', 'Moving shark from tuna vessel when boat rolled, placing both man & shark in chest-deep water', 'Attempting to ride a shark', \"Swimming near jetty with 2' piece of wood\", 'Pearl diving from lugger', 'Swimming after a tennis ball', 'Fishing, probably with a net', 'Jumping in swells', 'Bitten after dhow shipwrecked', 'American minesweeper USS YMS-472 foundered in a typhoon - swimming to shore', 'American minesweeper USS YMS-350 lost in a typhoon - swimming to shore', 'American cruiser Indianapolis torpedoed & sunk by the Japanese submarine I-58', '90 European civilians, many women & children, were placed on the deck of a Japanese submarine that submerged when it was well offshore', 'Playing on rock, slipped & fell into the water', 'Bathing with her mother', 'Swimming near life raft', 'USS Gambier Bay CVE-73  shelled & sunk  at 09h57 on 10/24/1944, by Japanes fleet enroute to attack the Allied landing force at Leyte.', 'USS Hoel DD 533 sunk on 10/24/1944 in the Battle off Samar. 2 crewmen were swimmng alongside a floater net &', 'USS Johnston DD 557 sunk on 10/24/1944 in the Battle off Samara. Crewmen were swimming beside a raft.', 'Parachuted into Pacific', 'Japanese POW ship Arisan Maru with 1800 American prisoners of war on board bound for slave labor camps was torpedoed by an American submarine', 'Fell overboard from US Navy PC boat', 'Washed overboard by swell', 'Adrift on raft', 'B-24 aircraft crashed  into the sea', 'Fell overboard from USS Ward', 'The Cuban freighter Libertad was torpedoed and sunk by the German submarine U-129', 'Swimming with board', 'The 6711-ton American freighter & troop transport Cape San Juan was torpedoed by the Japanese submarine I-21', 'Dived overboard to check propeller of US Navy motor torpedo boat', 'Flying Fortress bomber aircraft went down after daytime raid on Naples. He was swimming on the surface', 'Treading water after survivng crash of the US Navy airship K-74 that was hit by the German submarine U-134', 'Fishing for cod', 'B-24 crashed during a search mission. Survivors in raft for 47 days ', 'S2N Navy scout plane went down, E.H. Almond & Lieut A.G. Reading in water', 'Hospital Ship Centaur torpedoed & sunk by the Japanese submarine I-177', 'ship torpedoed 400 miles off the African coas. Man was clinging to hatch cover', 'Small boat swamped, 4  people swimming to shore but he fell behind the other 3 and vanished', 'The 21,516-ton troopship Empress of Canada torpedoed and sunk by the Italian submarine Leonardo da Vinci', 'The 3540-ton Alfonso Penna was torpedoed & sunk by the Italian submarine Barbarigo', 'Known as The Battle of the Bismarck Sea :  8 Japanese destroyers guarding a convoy of 8 transports were attacked by 129 Allied fighters, 207 bombers & 3 squadrons of the Royal Australian Air Force. ', 'The USS Wahoo torpedoes & sank the Japanese troop transport Buyo Maru', 'Dog paddling or standing', 'U-177 torpedoed & sank the troopship Nova Scotia', 'Thrown from destroyer when shell hit', 'On 6-Nov-1942, the German submarine U-68 sank the City of Cairo 5 days from Cape Town, survivors took to lifeboats & rafts. On the 15th day, a fireman jumped over the stern & was taken by sharks', 'Anti-Aircraft cruiser USS Atlanta (CL,-05) travelling in convoy after the Battle of Midway, encountered a Japanese flotilla  (Battle of Guadalcanal) &, heavily damaged by gunfire, she was lost off Lunga Point. Victim was swimming when bitten.', 'Explosion & sinking of the USS Juneau after being torpedoed by the submarine  I-85', 'In rubber dinghy with Captain Eddie Rickenbacker for 21 days. ', 'Dutch merchant ship Zaandam torpedoed  by the U-174 amidships, sank & dozens of survivors took to rafts & boats. One man, Izzi, who drifted 83 days on a raft related that sharks attacked many men in the water when the ship went down', 'His ship, the US destroyer Duncan DD 485, had been  sunk by crossfire from Japanese warships. He was wearing a kapok lifejacket & using 2 aluminum powder tins for floatation  ', 'The 6015-ton British ship Empire Avocet was torpedoed by the German submarine U-125. ', 'The Pacquebot Laconia, enroute to Liverpool with 600 Italian prisoners onboard, was torpedoed by the German submarine  U-156 and only 2 rafts were launched before the ship went down. Unable to board an overcrowded raft, he was swimming.', 'Adrift on life raft', 'Japanese aircraft shot down. He was one of two survivors rescued by the U.S. destroyer Mugford', 'The SS Potlach was torpedoed & sunk by the U-153 on 27-Jun-1942. ', 'Sculling', 'A 210-ton brig was sunk by a Japanese submarine. Some of the survivors were machine-gunned & some were taken by sharks', 'boat capsized during filming', 'Plane crashed in water, men in life raft', 'On life raft tethered to lifeboat. A seaman put hand over side to rinse a cup', 'Diving from lugger', 'H.M.S. Cornwall & H.M.S.Dorsetshire sunk by Japanese dive bombers. Officers & men in the water formed a circle with 60 of their dead in the center for 36 hours', 'Esso Bolivar was torpedoed & shelled by the German submarine U-126', \"Captured Allied soldiers were squeezed into 3' bamboo pig baskets & fed to waiting sharks\", 'Fishing for perch', 'Sailing from Gingood, Misamis Oriental to Sagay (normally a 2-day voyage) capsized with 6 on board, three men were taken by sharks when they attempted to swim to shore.', 'Swimming along side N.E.L. vessel Saluda', 'Jumped overboard from torpedoed Panamanian freighter', 'Plane forced down, 3 men on rubber life raft. Put hand over side to feel drift of boat ', 'Ditched plane in the sea & were adrift on a rubber life raft. ', \"Days before the surrender of Singapore, the 3 men escaped to Sumatra where they acquired a 17' dinghy. After 125 days at sea they drifted back to Sumatra\", 'Torpedoed & burning British  light cruiser with a crew of 450 men', 'HMAS Parramatta torpedoed & sunk by the U-559', 'British cruiser Dunedin torpedoed & sunk by the U-124', 'German raider Kormoran was sunk in an engagement with HMAS Sydney', 'SS Ethel Skakel foundered in Central America Hurricane of 1941', 'Swimming at edge of channel', \"Fishing from 32' boat\", 'Ditched aircraft, 3 men in the water. Swam for 31 hours', 'The troopship Britannia was sunk by the German raider Thor', 'Seine netting', 'Rescuing seaman after ship sunk by German raider', 'Adrift on raft after their ship was sunk by an Axis raider ', 'Slipped off rocks and fell into the water', 'Standing on sandbank', 'Collecting fish in military trap when bitten by captured shark that had been shot by soldiers with Garten', 'Free diving for lobster', 'Dived into the water', 'male', 'Standing in water with child in her arms', 'Free diving for trochus shell, swimming to dinghy', 'Spearfishing & had just speared a ulua', 'Japanese freighter Bokuyo Maru burned & sank', 'Dress diving, filming shark & pulling it through the water for a motion picture scene', 'Washed off freighter Huncliff by a freak wave', 'Dived for a coin', 'Bathing/Swimming', 'Scooping prawns', 'She was on a ship that was torpedoes & was in the water awaiting rescue', 'Swimming to anchored boat', 'Swimming alongside warship   Tsingt-ao', \"Fishing, removing gaff from shark's mouth\", 'Hardhat diving from Japanese pearling lugger, Reiyo Maru', 'The schooner Elizabeth, bound from Bluefields, Nicaragua to the river port of San Carlos foundered', 'Hardhat diving', 'Swimming, naked', 'Canoe capsized by shark', 'Watching seine netters with friends, one of whom picked up a netted shark', 'Diving off jetty', 'Sponge diving', 'Tzenny Chandris, a Greek freighter laden with scrap iron, foundered in heavy weather', 'Two canoes with 14 aboard blown to sea in a storm. While adrift for 3 week, one person fell overboard and was killed by a shark', 'Pleasure boating', 'Diving from the lugger San, operated by the Protector of the Aborigines', 'Fishing from launch, fell into net with shark', 'Refused permission to cross on the ferry, he was swimming across the river', 'Swimming ashore after launch capsized', \"12 of the Penang's crew were returning to the ship when their 12' dinghy capsized\", \"Holding shark's tail \", 'Diving, attempting to retrieve body of drowning victim wedged between rocks', 'Fishing for the shark that killed George Lundberg', 'Wreck of a sampam', 'Trochus diving, but floating on surface', 'Swept overboard', 'Swimming crawl stroke', 'Fishing for bluefish', 'Fishing, catching snoek, Thyrsites atun', 'Diving for trochus , but swimming on surface', 'Among 31 survivors of crew from the sampan Fukulya Maru (which reached Thursday Island in rowing boat) was a man whose arm had been bitten off by shark. The sampan wrecked west of McArthur island ', 'Touching the mouth of a supposedly dead shark', 'Swimming. Passer-by, Len Bedford, heard him shriek , saw shark leap from the water & swimmer disappeared', 'Diving?', 'Fell overboard, hanging onto lifebuoy', 'Diving for beche-de-mer from lugger', 'fishing boat exploded & sank', 'Fishing with dynamite, afterwards in water retrieving catch', 'Fishing for bluefish, shark leapt into dory', 'Put foot inside a landed & supposedly dead shark', 'Disappeared 11 days earlier, probable homicide victim', 'Diving from dinghy for trochus shell', 'Put foot inside mouth of supposedly dead shark', 'Pearl diving, but standing in the water', 'Hauling in net with shark in it', 'Surfing (pneumatic surfboard)', 'Swimming (lead swimmer in race)', 'Taken as he dived into the water', 'Swimming & splashing', 'Freediving for trochus shell (submerged)', 'Dived into sea from launch & bitten immediately', 'Swimming in waist-deep water ', 'Swimming in hip-deep water', 'Splashing in water ', 'Swimming outside the safety enclosure attempting to retrieve a tennis ball drifting toward midstream ', 'Swimming on sandbar adjacent to channel', 'Free diving for trochus ', \"Fishing, caught a 15' shark & took it onboard\", \"Sitting in 3' of water\", 'Yacht of Michael Howell capsized', 'Swimming to shore from capsized sailboat', 'Standing on his hands', \"Diving for trochus  from dinghy when seized by shark 6' below the surface\", 'Hurricane & Tidal Wave', 'Catching a turtle', 'On expedition filming a feature movie & standing on tripod', 'Fishing, hauling in fishing gear', 'Free diving with goggles', 'Fishing with dynamite', 'Working near fish traps', 'Collecting fish by lamplight in gully', 'Diving for trochus from lugger', 'Diving off wharf', 'Swimming a quarter mile offshore', 'Fell overboard?', 'Fishing, had just speared a ulua', 'Gaffing & attempting to bring onboard a harpooned shark', 'Fishing, boat capsized', 'Fishing with a cast net', 'Fishing, hauling in net, shark in net', 'Swimming, carrying tin can with mail to steamer', 'Thrown into water from fishing dinghy', 'Swimming / floating', 'Diving off pier & treading water', 'Removing shark from a trap', 'Fishing schooner Jose Luis foundered', 'Swimming to shore after a squall  capsized their motorized shark fishing boat', 'Diving by wharf', 'Bathing or body surfing ', 'Sea Disaster, wreck of the  SS Norwich City', 'Fell from wharf into water & attacked immediately', 'Diving for trepang', 'Swimming between boats', 'Launching rowboat through the surf', 'Diving for coins thrown from ship S.S. Moeraki', 'Wading, netting fish', 'Hardhat diving ', 'Sea Disaster, sinking of the  SS Vestris', 'Retrieving meat from a cage in the water', 'Jumped overboard and swimming', 'The steamer Tahiti collided with the ferry Greycliffe', 'Italian liner Principessa Mafalda sank', 'Riding horseback across the creek', 'Standing, collecting bananas', 'Feeling the shark\\x92s teeth', 'Attempting to rescue drowning man', 'British patrol boat 1250-ton HMS  Valerian foundered in a hurricane', 'Jumped out of canoe', 'Swimming with dog near canning factory', 'Fell overboard from SS Ripley Castle', 'Shark hoisted on board liner Tahiti', 'Dived onto shark from floating stage', 'Swimming to mail boat', 'Bathing in waist-deep water', \"Diving, repairing water main at depth of 90'\", 'Diving for coins tossed from passenger ship', 'The Ward liner Esperanza stranded during a gale & she leapt overboard to rescue her dog which had been swept overboard.', 'Inebriated, woke from sleep and fell off deck into the water ', 'Removing shark from a net', 'Fishing, fell in water & swimming strongly to shore', 'Floating, after falling or jumping off the Standard Oil tanker Frederick W. Weller', \"Bathing in 5' of water\", 'Had just dived into water & was swimming', 'Fishing, standing in waist-deep water', 'Dry shelling', 'Diving for pearl', 'After rowing skiff was holed by shark, he was attempting to swim ashore', 'Dismantling cable buoys of the cable ship All America', 'seaplane Columbus ditched in the sea', 'Hoisting shark aboard fishing boat', \"Bathing in 3' to 4' of water\", 'Freediving, inspecting Kaunakakai wharf construction after blasting & dredging ', 'Bathing in knee-deep water', \"Fell from his father's back into the water\", 'Wading to dinghy, carrying his son', 'Diving for beche-de-mer ', 'Dived into a school of baitfish', 'The coastwise steamer San Basilio capsized in a typhoon', 'Harpooned shark', 'Boat capsized, swimming to shore', 'Floating face down', 'Jumped overboard', 'Sitting in a boat', 'Small vessel with 13 men on board capsized crossing the bar and 6 men drowned.  The 7 survivors were swimming to shore', '\"Swimming vigorously\"', 'Knocked into the water', 'Cutter capsized', 'Wading (shrimping)', 'Steamer Una wrecked with 75 laborers onboard. Survivors took to rafts & lifeboats.', 'Wreck of the tug Magellan', 'Swimming, towing an empty barrel', 'Stuffing a shark into an automobile', 'Swimming to shore from the Medic', 'Ship Mariston torpedoed & sunk', 'Swimming beside launch', 'Diving for pearls', 'Diving for sponges', 'Taking wife to beach & about 1 m from the shore', 'Swimming 10 m from shore', 'Fishing, attempted to take a netted shark', 'Netting shrimp', 'Swimming (recovering remains of Stilwell) ', 'S.S. Ramos foundered in a hurricane. Captain & 14 crew in water-logged lifeboats. ', 'Jumped overboard from Norwegian steamship Venator', 'Clinging to overturned rowing boat', 'Skin diving for trepang but at surface next to the boat', 'Copra vessel with 19 on board was wrecked in a squall', 'Washing clothes', 'Swimming ashore from swamped 13-ft boat', 'Boat swamped', 'Washed into sea while picking opihi & attacked by 2 large sharks ', 'Hauling in net', 'Swimming after his hat', 'Swimming from foundered vessel', 'Washed overboard', 'Fell overboard from steamship Rio Grande', 'Jumped overboard to rescue companion', 'Fell overboard & swimming', '3-masted steel barque Glenbank foundered during a cyclone', 'Shipwrecked pearling schooner', 'Steamer Durao struck rock & filled, boats capsized, passengers & crew tried to swim to shore', 'Unknown, their unoccupied yawlboat was recovered', 'Fell overboard from USS cruiser Tacoma', 'Hard hat diving, laying some charge of powder', 'Surf bathing', 'Fishing, thrown into water by heavy sea, clinging to rocks at the water line', 'The 2379-ton French steamer La Seyne collied with British steamer Onda & sank in minutes. Passengers jumped overboard expecting to be picked up by Onda\\x92s boats', 'Fell overboard from fishing schooner Halycon', 'Fell overboard while fishing for sharks', '1446-ton Norwegian barque Errol, bound from Peru to Newcastle with 22 on board wrecked. Survivors shelterd on the wreck of the Annasona. Subsequently the Master, his wife & 4 children perished along with several crew. Survivors (5) were rescued 7/12/1909', 'Reported swept away by waves while gathering opihi', 'Diving (Helmet) for sponges', 'Wreck of the 1308-ton Norwegian ship Auckland', 'On December 28, 1908, an earthquake, followed by tsunamis, destroyed coastal towns in Silcily and southern Italy, killing more than 100,000 people', 'Fell from the jetty', 'On fishing boat & trailing hand in the water', 'Fell overboard from P&O steamship Arabia', 'The 168-ton Belmore foundered in heavy seas', 'The British steamer Caribbee foundered', '.', 'native boats sunk in storm', 'Gathering fish stunned by dynamite', 'Reached out to disentangle rope & fell overboard', 'Diving, retrieving fish caught in net ', 'Floating in creek', 'Fishing,  tarpon being chased by shark  leapt across his skiff, breaking it in half & Larkin became tangled in the net', 'Row boat (from the gunboat Elcano) was sinking, put finger in hole', 'Net fishing, fell into the water', 'Diving around anchored liner', 'Shooting sharks ', 'The schooner Tahitienne foundered in a hurricane', 'Washing horses', 'Floating or standing', 'Human head found in shark caught by British steamer Syria', 'Swimming from naptha launch after a day of fishing', 'Jumped or fell overboard', 'Harpooning turtles', 'Bathing alongside US Naval ship', 'Lost his footing & fell overboard', \"Ship's boat capsized in squall, captain & 2 sailors clinging onto hull\", 'Diving on a wreck', 'Swimming, after falling overboard', 'Catching crabs', 'Standing on ship deck', 'Taking catch from a fish weir in which the shark was snared', 'Hunting seashells', ' ', 'Standing, gathering oysters', 'Hunting sharks', 'Fell overboard ', 'Attempting to land a boat from the Hinemoa', 'Hunting crayfish', 'Fell oveboard', 'Swimming after their boat capsized', 'Swimming at side of small boat', 'boat from City of Naples capsized', 'The cutter Francis Adams foundered', 'Sponge divers', 'Fishing (Seining)', '13 men in the water after sailboat capsized & sank', 'Trailing hand in the water', 'Attempting to escape by swimming to shore', 'Loss of the schooner Nomad', 'Angling', 'Wading after stray fish from seine netter\\x92s catch', 'Wreck of the steamship Sultan of Bombay', 'Swimming ashore from a \"filibuster\"', 'Hunting seals', 'Sea Disaster : Wreck of the Carrie E. Long', '\"Boat accident\"', '\"Crossing the river\"', 'Swimming, after sailboat capsized', 'Swimming / floating on his back', 'Swimming after harpooned whale capsized boat', 'Fell from yardarm of British ship Rover', 'small boat', 'Abandoning burning steamship Don Juan', 'A barque wrecked', 'HMS Victoria collided with the HMS Camperdown', 'Canoe swamped', 'His balloon crashed in the harbor', 'Swimming after falling overboard from the sealing ship Vesper', 'Boat capsized, swimming ashore', 'Murdered', 'Riding a horse', 'Fell overboard from sponge vessel', ' a canoe was pursuing a schooner that had forcibily abducted 5 young girls', 'Dress diving', 'Swimming, after boat swamped', 'Attempting to rescue shipmate', 'Sea Disaster, canoes capsized in storm', 'Knocked overboard', 'Fishing for sharks when he became entangled in net & fell overboard', 'Fleeing across a river', 'boat capsized', 'Swimming to shore after boat capsized by a squall', 'Thrown overboard', 'Treading for clams', 'Fishing boat with 4 men on board was rammed & capsized by  a shark, throwing all occupants into the water', 'Parachuted from balloon', 'Cleaning the side of a ship', 'Working on the bridge when he fell into the river', 'The steamships Thingvalla and Geiser collided', 'Probabable drowning', 'The Dwarka foundered', 'The cutter yacht Cutty Sark sank', 'Crossing the river mouth', 'Fell oveboard from steamer Wanderer', 'Crossing inlet in a boat, seen fighting sharks with his oar, sharks smashed boat', 'Sea disaster, wreck of the Alfred Watts', 'Sea disaster, wreck of the sloop Sara', 'Rowing a dinghy', 'The passenger ship Kapuna was run down the ore carrier Ada Melmore', 'British ship Macedon was thrown on her beam ends by a sudden squall', 'Netting menhaden, sharks caught in net', 'Swimming after being washed overboard', 'Fishing from shore, washed into the sea', 'Oystering', 'Sea disaster : Wreck of the Taiaroa', 'He drowned when boat capsized', 'Diving alongsidethe steamship Ranelagh ', 'Fell or jumped overboard from the liner Rhynland', 'Wreck of the schooner Pohoiki ', 'yachting accident', 'Fell overboard from the steamship Chala', 'Fell overboard & rescuer', 'Swimming / escaping imprisonment ', 'Restraining a beached shark', 'Clinging to shipwrecked junk', 'Fell overboard from the Selim', 'During \"an exhibition\" he was tied in sack & thrown overboard ', 'Floating, holding onto an oar after dory capsized', 'Traveling by boat', 'Swimming to retrieve a flannel', 'Bathing in river', 'The steamship Bonnie Dundee lost in collision', 'Floating with life buoy after pilot launch capsized', 'Jumped overboard after murdering 2 shipmates', 'Boat with 5 men capsized while returning to the Amerique', 'Wreck of the Union Steamship Company 982-ton iron steamer Kafir', 'Washed off raft', 'Bathing in 2 feet of water', 'Washed overboard from the barque Mary Eady', 'Body found floating next to his ship', 'Escaping from blackbirding vessel', 'Salvaging a shipwreck', 'Boat of the Resolution capsized in the breakers', 'Fleet of canoes caught by a squall and charged by sharks.', 'Swimming to avoid capture', 'Burning of the S.S. Missouri', 'Wreck of the 150-ton brig Maria', 'Adrift on a raft ', 'Bathing / standing', 'Net fishing', 'A junk foundered', 'Bathing close inshore', 'boat from the Austrian ship Elizabeth', 'boat from ship Josephine capsized in squall', 'Painting a ship', 'Swimming alongside the schooner Catherine Wilcox', 'Boarding a ship', 'Wreck of the Aphrodite', 'Dragging a shark', 'Coming ashore on a hawser', 'Standing / Bathing', 'Reaching for life preserver', 'Bathing near whaling ship (bark A. R. Tucker of New Bedford, Massachusetts)', 'Launching a boat', 'Swimming, caught in strong backwash & disappeared', 'Trying to catch a wounded bird', 'Swimming alongside the SS Kearsarge', 'Boat of a Hawaiian brig was stove in by  whale', 'Bathing alongside the American ship Thomas W. Sears', 'Deserting the bark Nazarene', 'Gloucester fishing schooner run down', '43-ton schooner Irene capsized & sank', 'In boat being towed by ship, Karnak', 'Jumped overboard while intoxicated', 'ship William Penn grounded & broke apart', 'Fell overboard from the Malacca', 'Fell overboard from the Sobella', 'Commercial Salvage Diving', 'He was fighting a shark when his boat capsized & he disappeared', 'Swimming from capsized boat', 'Wreck of the steamship Birkenhead', 'Vessel capsized, wading ashore carrying an oar', 'Attempting to rescue woman seized by shark', 'Hilo', 'Wreck of the Sovereign', 'Wreck of the Tweed', 'Wreck of the USS Somers', 'Jumped into river', 'Boat capsized', 'Harassing a shark', 'Washed off catamaran in the surf', 'Unknown, but it was said to be the \"First known attack in Sydney Harbour\"', 'Accidentally thrown overboard & treading water while awaiting rescue', 'Attempting to rescue crew after whale upset their boat', 'Hooking into a whale', 'American schooner Orator capsized  ', 'Boat capsized, clinging to line', 'Fishing from dory, shark upset boat & he fell into the water', 'Washing a dog', 'Fell overboard from the ship Gem', 'Wreck of the schooner Driver', 'British ship, Britannia,  was loading lumber. He was bathing', 'HBM Magpie foundered in a squall', 'Conch diver', \"Standing on landed shark's tail\", \"a corsair's boat was overturned\"]\n"
     ]
    }
   ],
   "source": [
    "print(list(sharks['Activity'].unique()))"
   ]
  },
  {
   "cell_type": "code",
   "execution_count": 45,
   "id": "c5731cda",
   "metadata": {},
   "outputs": [],
   "source": [
    "sharks['Activity'].fillna('Other', inplace=True)"
   ]
  },
  {
   "cell_type": "code",
   "execution_count": 46,
   "id": "979534a1",
   "metadata": {
    "scrolled": true
   },
   "outputs": [],
   "source": [
    "sharks['Activity2'] = sharks['Activity'].apply(fc.cambia_activity)"
   ]
  },
  {
   "cell_type": "code",
   "execution_count": 47,
   "id": "f10b5912",
   "metadata": {
    "scrolled": true
   },
   "outputs": [
    {
     "data": {
      "text/html": [
       "<div>\n",
       "<style scoped>\n",
       "    .dataframe tbody tr th:only-of-type {\n",
       "        vertical-align: middle;\n",
       "    }\n",
       "\n",
       "    .dataframe tbody tr th {\n",
       "        vertical-align: top;\n",
       "    }\n",
       "\n",
       "    .dataframe thead th {\n",
       "        text-align: right;\n",
       "    }\n",
       "</style>\n",
       "<table border=\"1\" class=\"dataframe\">\n",
       "  <thead>\n",
       "    <tr style=\"text-align: right;\">\n",
       "      <th></th>\n",
       "      <th>Case Number</th>\n",
       "      <th>Date</th>\n",
       "      <th>Year</th>\n",
       "      <th>Type</th>\n",
       "      <th>Country</th>\n",
       "      <th>Activity</th>\n",
       "      <th>Name</th>\n",
       "      <th>Sex</th>\n",
       "      <th>Age</th>\n",
       "      <th>Injury</th>\n",
       "      <th>Fatal (Y/N)</th>\n",
       "      <th>Time</th>\n",
       "      <th>Species</th>\n",
       "      <th>Time3</th>\n",
       "      <th>Activity2</th>\n",
       "    </tr>\n",
       "  </thead>\n",
       "  <tbody>\n",
       "    <tr>\n",
       "      <th>0</th>\n",
       "      <td>2018.06.25</td>\n",
       "      <td>25-Jun-2018</td>\n",
       "      <td>2018</td>\n",
       "      <td>Boating</td>\n",
       "      <td>USA</td>\n",
       "      <td>Paddling</td>\n",
       "      <td>Julie Wolfe</td>\n",
       "      <td>F</td>\n",
       "      <td>57</td>\n",
       "      <td>No injury to occupant, outrigger canoe and pad...</td>\n",
       "      <td>N</td>\n",
       "      <td>18h00</td>\n",
       "      <td>White shark</td>\n",
       "      <td>Evening</td>\n",
       "      <td>Surfing</td>\n",
       "    </tr>\n",
       "    <tr>\n",
       "      <th>1</th>\n",
       "      <td>2018.06.18</td>\n",
       "      <td>18-Jun-2018</td>\n",
       "      <td>2018</td>\n",
       "      <td>Unprovoked</td>\n",
       "      <td>USA</td>\n",
       "      <td>Standing</td>\n",
       "      <td>Adyson McNeely</td>\n",
       "      <td>F</td>\n",
       "      <td>11</td>\n",
       "      <td>Minor injury to left thigh</td>\n",
       "      <td>N</td>\n",
       "      <td>14h00  -15h00</td>\n",
       "      <td>NaN</td>\n",
       "      <td>Afternoon</td>\n",
       "      <td>Other</td>\n",
       "    </tr>\n",
       "    <tr>\n",
       "      <th>2</th>\n",
       "      <td>2018.06.09</td>\n",
       "      <td>09-Jun-2018</td>\n",
       "      <td>2018</td>\n",
       "      <td>Invalid</td>\n",
       "      <td>USA</td>\n",
       "      <td>Surfing</td>\n",
       "      <td>John Denges</td>\n",
       "      <td>M</td>\n",
       "      <td>48</td>\n",
       "      <td>Injury to left lower leg from surfboard skeg</td>\n",
       "      <td>N</td>\n",
       "      <td>07h45</td>\n",
       "      <td>NaN</td>\n",
       "      <td>Morning</td>\n",
       "      <td>Surfing</td>\n",
       "    </tr>\n",
       "    <tr>\n",
       "      <th>3</th>\n",
       "      <td>2018.06.08</td>\n",
       "      <td>08-Jun-2018</td>\n",
       "      <td>2018</td>\n",
       "      <td>Unprovoked</td>\n",
       "      <td>AUSTRALIA</td>\n",
       "      <td>Surfing</td>\n",
       "      <td>male</td>\n",
       "      <td>M</td>\n",
       "      <td>NaN</td>\n",
       "      <td>Minor injury to lower leg</td>\n",
       "      <td>N</td>\n",
       "      <td>Unknown</td>\n",
       "      <td>2 m shark</td>\n",
       "      <td>Unknown</td>\n",
       "      <td>Surfing</td>\n",
       "    </tr>\n",
       "    <tr>\n",
       "      <th>4</th>\n",
       "      <td>2018.06.04</td>\n",
       "      <td>04-Jun-2018</td>\n",
       "      <td>2018</td>\n",
       "      <td>Provoked</td>\n",
       "      <td>MEXICO</td>\n",
       "      <td>Free diving</td>\n",
       "      <td>Gustavo Ramos</td>\n",
       "      <td>M</td>\n",
       "      <td>NaN</td>\n",
       "      <td>Lacerations to leg &amp; hand shark PROVOKED INCIDENT</td>\n",
       "      <td>N</td>\n",
       "      <td>Unknown</td>\n",
       "      <td>Tiger shark, 3m</td>\n",
       "      <td>Unknown</td>\n",
       "      <td>Diving</td>\n",
       "    </tr>\n",
       "  </tbody>\n",
       "</table>\n",
       "</div>"
      ],
      "text/plain": [
       "  Case Number         Date  Year        Type    Country     Activity  \\\n",
       "0  2018.06.25  25-Jun-2018  2018     Boating        USA     Paddling   \n",
       "1  2018.06.18  18-Jun-2018  2018  Unprovoked        USA     Standing   \n",
       "2  2018.06.09  09-Jun-2018  2018     Invalid        USA      Surfing   \n",
       "3  2018.06.08  08-Jun-2018  2018  Unprovoked  AUSTRALIA      Surfing   \n",
       "4  2018.06.04  04-Jun-2018  2018    Provoked     MEXICO  Free diving   \n",
       "\n",
       "              Name Sex   Age  \\\n",
       "0      Julie Wolfe    F   57   \n",
       "1  Adyson McNeely     F   11   \n",
       "2      John Denges    M   48   \n",
       "3             male    M  NaN   \n",
       "4   Gustavo Ramos     M  NaN   \n",
       "\n",
       "                                              Injury Fatal (Y/N)  \\\n",
       "0  No injury to occupant, outrigger canoe and pad...           N   \n",
       "1                         Minor injury to left thigh           N   \n",
       "2       Injury to left lower leg from surfboard skeg           N   \n",
       "3                          Minor injury to lower leg           N   \n",
       "4  Lacerations to leg & hand shark PROVOKED INCIDENT           N   \n",
       "\n",
       "            Time         Species       Time3 Activity2  \n",
       "0          18h00      White shark    Evening   Surfing  \n",
       "1  14h00  -15h00              NaN  Afternoon     Other  \n",
       "2          07h45              NaN    Morning   Surfing  \n",
       "3        Unknown        2 m shark    Unknown   Surfing  \n",
       "4        Unknown  Tiger shark, 3m    Unknown    Diving  "
      ]
     },
     "execution_count": 47,
     "metadata": {},
     "output_type": "execute_result"
    }
   ],
   "source": [
    "sharks.head()"
   ]
  },
  {
   "cell_type": "code",
   "execution_count": 48,
   "id": "ce911194",
   "metadata": {},
   "outputs": [
    {
     "data": {
      "text/plain": [
       "array(['Surfing', 'Other', 'Diving', 'Swimming', 'Fishing', 'Boating',\n",
       "       'Feeding'], dtype=object)"
      ]
     },
     "execution_count": 48,
     "metadata": {},
     "output_type": "execute_result"
    }
   ],
   "source": [
    "sharks['Activity2'].unique()"
   ]
  },
  {
   "cell_type": "code",
   "execution_count": 49,
   "id": "232aea3a",
   "metadata": {},
   "outputs": [
    {
     "data": {
      "text/plain": [
       "Other       1657\n",
       "Surfing     1570\n",
       "Swimming    1345\n",
       "Fishing     1136\n",
       "Diving       361\n",
       "Boating       57\n",
       "Feeding        5\n",
       "Name: Activity2, dtype: int64"
      ]
     },
     "execution_count": 49,
     "metadata": {},
     "output_type": "execute_result"
    }
   ],
   "source": [
    "sharks['Activity2'].value_counts()"
   ]
  },
  {
   "cell_type": "code",
   "execution_count": null,
   "id": "3807b5b3",
   "metadata": {},
   "outputs": [],
   "source": []
  },
  {
   "cell_type": "code",
   "execution_count": null,
   "id": "0f790e27",
   "metadata": {},
   "outputs": [],
   "source": []
  }
 ],
 "metadata": {
  "kernelspec": {
   "display_name": "ironhack",
   "language": "python",
   "name": "ironhack"
  },
  "language_info": {
   "codemirror_mode": {
    "name": "ipython",
    "version": 3
   },
   "file_extension": ".py",
   "mimetype": "text/x-python",
   "name": "python",
   "nbconvert_exporter": "python",
   "pygments_lexer": "ipython3",
   "version": "3.8.10"
  }
 },
 "nbformat": 4,
 "nbformat_minor": 5
}
