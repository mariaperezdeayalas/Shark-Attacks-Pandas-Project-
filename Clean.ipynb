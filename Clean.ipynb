{
 "cells": [
  {
   "cell_type": "code",
   "execution_count": 1,
   "id": "0765f6a3",
   "metadata": {},
   "outputs": [],
   "source": [
    "import pandas as pd\n",
    "import numpy as np\n",
    "import re\n",
    "import seaborn as sns\n",
    "import matplotlib.pyplot as plt\n",
    "import SRC.cleaning_functions as fc\n",
    "import warnings\n",
    "warnings.filterwarnings(\"ignore\")"
   ]
  },
  {
   "cell_type": "code",
   "execution_count": 2,
   "id": "b88eda3e",
   "metadata": {},
   "outputs": [],
   "source": [
    "df = pd.read_csv(\"data/attacks.csv\",encoding = \"ISO-8859-1\") #To load the data csv"
   ]
  },
  {
   "cell_type": "code",
   "execution_count": 3,
   "id": "ffd53d3e",
   "metadata": {},
   "outputs": [
    {
     "data": {
      "text/html": [
       "<div>\n",
       "<style scoped>\n",
       "    .dataframe tbody tr th:only-of-type {\n",
       "        vertical-align: middle;\n",
       "    }\n",
       "\n",
       "    .dataframe tbody tr th {\n",
       "        vertical-align: top;\n",
       "    }\n",
       "\n",
       "    .dataframe thead th {\n",
       "        text-align: right;\n",
       "    }\n",
       "</style>\n",
       "<table border=\"1\" class=\"dataframe\">\n",
       "  <thead>\n",
       "    <tr style=\"text-align: right;\">\n",
       "      <th></th>\n",
       "      <th>Case Number</th>\n",
       "      <th>Date</th>\n",
       "      <th>Year</th>\n",
       "      <th>Type</th>\n",
       "      <th>Country</th>\n",
       "      <th>Area</th>\n",
       "      <th>Location</th>\n",
       "      <th>Activity</th>\n",
       "      <th>Name</th>\n",
       "      <th>Sex</th>\n",
       "      <th>...</th>\n",
       "      <th>Species</th>\n",
       "      <th>Investigator or Source</th>\n",
       "      <th>pdf</th>\n",
       "      <th>href formula</th>\n",
       "      <th>href</th>\n",
       "      <th>Case Number.1</th>\n",
       "      <th>Case Number.2</th>\n",
       "      <th>original order</th>\n",
       "      <th>Unnamed: 22</th>\n",
       "      <th>Unnamed: 23</th>\n",
       "    </tr>\n",
       "  </thead>\n",
       "  <tbody>\n",
       "    <tr>\n",
       "      <th>0</th>\n",
       "      <td>2018.06.25</td>\n",
       "      <td>25-Jun-2018</td>\n",
       "      <td>2018.0</td>\n",
       "      <td>Boating</td>\n",
       "      <td>USA</td>\n",
       "      <td>California</td>\n",
       "      <td>Oceanside, San Diego County</td>\n",
       "      <td>Paddling</td>\n",
       "      <td>Julie Wolfe</td>\n",
       "      <td>F</td>\n",
       "      <td>...</td>\n",
       "      <td>White shark</td>\n",
       "      <td>R. Collier, GSAF</td>\n",
       "      <td>2018.06.25-Wolfe.pdf</td>\n",
       "      <td>http://sharkattackfile.net/spreadsheets/pdf_di...</td>\n",
       "      <td>http://sharkattackfile.net/spreadsheets/pdf_di...</td>\n",
       "      <td>2018.06.25</td>\n",
       "      <td>2018.06.25</td>\n",
       "      <td>6303.0</td>\n",
       "      <td>NaN</td>\n",
       "      <td>NaN</td>\n",
       "    </tr>\n",
       "    <tr>\n",
       "      <th>1</th>\n",
       "      <td>2018.06.18</td>\n",
       "      <td>18-Jun-2018</td>\n",
       "      <td>2018.0</td>\n",
       "      <td>Unprovoked</td>\n",
       "      <td>USA</td>\n",
       "      <td>Georgia</td>\n",
       "      <td>St. Simon Island, Glynn County</td>\n",
       "      <td>Standing</td>\n",
       "      <td>Adyson McNeely</td>\n",
       "      <td>F</td>\n",
       "      <td>...</td>\n",
       "      <td>NaN</td>\n",
       "      <td>K.McMurray, TrackingSharks.com</td>\n",
       "      <td>2018.06.18-McNeely.pdf</td>\n",
       "      <td>http://sharkattackfile.net/spreadsheets/pdf_di...</td>\n",
       "      <td>http://sharkattackfile.net/spreadsheets/pdf_di...</td>\n",
       "      <td>2018.06.18</td>\n",
       "      <td>2018.06.18</td>\n",
       "      <td>6302.0</td>\n",
       "      <td>NaN</td>\n",
       "      <td>NaN</td>\n",
       "    </tr>\n",
       "    <tr>\n",
       "      <th>2</th>\n",
       "      <td>2018.06.09</td>\n",
       "      <td>09-Jun-2018</td>\n",
       "      <td>2018.0</td>\n",
       "      <td>Invalid</td>\n",
       "      <td>USA</td>\n",
       "      <td>Hawaii</td>\n",
       "      <td>Habush, Oahu</td>\n",
       "      <td>Surfing</td>\n",
       "      <td>John Denges</td>\n",
       "      <td>M</td>\n",
       "      <td>...</td>\n",
       "      <td>NaN</td>\n",
       "      <td>K.McMurray, TrackingSharks.com</td>\n",
       "      <td>2018.06.09-Denges.pdf</td>\n",
       "      <td>http://sharkattackfile.net/spreadsheets/pdf_di...</td>\n",
       "      <td>http://sharkattackfile.net/spreadsheets/pdf_di...</td>\n",
       "      <td>2018.06.09</td>\n",
       "      <td>2018.06.09</td>\n",
       "      <td>6301.0</td>\n",
       "      <td>NaN</td>\n",
       "      <td>NaN</td>\n",
       "    </tr>\n",
       "    <tr>\n",
       "      <th>3</th>\n",
       "      <td>2018.06.08</td>\n",
       "      <td>08-Jun-2018</td>\n",
       "      <td>2018.0</td>\n",
       "      <td>Unprovoked</td>\n",
       "      <td>AUSTRALIA</td>\n",
       "      <td>New South Wales</td>\n",
       "      <td>Arrawarra Headland</td>\n",
       "      <td>Surfing</td>\n",
       "      <td>male</td>\n",
       "      <td>M</td>\n",
       "      <td>...</td>\n",
       "      <td>2 m shark</td>\n",
       "      <td>B. Myatt, GSAF</td>\n",
       "      <td>2018.06.08-Arrawarra.pdf</td>\n",
       "      <td>http://sharkattackfile.net/spreadsheets/pdf_di...</td>\n",
       "      <td>http://sharkattackfile.net/spreadsheets/pdf_di...</td>\n",
       "      <td>2018.06.08</td>\n",
       "      <td>2018.06.08</td>\n",
       "      <td>6300.0</td>\n",
       "      <td>NaN</td>\n",
       "      <td>NaN</td>\n",
       "    </tr>\n",
       "    <tr>\n",
       "      <th>4</th>\n",
       "      <td>2018.06.04</td>\n",
       "      <td>04-Jun-2018</td>\n",
       "      <td>2018.0</td>\n",
       "      <td>Provoked</td>\n",
       "      <td>MEXICO</td>\n",
       "      <td>Colima</td>\n",
       "      <td>La Ticla</td>\n",
       "      <td>Free diving</td>\n",
       "      <td>Gustavo Ramos</td>\n",
       "      <td>M</td>\n",
       "      <td>...</td>\n",
       "      <td>Tiger shark, 3m</td>\n",
       "      <td>A .Kipper</td>\n",
       "      <td>2018.06.04-Ramos.pdf</td>\n",
       "      <td>http://sharkattackfile.net/spreadsheets/pdf_di...</td>\n",
       "      <td>http://sharkattackfile.net/spreadsheets/pdf_di...</td>\n",
       "      <td>2018.06.04</td>\n",
       "      <td>2018.06.04</td>\n",
       "      <td>6299.0</td>\n",
       "      <td>NaN</td>\n",
       "      <td>NaN</td>\n",
       "    </tr>\n",
       "  </tbody>\n",
       "</table>\n",
       "<p>5 rows × 24 columns</p>\n",
       "</div>"
      ],
      "text/plain": [
       "  Case Number         Date    Year        Type    Country             Area  \\\n",
       "0  2018.06.25  25-Jun-2018  2018.0     Boating        USA       California   \n",
       "1  2018.06.18  18-Jun-2018  2018.0  Unprovoked        USA          Georgia   \n",
       "2  2018.06.09  09-Jun-2018  2018.0     Invalid        USA           Hawaii   \n",
       "3  2018.06.08  08-Jun-2018  2018.0  Unprovoked  AUSTRALIA  New South Wales   \n",
       "4  2018.06.04  04-Jun-2018  2018.0    Provoked     MEXICO           Colima   \n",
       "\n",
       "                         Location     Activity             Name Sex   ...  \\\n",
       "0     Oceanside, San Diego County     Paddling      Julie Wolfe    F  ...   \n",
       "1  St. Simon Island, Glynn County     Standing  Adyson McNeely     F  ...   \n",
       "2                    Habush, Oahu      Surfing      John Denges    M  ...   \n",
       "3              Arrawarra Headland      Surfing             male    M  ...   \n",
       "4                        La Ticla  Free diving   Gustavo Ramos     M  ...   \n",
       "\n",
       "          Species           Investigator or Source                       pdf  \\\n",
       "0      White shark                R. Collier, GSAF      2018.06.25-Wolfe.pdf   \n",
       "1              NaN  K.McMurray, TrackingSharks.com    2018.06.18-McNeely.pdf   \n",
       "2              NaN  K.McMurray, TrackingSharks.com     2018.06.09-Denges.pdf   \n",
       "3        2 m shark                  B. Myatt, GSAF  2018.06.08-Arrawarra.pdf   \n",
       "4  Tiger shark, 3m                       A .Kipper      2018.06.04-Ramos.pdf   \n",
       "\n",
       "                                        href formula  \\\n",
       "0  http://sharkattackfile.net/spreadsheets/pdf_di...   \n",
       "1  http://sharkattackfile.net/spreadsheets/pdf_di...   \n",
       "2  http://sharkattackfile.net/spreadsheets/pdf_di...   \n",
       "3  http://sharkattackfile.net/spreadsheets/pdf_di...   \n",
       "4  http://sharkattackfile.net/spreadsheets/pdf_di...   \n",
       "\n",
       "                                                href Case Number.1  \\\n",
       "0  http://sharkattackfile.net/spreadsheets/pdf_di...    2018.06.25   \n",
       "1  http://sharkattackfile.net/spreadsheets/pdf_di...    2018.06.18   \n",
       "2  http://sharkattackfile.net/spreadsheets/pdf_di...    2018.06.09   \n",
       "3  http://sharkattackfile.net/spreadsheets/pdf_di...    2018.06.08   \n",
       "4  http://sharkattackfile.net/spreadsheets/pdf_di...    2018.06.04   \n",
       "\n",
       "  Case Number.2 original order Unnamed: 22 Unnamed: 23  \n",
       "0    2018.06.25         6303.0         NaN         NaN  \n",
       "1    2018.06.18         6302.0         NaN         NaN  \n",
       "2    2018.06.09         6301.0         NaN         NaN  \n",
       "3    2018.06.08         6300.0         NaN         NaN  \n",
       "4    2018.06.04         6299.0         NaN         NaN  \n",
       "\n",
       "[5 rows x 24 columns]"
      ]
     },
     "execution_count": 3,
     "metadata": {},
     "output_type": "execute_result"
    }
   ],
   "source": [
    "# First visualization of the dataset\n",
    "\n",
    "df.head()"
   ]
  },
  {
   "cell_type": "code",
   "execution_count": 4,
   "id": "4d2b27ef",
   "metadata": {
    "scrolled": false
   },
   "outputs": [
    {
     "data": {
      "text/html": [
       "<div>\n",
       "<style scoped>\n",
       "    .dataframe tbody tr th:only-of-type {\n",
       "        vertical-align: middle;\n",
       "    }\n",
       "\n",
       "    .dataframe tbody tr th {\n",
       "        vertical-align: top;\n",
       "    }\n",
       "\n",
       "    .dataframe thead th {\n",
       "        text-align: right;\n",
       "    }\n",
       "</style>\n",
       "<table border=\"1\" class=\"dataframe\">\n",
       "  <thead>\n",
       "    <tr style=\"text-align: right;\">\n",
       "      <th></th>\n",
       "      <th>Case Number</th>\n",
       "      <th>Date</th>\n",
       "      <th>Year</th>\n",
       "      <th>Type</th>\n",
       "      <th>Country</th>\n",
       "      <th>Area</th>\n",
       "      <th>Location</th>\n",
       "      <th>Activity</th>\n",
       "      <th>Name</th>\n",
       "      <th>Sex</th>\n",
       "      <th>...</th>\n",
       "      <th>Species</th>\n",
       "      <th>Investigator or Source</th>\n",
       "      <th>pdf</th>\n",
       "      <th>href formula</th>\n",
       "      <th>href</th>\n",
       "      <th>Case Number.1</th>\n",
       "      <th>Case Number.2</th>\n",
       "      <th>original order</th>\n",
       "      <th>Unnamed: 22</th>\n",
       "      <th>Unnamed: 23</th>\n",
       "    </tr>\n",
       "  </thead>\n",
       "  <tbody>\n",
       "    <tr>\n",
       "      <th>9489</th>\n",
       "      <td>NaN</td>\n",
       "      <td>NaN</td>\n",
       "      <td>NaN</td>\n",
       "      <td>NaN</td>\n",
       "      <td>NaN</td>\n",
       "      <td>NaN</td>\n",
       "      <td>NaN</td>\n",
       "      <td>NaN</td>\n",
       "      <td>NaN</td>\n",
       "      <td>NaN</td>\n",
       "      <td>...</td>\n",
       "      <td>NaN</td>\n",
       "      <td>NaN</td>\n",
       "      <td>NaN</td>\n",
       "      <td>NaN</td>\n",
       "      <td>NaN</td>\n",
       "      <td>NaN</td>\n",
       "      <td>NaN</td>\n",
       "      <td>NaN</td>\n",
       "      <td>NaN</td>\n",
       "      <td>NaN</td>\n",
       "    </tr>\n",
       "    <tr>\n",
       "      <th>24011</th>\n",
       "      <td>NaN</td>\n",
       "      <td>NaN</td>\n",
       "      <td>NaN</td>\n",
       "      <td>NaN</td>\n",
       "      <td>NaN</td>\n",
       "      <td>NaN</td>\n",
       "      <td>NaN</td>\n",
       "      <td>NaN</td>\n",
       "      <td>NaN</td>\n",
       "      <td>NaN</td>\n",
       "      <td>...</td>\n",
       "      <td>NaN</td>\n",
       "      <td>NaN</td>\n",
       "      <td>NaN</td>\n",
       "      <td>NaN</td>\n",
       "      <td>NaN</td>\n",
       "      <td>NaN</td>\n",
       "      <td>NaN</td>\n",
       "      <td>NaN</td>\n",
       "      <td>NaN</td>\n",
       "      <td>NaN</td>\n",
       "    </tr>\n",
       "    <tr>\n",
       "      <th>12646</th>\n",
       "      <td>NaN</td>\n",
       "      <td>NaN</td>\n",
       "      <td>NaN</td>\n",
       "      <td>NaN</td>\n",
       "      <td>NaN</td>\n",
       "      <td>NaN</td>\n",
       "      <td>NaN</td>\n",
       "      <td>NaN</td>\n",
       "      <td>NaN</td>\n",
       "      <td>NaN</td>\n",
       "      <td>...</td>\n",
       "      <td>NaN</td>\n",
       "      <td>NaN</td>\n",
       "      <td>NaN</td>\n",
       "      <td>NaN</td>\n",
       "      <td>NaN</td>\n",
       "      <td>NaN</td>\n",
       "      <td>NaN</td>\n",
       "      <td>NaN</td>\n",
       "      <td>NaN</td>\n",
       "      <td>NaN</td>\n",
       "    </tr>\n",
       "    <tr>\n",
       "      <th>21400</th>\n",
       "      <td>NaN</td>\n",
       "      <td>NaN</td>\n",
       "      <td>NaN</td>\n",
       "      <td>NaN</td>\n",
       "      <td>NaN</td>\n",
       "      <td>NaN</td>\n",
       "      <td>NaN</td>\n",
       "      <td>NaN</td>\n",
       "      <td>NaN</td>\n",
       "      <td>NaN</td>\n",
       "      <td>...</td>\n",
       "      <td>NaN</td>\n",
       "      <td>NaN</td>\n",
       "      <td>NaN</td>\n",
       "      <td>NaN</td>\n",
       "      <td>NaN</td>\n",
       "      <td>NaN</td>\n",
       "      <td>NaN</td>\n",
       "      <td>NaN</td>\n",
       "      <td>NaN</td>\n",
       "      <td>NaN</td>\n",
       "    </tr>\n",
       "    <tr>\n",
       "      <th>14938</th>\n",
       "      <td>NaN</td>\n",
       "      <td>NaN</td>\n",
       "      <td>NaN</td>\n",
       "      <td>NaN</td>\n",
       "      <td>NaN</td>\n",
       "      <td>NaN</td>\n",
       "      <td>NaN</td>\n",
       "      <td>NaN</td>\n",
       "      <td>NaN</td>\n",
       "      <td>NaN</td>\n",
       "      <td>...</td>\n",
       "      <td>NaN</td>\n",
       "      <td>NaN</td>\n",
       "      <td>NaN</td>\n",
       "      <td>NaN</td>\n",
       "      <td>NaN</td>\n",
       "      <td>NaN</td>\n",
       "      <td>NaN</td>\n",
       "      <td>NaN</td>\n",
       "      <td>NaN</td>\n",
       "      <td>NaN</td>\n",
       "    </tr>\n",
       "    <tr>\n",
       "      <th>7284</th>\n",
       "      <td>0</td>\n",
       "      <td>NaN</td>\n",
       "      <td>NaN</td>\n",
       "      <td>NaN</td>\n",
       "      <td>NaN</td>\n",
       "      <td>NaN</td>\n",
       "      <td>NaN</td>\n",
       "      <td>NaN</td>\n",
       "      <td>NaN</td>\n",
       "      <td>NaN</td>\n",
       "      <td>...</td>\n",
       "      <td>NaN</td>\n",
       "      <td>NaN</td>\n",
       "      <td>NaN</td>\n",
       "      <td>NaN</td>\n",
       "      <td>NaN</td>\n",
       "      <td>NaN</td>\n",
       "      <td>NaN</td>\n",
       "      <td>NaN</td>\n",
       "      <td>NaN</td>\n",
       "      <td>NaN</td>\n",
       "    </tr>\n",
       "    <tr>\n",
       "      <th>23357</th>\n",
       "      <td>NaN</td>\n",
       "      <td>NaN</td>\n",
       "      <td>NaN</td>\n",
       "      <td>NaN</td>\n",
       "      <td>NaN</td>\n",
       "      <td>NaN</td>\n",
       "      <td>NaN</td>\n",
       "      <td>NaN</td>\n",
       "      <td>NaN</td>\n",
       "      <td>NaN</td>\n",
       "      <td>...</td>\n",
       "      <td>NaN</td>\n",
       "      <td>NaN</td>\n",
       "      <td>NaN</td>\n",
       "      <td>NaN</td>\n",
       "      <td>NaN</td>\n",
       "      <td>NaN</td>\n",
       "      <td>NaN</td>\n",
       "      <td>NaN</td>\n",
       "      <td>NaN</td>\n",
       "      <td>NaN</td>\n",
       "    </tr>\n",
       "    <tr>\n",
       "      <th>19625</th>\n",
       "      <td>NaN</td>\n",
       "      <td>NaN</td>\n",
       "      <td>NaN</td>\n",
       "      <td>NaN</td>\n",
       "      <td>NaN</td>\n",
       "      <td>NaN</td>\n",
       "      <td>NaN</td>\n",
       "      <td>NaN</td>\n",
       "      <td>NaN</td>\n",
       "      <td>NaN</td>\n",
       "      <td>...</td>\n",
       "      <td>NaN</td>\n",
       "      <td>NaN</td>\n",
       "      <td>NaN</td>\n",
       "      <td>NaN</td>\n",
       "      <td>NaN</td>\n",
       "      <td>NaN</td>\n",
       "      <td>NaN</td>\n",
       "      <td>NaN</td>\n",
       "      <td>NaN</td>\n",
       "      <td>NaN</td>\n",
       "    </tr>\n",
       "    <tr>\n",
       "      <th>11564</th>\n",
       "      <td>NaN</td>\n",
       "      <td>NaN</td>\n",
       "      <td>NaN</td>\n",
       "      <td>NaN</td>\n",
       "      <td>NaN</td>\n",
       "      <td>NaN</td>\n",
       "      <td>NaN</td>\n",
       "      <td>NaN</td>\n",
       "      <td>NaN</td>\n",
       "      <td>NaN</td>\n",
       "      <td>...</td>\n",
       "      <td>NaN</td>\n",
       "      <td>NaN</td>\n",
       "      <td>NaN</td>\n",
       "      <td>NaN</td>\n",
       "      <td>NaN</td>\n",
       "      <td>NaN</td>\n",
       "      <td>NaN</td>\n",
       "      <td>NaN</td>\n",
       "      <td>NaN</td>\n",
       "      <td>NaN</td>\n",
       "    </tr>\n",
       "    <tr>\n",
       "      <th>19344</th>\n",
       "      <td>NaN</td>\n",
       "      <td>NaN</td>\n",
       "      <td>NaN</td>\n",
       "      <td>NaN</td>\n",
       "      <td>NaN</td>\n",
       "      <td>NaN</td>\n",
       "      <td>NaN</td>\n",
       "      <td>NaN</td>\n",
       "      <td>NaN</td>\n",
       "      <td>NaN</td>\n",
       "      <td>...</td>\n",
       "      <td>NaN</td>\n",
       "      <td>NaN</td>\n",
       "      <td>NaN</td>\n",
       "      <td>NaN</td>\n",
       "      <td>NaN</td>\n",
       "      <td>NaN</td>\n",
       "      <td>NaN</td>\n",
       "      <td>NaN</td>\n",
       "      <td>NaN</td>\n",
       "      <td>NaN</td>\n",
       "    </tr>\n",
       "  </tbody>\n",
       "</table>\n",
       "<p>10 rows × 24 columns</p>\n",
       "</div>"
      ],
      "text/plain": [
       "      Case Number Date  Year Type Country Area Location Activity Name Sex   \\\n",
       "9489          NaN  NaN   NaN  NaN     NaN  NaN      NaN      NaN  NaN  NaN   \n",
       "24011         NaN  NaN   NaN  NaN     NaN  NaN      NaN      NaN  NaN  NaN   \n",
       "12646         NaN  NaN   NaN  NaN     NaN  NaN      NaN      NaN  NaN  NaN   \n",
       "21400         NaN  NaN   NaN  NaN     NaN  NaN      NaN      NaN  NaN  NaN   \n",
       "14938         NaN  NaN   NaN  NaN     NaN  NaN      NaN      NaN  NaN  NaN   \n",
       "7284            0  NaN   NaN  NaN     NaN  NaN      NaN      NaN  NaN  NaN   \n",
       "23357         NaN  NaN   NaN  NaN     NaN  NaN      NaN      NaN  NaN  NaN   \n",
       "19625         NaN  NaN   NaN  NaN     NaN  NaN      NaN      NaN  NaN  NaN   \n",
       "11564         NaN  NaN   NaN  NaN     NaN  NaN      NaN      NaN  NaN  NaN   \n",
       "19344         NaN  NaN   NaN  NaN     NaN  NaN      NaN      NaN  NaN  NaN   \n",
       "\n",
       "       ... Species  Investigator or Source  pdf href formula href  \\\n",
       "9489   ...      NaN                    NaN  NaN          NaN  NaN   \n",
       "24011  ...      NaN                    NaN  NaN          NaN  NaN   \n",
       "12646  ...      NaN                    NaN  NaN          NaN  NaN   \n",
       "21400  ...      NaN                    NaN  NaN          NaN  NaN   \n",
       "14938  ...      NaN                    NaN  NaN          NaN  NaN   \n",
       "7284   ...      NaN                    NaN  NaN          NaN  NaN   \n",
       "23357  ...      NaN                    NaN  NaN          NaN  NaN   \n",
       "19625  ...      NaN                    NaN  NaN          NaN  NaN   \n",
       "11564  ...      NaN                    NaN  NaN          NaN  NaN   \n",
       "19344  ...      NaN                    NaN  NaN          NaN  NaN   \n",
       "\n",
       "      Case Number.1 Case Number.2 original order Unnamed: 22 Unnamed: 23  \n",
       "9489            NaN           NaN            NaN         NaN         NaN  \n",
       "24011           NaN           NaN            NaN         NaN         NaN  \n",
       "12646           NaN           NaN            NaN         NaN         NaN  \n",
       "21400           NaN           NaN            NaN         NaN         NaN  \n",
       "14938           NaN           NaN            NaN         NaN         NaN  \n",
       "7284            NaN           NaN            NaN         NaN         NaN  \n",
       "23357           NaN           NaN            NaN         NaN         NaN  \n",
       "19625           NaN           NaN            NaN         NaN         NaN  \n",
       "11564           NaN           NaN            NaN         NaN         NaN  \n",
       "19344           NaN           NaN            NaN         NaN         NaN  \n",
       "\n",
       "[10 rows x 24 columns]"
      ]
     },
     "execution_count": 4,
     "metadata": {},
     "output_type": "execute_result"
    }
   ],
   "source": [
    "df.sample(10)"
   ]
  },
  {
   "cell_type": "code",
   "execution_count": 5,
   "id": "ec2329bd",
   "metadata": {},
   "outputs": [
    {
     "data": {
      "text/plain": [
       "(25723, 24)"
      ]
     },
     "execution_count": 5,
     "metadata": {},
     "output_type": "execute_result"
    }
   ],
   "source": [
    "# To see how many values does the dataset have \n",
    "\n",
    "df.shape"
   ]
  },
  {
   "cell_type": "code",
   "execution_count": 6,
   "id": "f10273cc",
   "metadata": {},
   "outputs": [
    {
     "name": "stdout",
     "output_type": "stream",
     "text": [
      "<class 'pandas.core.frame.DataFrame'>\n",
      "RangeIndex: 25723 entries, 0 to 25722\n",
      "Data columns (total 24 columns):\n",
      " #   Column                  Non-Null Count  Dtype  \n",
      "---  ------                  --------------  -----  \n",
      " 0   Case Number             8702 non-null   object \n",
      " 1   Date                    6302 non-null   object \n",
      " 2   Year                    6300 non-null   float64\n",
      " 3   Type                    6298 non-null   object \n",
      " 4   Country                 6252 non-null   object \n",
      " 5   Area                    5847 non-null   object \n",
      " 6   Location                5762 non-null   object \n",
      " 7   Activity                5758 non-null   object \n",
      " 8   Name                    6092 non-null   object \n",
      " 9   Sex                     5737 non-null   object \n",
      " 10  Age                     3471 non-null   object \n",
      " 11  Injury                  6274 non-null   object \n",
      " 12  Fatal (Y/N)             5763 non-null   object \n",
      " 13  Time                    2948 non-null   object \n",
      " 14  Species                 3464 non-null   object \n",
      " 15  Investigator or Source  6285 non-null   object \n",
      " 16  pdf                     6302 non-null   object \n",
      " 17  href formula            6301 non-null   object \n",
      " 18  href                    6302 non-null   object \n",
      " 19  Case Number.1           6302 non-null   object \n",
      " 20  Case Number.2           6302 non-null   object \n",
      " 21  original order          6309 non-null   float64\n",
      " 22  Unnamed: 22             1 non-null      object \n",
      " 23  Unnamed: 23             2 non-null      object \n",
      "dtypes: float64(2), object(22)\n",
      "memory usage: 4.7+ MB\n"
     ]
    }
   ],
   "source": [
    "df.info()"
   ]
  },
  {
   "cell_type": "code",
   "execution_count": 7,
   "id": "643f2e01",
   "metadata": {
    "scrolled": true
   },
   "outputs": [],
   "source": [
    "# After analyzing the data and its figures, I have decided the HYPOTHESES I am going to work on:\n",
    "\n",
    "# 1. Over the years the % of shark attacks ending in fatality has decreased.\n",
    "# 2. The accidents happening at night have more chance of ending in fatality than in another time of the day.\n",
    "# 3. Surfing represents the activity with more fatal accidents."
   ]
  },
  {
   "cell_type": "code",
   "execution_count": 8,
   "id": "045bee55",
   "metadata": {},
   "outputs": [
    {
     "data": {
      "text/plain": [
       "Case Number               17021\n",
       "Date                      19421\n",
       "Year                      19423\n",
       "Type                      19425\n",
       "Country                   19471\n",
       "Area                      19876\n",
       "Location                  19961\n",
       "Activity                  19965\n",
       "Name                      19631\n",
       "Sex                       19986\n",
       "Age                       22252\n",
       "Injury                    19449\n",
       "Fatal (Y/N)               19960\n",
       "Time                      22775\n",
       "Species                   22259\n",
       "Investigator or Source    19438\n",
       "pdf                       19421\n",
       "href formula              19422\n",
       "href                      19421\n",
       "Case Number.1             19421\n",
       "Case Number.2             19421\n",
       "original order            19414\n",
       "Unnamed: 22               25722\n",
       "Unnamed: 23               25721\n",
       "dtype: int64"
      ]
     },
     "execution_count": 8,
     "metadata": {},
     "output_type": "execute_result"
    }
   ],
   "source": [
    "df.isna().sum()"
   ]
  },
  {
   "cell_type": "code",
   "execution_count": 9,
   "id": "8925ba34",
   "metadata": {},
   "outputs": [
    {
     "data": {
      "text/plain": [
       "Index(['Case Number', 'Date', 'Year', 'Type', 'Country', 'Area', 'Location',\n",
       "       'Activity', 'Name', 'Sex ', 'Age', 'Injury', 'Fatal (Y/N)', 'Time',\n",
       "       'Species ', 'Investigator or Source', 'pdf', 'href formula', 'href',\n",
       "       'Case Number.1', 'Case Number.2', 'original order', 'Unnamed: 22',\n",
       "       'Unnamed: 23'],\n",
       "      dtype='object')"
      ]
     },
     "execution_count": 9,
     "metadata": {},
     "output_type": "execute_result"
    }
   ],
   "source": [
    "df.columns"
   ]
  },
  {
   "cell_type": "code",
   "execution_count": 10,
   "id": "d378245c",
   "metadata": {},
   "outputs": [
    {
     "data": {
      "text/plain": [
       "array([nan, 'stopped here'], dtype=object)"
      ]
     },
     "execution_count": 10,
     "metadata": {},
     "output_type": "execute_result"
    }
   ],
   "source": [
    "df['Unnamed: 22'].unique()"
   ]
  },
  {
   "cell_type": "code",
   "execution_count": 11,
   "id": "102ec5aa",
   "metadata": {},
   "outputs": [
    {
     "data": {
      "text/plain": [
       "array([nan, 'Teramo', 'change filename'], dtype=object)"
      ]
     },
     "execution_count": 11,
     "metadata": {},
     "output_type": "execute_result"
    }
   ],
   "source": [
    "df['Unnamed: 23'].unique()"
   ]
  },
  {
   "cell_type": "code",
   "execution_count": 12,
   "id": "f94bcf72",
   "metadata": {},
   "outputs": [],
   "source": [
    "# Now I am going to remove the columns full of NaN and also some columns whose values I am not going to use\n",
    "\n",
    "df.drop(['original order', 'Case Number.1', 'Case Number.2', 'pdf', 'href formula', 'href', 'Unnamed: 22', 'Unnamed: 23', 'Area', 'Location', 'Investigator or Source'], axis=1, inplace=True)"
   ]
  },
  {
   "cell_type": "code",
   "execution_count": 13,
   "id": "98c72c36",
   "metadata": {},
   "outputs": [
    {
     "data": {
      "text/html": [
       "<div>\n",
       "<style scoped>\n",
       "    .dataframe tbody tr th:only-of-type {\n",
       "        vertical-align: middle;\n",
       "    }\n",
       "\n",
       "    .dataframe tbody tr th {\n",
       "        vertical-align: top;\n",
       "    }\n",
       "\n",
       "    .dataframe thead th {\n",
       "        text-align: right;\n",
       "    }\n",
       "</style>\n",
       "<table border=\"1\" class=\"dataframe\">\n",
       "  <thead>\n",
       "    <tr style=\"text-align: right;\">\n",
       "      <th></th>\n",
       "      <th>Case Number</th>\n",
       "      <th>Date</th>\n",
       "      <th>Year</th>\n",
       "      <th>Type</th>\n",
       "      <th>Country</th>\n",
       "      <th>Activity</th>\n",
       "      <th>Name</th>\n",
       "      <th>Sex</th>\n",
       "      <th>Age</th>\n",
       "      <th>Injury</th>\n",
       "      <th>Fatal (Y/N)</th>\n",
       "      <th>Time</th>\n",
       "      <th>Species</th>\n",
       "    </tr>\n",
       "  </thead>\n",
       "  <tbody>\n",
       "    <tr>\n",
       "      <th>18202</th>\n",
       "      <td>NaN</td>\n",
       "      <td>NaN</td>\n",
       "      <td>NaN</td>\n",
       "      <td>NaN</td>\n",
       "      <td>NaN</td>\n",
       "      <td>NaN</td>\n",
       "      <td>NaN</td>\n",
       "      <td>NaN</td>\n",
       "      <td>NaN</td>\n",
       "      <td>NaN</td>\n",
       "      <td>NaN</td>\n",
       "      <td>NaN</td>\n",
       "      <td>NaN</td>\n",
       "    </tr>\n",
       "    <tr>\n",
       "      <th>15166</th>\n",
       "      <td>NaN</td>\n",
       "      <td>NaN</td>\n",
       "      <td>NaN</td>\n",
       "      <td>NaN</td>\n",
       "      <td>NaN</td>\n",
       "      <td>NaN</td>\n",
       "      <td>NaN</td>\n",
       "      <td>NaN</td>\n",
       "      <td>NaN</td>\n",
       "      <td>NaN</td>\n",
       "      <td>NaN</td>\n",
       "      <td>NaN</td>\n",
       "      <td>NaN</td>\n",
       "    </tr>\n",
       "    <tr>\n",
       "      <th>7333</th>\n",
       "      <td>0</td>\n",
       "      <td>NaN</td>\n",
       "      <td>NaN</td>\n",
       "      <td>NaN</td>\n",
       "      <td>NaN</td>\n",
       "      <td>NaN</td>\n",
       "      <td>NaN</td>\n",
       "      <td>NaN</td>\n",
       "      <td>NaN</td>\n",
       "      <td>NaN</td>\n",
       "      <td>NaN</td>\n",
       "      <td>NaN</td>\n",
       "      <td>NaN</td>\n",
       "    </tr>\n",
       "    <tr>\n",
       "      <th>12405</th>\n",
       "      <td>NaN</td>\n",
       "      <td>NaN</td>\n",
       "      <td>NaN</td>\n",
       "      <td>NaN</td>\n",
       "      <td>NaN</td>\n",
       "      <td>NaN</td>\n",
       "      <td>NaN</td>\n",
       "      <td>NaN</td>\n",
       "      <td>NaN</td>\n",
       "      <td>NaN</td>\n",
       "      <td>NaN</td>\n",
       "      <td>NaN</td>\n",
       "      <td>NaN</td>\n",
       "    </tr>\n",
       "    <tr>\n",
       "      <th>9976</th>\n",
       "      <td>NaN</td>\n",
       "      <td>NaN</td>\n",
       "      <td>NaN</td>\n",
       "      <td>NaN</td>\n",
       "      <td>NaN</td>\n",
       "      <td>NaN</td>\n",
       "      <td>NaN</td>\n",
       "      <td>NaN</td>\n",
       "      <td>NaN</td>\n",
       "      <td>NaN</td>\n",
       "      <td>NaN</td>\n",
       "      <td>NaN</td>\n",
       "      <td>NaN</td>\n",
       "    </tr>\n",
       "  </tbody>\n",
       "</table>\n",
       "</div>"
      ],
      "text/plain": [
       "      Case Number Date  Year Type Country Activity Name Sex   Age Injury  \\\n",
       "18202         NaN  NaN   NaN  NaN     NaN      NaN  NaN  NaN  NaN    NaN   \n",
       "15166         NaN  NaN   NaN  NaN     NaN      NaN  NaN  NaN  NaN    NaN   \n",
       "7333            0  NaN   NaN  NaN     NaN      NaN  NaN  NaN  NaN    NaN   \n",
       "12405         NaN  NaN   NaN  NaN     NaN      NaN  NaN  NaN  NaN    NaN   \n",
       "9976          NaN  NaN   NaN  NaN     NaN      NaN  NaN  NaN  NaN    NaN   \n",
       "\n",
       "      Fatal (Y/N) Time Species   \n",
       "18202         NaN  NaN      NaN  \n",
       "15166         NaN  NaN      NaN  \n",
       "7333          NaN  NaN      NaN  \n",
       "12405         NaN  NaN      NaN  \n",
       "9976          NaN  NaN      NaN  "
      ]
     },
     "execution_count": 13,
     "metadata": {},
     "output_type": "execute_result"
    }
   ],
   "source": [
    "df.sample(5)"
   ]
  },
  {
   "cell_type": "code",
   "execution_count": 14,
   "id": "eef6936c",
   "metadata": {},
   "outputs": [],
   "source": [
    "# Now I am removing all the rows where all the values are NaN\n",
    "\n",
    "df.dropna(axis=0, how='all', thresh=None, inplace=True)"
   ]
  },
  {
   "cell_type": "code",
   "execution_count": 15,
   "id": "dd5cf851",
   "metadata": {
    "scrolled": true
   },
   "outputs": [
    {
     "data": {
      "text/plain": [
       "(8703, 13)"
      ]
     },
     "execution_count": 15,
     "metadata": {},
     "output_type": "execute_result"
    }
   ],
   "source": [
    "df.shape"
   ]
  },
  {
   "cell_type": "code",
   "execution_count": 16,
   "id": "d908649f",
   "metadata": {},
   "outputs": [],
   "source": [
    "# Now I want to see the unique values per column to identify how do I have to clean the columns I need"
   ]
  },
  {
   "cell_type": "code",
   "execution_count": 17,
   "id": "97b557d5",
   "metadata": {},
   "outputs": [
    {
     "data": {
      "text/plain": [
       "array(['Boating', 'Unprovoked', 'Invalid', 'Provoked', 'Questionable',\n",
       "       'Sea Disaster', nan, 'Boat', 'Boatomg'], dtype=object)"
      ]
     },
     "execution_count": 17,
     "metadata": {},
     "output_type": "execute_result"
    }
   ],
   "source": [
    "df['Type'].unique()"
   ]
  },
  {
   "cell_type": "code",
   "execution_count": 18,
   "id": "da3ad968",
   "metadata": {
    "scrolled": true
   },
   "outputs": [
    {
     "data": {
      "text/plain": [
       "array(['White shark', nan, '2 m shark', ..., \"12' tiger shark\",\n",
       "       'Blue pointers',\n",
       "       'Said to involve a grey nurse shark that leapt out of the water and  seized the boy but species identification is questionable'],\n",
       "      dtype=object)"
      ]
     },
     "execution_count": 18,
     "metadata": {},
     "output_type": "execute_result"
    }
   ],
   "source": [
    "df['Species '].unique()"
   ]
  },
  {
   "cell_type": "code",
   "execution_count": 19,
   "id": "3eb4f0bf",
   "metadata": {},
   "outputs": [],
   "source": [
    "# df['Year'].unique()"
   ]
  },
  {
   "cell_type": "code",
   "execution_count": 20,
   "id": "6268b230",
   "metadata": {},
   "outputs": [],
   "source": [
    "# df['Country'].unique()"
   ]
  },
  {
   "cell_type": "code",
   "execution_count": 21,
   "id": "53f6d63a",
   "metadata": {},
   "outputs": [
    {
     "data": {
      "text/plain": [
       "array(['No injury to occupant, outrigger canoe and paddle damaged',\n",
       "       'Minor injury to left thigh',\n",
       "       'Injury to left lower leg from surfboard skeg', ...,\n",
       "       'FATAL, leg stripped of flesh  ',\n",
       "       'FATAL, knocked overboard by tail of shark & carried off by shark ',\n",
       "       'FATAL. \"Shark bit him in half, carrying away the lower extremities\" '],\n",
       "      dtype=object)"
      ]
     },
     "execution_count": 21,
     "metadata": {},
     "output_type": "execute_result"
    }
   ],
   "source": [
    "df['Injury'].unique()"
   ]
  },
  {
   "cell_type": "code",
   "execution_count": 22,
   "id": "3c39c2b6",
   "metadata": {},
   "outputs": [
    {
     "data": {
      "text/plain": [
       "USA                       2229\n",
       "AUSTRALIA                 1338\n",
       "SOUTH AFRICA               579\n",
       "PAPUA NEW GUINEA           134\n",
       "NEW ZEALAND                128\n",
       "                          ... \n",
       "MALDIVE ISLANDS              1\n",
       "NICARAGUA                    1\n",
       "NORTH SEA                    1\n",
       "RED SEA / INDIAN OCEAN       1\n",
       "CEYLON (SRI LANKA)           1\n",
       "Name: Country, Length: 212, dtype: int64"
      ]
     },
     "execution_count": 22,
     "metadata": {},
     "output_type": "execute_result"
    }
   ],
   "source": [
    "df['Country'].value_counts()"
   ]
  },
  {
   "cell_type": "code",
   "execution_count": 23,
   "id": "1f129bf6",
   "metadata": {
    "scrolled": true
   },
   "outputs": [
    {
     "data": {
      "text/plain": [
       "Unprovoked      4595\n",
       "Provoked         574\n",
       "Invalid          547\n",
       "Sea Disaster     239\n",
       "Boating          203\n",
       "Boat             137\n",
       "Questionable       2\n",
       "Boatomg            1\n",
       "Name: Type, dtype: int64"
      ]
     },
     "execution_count": 23,
     "metadata": {},
     "output_type": "execute_result"
    }
   ],
   "source": [
    "df['Type'].value_counts()"
   ]
  },
  {
   "cell_type": "code",
   "execution_count": 24,
   "id": "7ee79d4b",
   "metadata": {},
   "outputs": [],
   "source": [
    "# The column of 'Fatal (Y/N)' it is going to be used for all my hypotheses, so it will be the first column I am going to clean with the function replace"
   ]
  },
  {
   "cell_type": "code",
   "execution_count": 25,
   "id": "3cc786d5",
   "metadata": {},
   "outputs": [],
   "source": [
    "df['Fatal (Y/N)'].replace({' N': 'N', 'M': 'UNKNOWN', '2017': 'UNKNOWN', 'N ': 'N', 'y': 'Y'}, inplace=True)"
   ]
  },
  {
   "cell_type": "code",
   "execution_count": 26,
   "id": "812112ee",
   "metadata": {},
   "outputs": [
    {
     "data": {
      "text/plain": [
       "N          4301\n",
       "Y          1389\n",
       "UNKNOWN      73\n",
       "Name: Fatal (Y/N), dtype: int64"
      ]
     },
     "execution_count": 26,
     "metadata": {},
     "output_type": "execute_result"
    }
   ],
   "source": [
    "df['Fatal (Y/N)'].value_counts()"
   ]
  },
  {
   "cell_type": "code",
   "execution_count": 27,
   "id": "99f4bc5e",
   "metadata": {},
   "outputs": [],
   "source": [
    "df['Fatal (Y/N)'].fillna('UNKNOWN', inplace=True)"
   ]
  },
  {
   "cell_type": "code",
   "execution_count": 28,
   "id": "d0c2ae4f",
   "metadata": {},
   "outputs": [
    {
     "data": {
      "text/plain": [
       "array(['N', 'Y', 'UNKNOWN'], dtype=object)"
      ]
     },
     "execution_count": 28,
     "metadata": {},
     "output_type": "execute_result"
    }
   ],
   "source": [
    "df['Fatal (Y/N)'].unique()"
   ]
  },
  {
   "cell_type": "code",
   "execution_count": 29,
   "id": "8fa0b33a",
   "metadata": {},
   "outputs": [],
   "source": [
    "# Finally, for my hipotheses #1 I want to see if the mortality of the shark attacks has decreased over time. \n",
    "# However, I have identified there are some cases which date from year 0, 50, 500, etc. so I am going to test this hypotheses for the last 2 centuries.\n",
    "# So now I am going to remove the rows from 6133 to 6301 which are where those values are in, as identified below"
   ]
  },
  {
   "cell_type": "code",
   "execution_count": 30,
   "id": "e97102a6",
   "metadata": {
    "scrolled": true
   },
   "outputs": [
    {
     "name": "stdout",
     "output_type": "stream",
     "text": [
      "[2018.0, 2017.0, nan, 2016.0, 2015.0, 2014.0, 2013.0, 2012.0, 2011.0, 2010.0, 2009.0, 2008.0, 2007.0, 2006.0, 2005.0, 2004.0, 2003.0, 2002.0, 2001.0, 2000.0, 1999.0, 1998.0, 1997.0, 1996.0, 1995.0, 1984.0, 1994.0, 1993.0, 1992.0, 1991.0, 1990.0, 1989.0, 1969.0, 1988.0, 1987.0, 1986.0, 1985.0, 1983.0, 1982.0, 1981.0, 1980.0, 1979.0, 1978.0, 1977.0, 1976.0, 1975.0, 1974.0, 1973.0, 1972.0, 1971.0, 1970.0, 1968.0, 1967.0, 1966.0, 1965.0, 1964.0, 1963.0, 1962.0, 1961.0, 1960.0, 1959.0, 1958.0, 1957.0, 1956.0, 1955.0, 1954.0, 1953.0, 1952.0, 1951.0, 1950.0, 1949.0, 1948.0, 1848.0, 1947.0, 1946.0, 1945.0, 1944.0, 1943.0, 1942.0, 1941.0, 1940.0, 1939.0, 1938.0, 1937.0, 1936.0, 1935.0, 1934.0, 1933.0, 1932.0, 1931.0, 1930.0, 1929.0, 1928.0, 1927.0, 1926.0, 1925.0, 1924.0, 1923.0, 1922.0, 1921.0, 1920.0, 1919.0, 1918.0, 1917.0, 1916.0, 1915.0, 1914.0, 1913.0, 1912.0, 1911.0, 1910.0, 1909.0, 1908.0, 1907.0, 1906.0, 1905.0, 1904.0, 1903.0, 1902.0, 1901.0, 1900.0, 1899.0, 1898.0, 1897.0, 1896.0, 1895.0, 1894.0, 1893.0, 1892.0, 1891.0, 1890.0, 1889.0, 1888.0, 1887.0, 1886.0, 1885.0, 1884.0, 1883.0, 1882.0, 1881.0, 1880.0, 1879.0, 1878.0, 1877.0, 1876.0, 1875.0, 1874.0, 1873.0, 1872.0, 1871.0, 1870.0, 1869.0, 1868.0, 1867.0, 1866.0, 1865.0, 1864.0, 1863.0, 1862.0, 1861.0, 1860.0, 1859.0, 1858.0, 1857.0, 1856.0, 1855.0, 1853.0, 1852.0, 1851.0, 1850.0, 1849.0, 1847.0, 1846.0, 1845.0, 1844.0, 1842.0, 1841.0, 1840.0, 1839.0, 1837.0, 1836.0, 1835.0, 1834.0, 1832.0, 1831.0, 1830.0, 1829.0, 1828.0, 1827.0, 1826.0, 1825.0, 1823.0, 1822.0, 1819.0, 1818.0, 1817.0, 1816.0, 1815.0, 1812.0, 1811.0, 1810.0, 1808.0, 1807.0, 1805.0, 1804.0, 1803.0, 1802.0, 1801.0, 1800.0, 1797.0, 1792.0, 1791.0, 1788.0, 1787.0, 1786.0, 1785.0, 1784.0, 1783.0, 1780.0, 1779.0, 1776.0, 1771.0, 1767.0, 1764.0, 1758.0, 1753.0, 1751.0, 1749.0, 1755.0, 1748.0, 1742.0, 1738.0, 1733.0, 1723.0, 1721.0, 1703.0, 1700.0, 1642.0, 1638.0, 1637.0, 1617.0, 1595.0, 1580.0, 1555.0, 1554.0, 1543.0, 500.0, 77.0, 5.0, 0.0]\n"
     ]
    }
   ],
   "source": [
    "print(list(df['Year'].unique()))"
   ]
  },
  {
   "cell_type": "code",
   "execution_count": 31,
   "id": "e838d312",
   "metadata": {},
   "outputs": [],
   "source": [
    "sharks = df.loc[df['Year'] >= 1800.0]"
   ]
  },
  {
   "cell_type": "code",
   "execution_count": 32,
   "id": "ad930667",
   "metadata": {
    "scrolled": true
   },
   "outputs": [
    {
     "data": {
      "text/plain": [
       "array([2018., 2017., 2016., 2015., 2014., 2013., 2012., 2011., 2010.,\n",
       "       2009., 2008., 2007., 2006., 2005., 2004., 2003., 2002., 2001.,\n",
       "       2000., 1999., 1998., 1997., 1996., 1995., 1984., 1994., 1993.,\n",
       "       1992., 1991., 1990., 1989., 1969., 1988., 1987., 1986., 1985.,\n",
       "       1983., 1982., 1981., 1980., 1979., 1978., 1977., 1976., 1975.,\n",
       "       1974., 1973., 1972., 1971., 1970., 1968., 1967., 1966., 1965.,\n",
       "       1964., 1963., 1962., 1961., 1960., 1959., 1958., 1957., 1956.,\n",
       "       1955., 1954., 1953., 1952., 1951., 1950., 1949., 1948., 1848.,\n",
       "       1947., 1946., 1945., 1944., 1943., 1942., 1941., 1940., 1939.,\n",
       "       1938., 1937., 1936., 1935., 1934., 1933., 1932., 1931., 1930.,\n",
       "       1929., 1928., 1927., 1926., 1925., 1924., 1923., 1922., 1921.,\n",
       "       1920., 1919., 1918., 1917., 1916., 1915., 1914., 1913., 1912.,\n",
       "       1911., 1910., 1909., 1908., 1907., 1906., 1905., 1904., 1903.,\n",
       "       1902., 1901., 1900., 1899., 1898., 1897., 1896., 1895., 1894.,\n",
       "       1893., 1892., 1891., 1890., 1889., 1888., 1887., 1886., 1885.,\n",
       "       1884., 1883., 1882., 1881., 1880., 1879., 1878., 1877., 1876.,\n",
       "       1875., 1874., 1873., 1872., 1871., 1870., 1869., 1868., 1867.,\n",
       "       1866., 1865., 1864., 1863., 1862., 1861., 1860., 1859., 1858.,\n",
       "       1857., 1856., 1855., 1853., 1852., 1851., 1850., 1849., 1847.,\n",
       "       1846., 1845., 1844., 1842., 1841., 1840., 1839., 1837., 1836.,\n",
       "       1835., 1834., 1832., 1831., 1830., 1829., 1828., 1827., 1826.,\n",
       "       1825., 1823., 1822., 1819., 1818., 1817., 1816., 1815., 1812.,\n",
       "       1811., 1810., 1808., 1807., 1805., 1804., 1803., 1802., 1801.,\n",
       "       1800.])"
      ]
     },
     "execution_count": 32,
     "metadata": {},
     "output_type": "execute_result"
    }
   ],
   "source": [
    "sharks['Year'].unique()"
   ]
  },
  {
   "cell_type": "code",
   "execution_count": 33,
   "id": "9f327fab",
   "metadata": {},
   "outputs": [],
   "source": [
    "# The values in column 'Year' are floats, I want them now to be int because it is much clear for a number\n",
    "sharks['Year'] = sharks['Year'].astype(dtype=int)"
   ]
  },
  {
   "cell_type": "code",
   "execution_count": 34,
   "id": "34df036f",
   "metadata": {},
   "outputs": [
    {
     "data": {
      "text/plain": [
       "array([2018, 2017, 2016, 2015, 2014, 2013, 2012, 2011, 2010, 2009, 2008,\n",
       "       2007, 2006, 2005, 2004, 2003, 2002, 2001, 2000, 1999, 1998, 1997,\n",
       "       1996, 1995, 1984, 1994, 1993, 1992, 1991, 1990, 1989, 1969, 1988,\n",
       "       1987, 1986, 1985, 1983, 1982, 1981, 1980, 1979, 1978, 1977, 1976,\n",
       "       1975, 1974, 1973, 1972, 1971, 1970, 1968, 1967, 1966, 1965, 1964,\n",
       "       1963, 1962, 1961, 1960, 1959, 1958, 1957, 1956, 1955, 1954, 1953,\n",
       "       1952, 1951, 1950, 1949, 1948, 1848, 1947, 1946, 1945, 1944, 1943,\n",
       "       1942, 1941, 1940, 1939, 1938, 1937, 1936, 1935, 1934, 1933, 1932,\n",
       "       1931, 1930, 1929, 1928, 1927, 1926, 1925, 1924, 1923, 1922, 1921,\n",
       "       1920, 1919, 1918, 1917, 1916, 1915, 1914, 1913, 1912, 1911, 1910,\n",
       "       1909, 1908, 1907, 1906, 1905, 1904, 1903, 1902, 1901, 1900, 1899,\n",
       "       1898, 1897, 1896, 1895, 1894, 1893, 1892, 1891, 1890, 1889, 1888,\n",
       "       1887, 1886, 1885, 1884, 1883, 1882, 1881, 1880, 1879, 1878, 1877,\n",
       "       1876, 1875, 1874, 1873, 1872, 1871, 1870, 1869, 1868, 1867, 1866,\n",
       "       1865, 1864, 1863, 1862, 1861, 1860, 1859, 1858, 1857, 1856, 1855,\n",
       "       1853, 1852, 1851, 1850, 1849, 1847, 1846, 1845, 1844, 1842, 1841,\n",
       "       1840, 1839, 1837, 1836, 1835, 1834, 1832, 1831, 1830, 1829, 1828,\n",
       "       1827, 1826, 1825, 1823, 1822, 1819, 1818, 1817, 1816, 1815, 1812,\n",
       "       1811, 1810, 1808, 1807, 1805, 1804, 1803, 1802, 1801, 1800])"
      ]
     },
     "execution_count": 34,
     "metadata": {},
     "output_type": "execute_result"
    }
   ],
   "source": [
    "sharks['Year'].unique()"
   ]
  },
  {
   "cell_type": "code",
   "execution_count": 35,
   "id": "c0c1e749",
   "metadata": {},
   "outputs": [],
   "source": [
    "# Now for the column 'Time', I need to use this column for my 2nd hypotheses "
   ]
  },
  {
   "cell_type": "code",
   "execution_count": 36,
   "id": "c7baf8bf",
   "metadata": {
    "scrolled": true
   },
   "outputs": [
    {
     "data": {
      "text/plain": [
       "Afternoon      183\n",
       "11h00          128\n",
       "Morning        120\n",
       "12h00          109\n",
       "15h00          108\n",
       "              ... \n",
       "14h37            1\n",
       "10h07            1\n",
       "13h53            1\n",
       "13h23            1\n",
       "19h00-20h00      1\n",
       "Name: Time, Length: 366, dtype: int64"
      ]
     },
     "execution_count": 36,
     "metadata": {},
     "output_type": "execute_result"
    }
   ],
   "source": [
    "sharks['Time'].value_counts()"
   ]
  },
  {
   "cell_type": "code",
   "execution_count": 37,
   "id": "505b867e",
   "metadata": {},
   "outputs": [],
   "source": [
    "# To clean this column, I need a function to identify the first 2 items of the strings and based on that replace them with the moment of the day\n"
   ]
  },
  {
   "cell_type": "code",
   "execution_count": 38,
   "id": "2963e2ee",
   "metadata": {
    "scrolled": true
   },
   "outputs": [],
   "source": [
    "# print(list(sharks['Time'].unique()))"
   ]
  },
  {
   "cell_type": "code",
   "execution_count": 39,
   "id": "7cf9285d",
   "metadata": {},
   "outputs": [],
   "source": [
    "sharks['Time'].fillna('Unknown', inplace=True)"
   ]
  },
  {
   "cell_type": "code",
   "execution_count": 40,
   "id": "f7035f8f",
   "metadata": {},
   "outputs": [],
   "source": [
    "# But first, I am going to take all the random values which are not going to be captured by my function "
   ]
  },
  {
   "cell_type": "code",
   "execution_count": 41,
   "id": "ff0294f8",
   "metadata": {},
   "outputs": [],
   "source": [
    "sharks['Time'].replace({'Late afternoon': 'Afternoon', 'Midday': 'Afternoon', 'Shortly before 12h00': 'Morning', 'After noon': 'Afternoon', 'Morning ': 'Morning', 'Midnight': 'Night', 'Sometime between 06h00 & 08hoo': 'Morning', 'Early afternoon': 'Afternoon', 'Just before noon': 'Morning', 'Early morning': 'Morning', 'Dawn': 'Night', 'Dusk': 'Night', 'Lunchtime': 'Afternoon', 'Before 07h00': 'Night', '\"Just before 11h00\"': 'Morning', 'Between 05h00 and 08h00': 'Morning', '>08h00': 'Morning', 'AM': 'Morning', 'A.M.': 'Morning', 'Sunset': 'Evening', '\"Evening\"': 'Evening', 'Just before sundown': 'Evening', '--': 'Nan', 'Just after 12h00': 'Afternoon', 'Early Morning': 'Morning', 'Shortly after midnight': ' Night', '\\xa0 ': 'Nan', '20h45 (Sunset)': 'Night', 'Late morning': 'Morning', '19h00, Dusk': 'Evening', 'Shortly before 13h00': 'Afternoon', 'Possibly same incident as 2000.08.21': 'Nan', 'After Dusk': 'Evening', 'Noon': 'Afternoon', ' Night': 'Night', 'P.M.': 'Evening', '8:04 pm': 'Evening', '2 hours after Opperman': 'NaN', 'Mid afternoon': 'Afternoon', 'Mid morning': 'Morning', '\"Night\"': 'Night', '30 minutes after 1992.07.08.a': 'Nan', '>06h45': 'Morning', 'Between 06h00 & 07h20': 'Morning', '<07h30': 'Morning', '17h00 Sunset': 'Evening', 'Nightfall': 'Night', 'X': 'NaN', '18h30 (Sunset)': 'Evening', 'Prior to 10h37': 'Morning', 'Daybreak': 'Afternoon', '>12h00': 'Afternoon', 'Mid-morning': 'Morning', 'Just before dawn': 'Night', 'Daytime': 'Morning', 'Dark': 'Night', '\"After lunch\"': 'Afternoon', 'After dusk': 'Night', 'FATAL  (Wire netting installed at local beaches after this incident.)': 'NaN', 'After midnight': 'Night', 'Late afternon': 'Afternoon', '\"Early evening\"': 'Evening', 'Late Afternoon': 'Afternoon', '   ': 'NaN', 'Before daybreak': 'Morning', 'dusk': 'Night', 'Before 10h30': 'Morning', '>17h00': 'Evening', 'night': 'Night', 'Late night': 'Night', 'Midday.': 'Afternoon', '\"After dark\"': 'Night', '2 hrs before sunset': 'Evening', '\"shortly before dusk\"': 'Night', 'Between 11h00 & 12h00': 'Morning', 'After 04h00': 'Night', 'Ship aban-doned at 03h10': 'Night', '>17h30': 'Evening', '>14h30': 'Afternoon', '11h01 -time of ship sinking': 'Morning', '9h00': 'Morning', ' 14h00': 'Afternoon', 'Nan': 'Unknown', 'NaN': 'Unknown', ' ': 'Unknown', '   ': 'Unknown', ' Night': 'Night'}, inplace=True)"
   ]
  },
  {
   "cell_type": "code",
   "execution_count": 42,
   "id": "d106bbe6",
   "metadata": {},
   "outputs": [],
   "source": [
    "# Now I can apply my function to the column to only have 4 values in this column"
   ]
  },
  {
   "cell_type": "code",
   "execution_count": 43,
   "id": "4c5fd464",
   "metadata": {},
   "outputs": [],
   "source": [
    "sharks['Moment of the Day'] = sharks['Time'].apply(fc.cambia_hora)"
   ]
  },
  {
   "cell_type": "code",
   "execution_count": 44,
   "id": "4a30946d",
   "metadata": {
    "scrolled": true
   },
   "outputs": [
    {
     "data": {
      "text/plain": [
       "array(['Evening', 'Afternoon', 'Morning', 'Unknown', 'Night', '  ', 'Nan',\n",
       "       ' Night', 'NaN'], dtype=object)"
      ]
     },
     "execution_count": 44,
     "metadata": {},
     "output_type": "execute_result"
    }
   ],
   "source": [
    "sharks['Moment of the Day'].unique()"
   ]
  },
  {
   "cell_type": "code",
   "execution_count": 45,
   "id": "b0b5dfd5",
   "metadata": {},
   "outputs": [],
   "source": [
    "# I need to repeat the replace function because there are some values that are not being captured"
   ]
  },
  {
   "cell_type": "code",
   "execution_count": 46,
   "id": "05dde1d1",
   "metadata": {},
   "outputs": [],
   "source": [
    "sharks['Moment of the Day'].replace({'  ': 'Unknown', 'Nan': 'Unknown', 'NaN': 'Unknown', ' Night': 'Night'}, inplace=True)"
   ]
  },
  {
   "cell_type": "code",
   "execution_count": 47,
   "id": "fb900c76",
   "metadata": {},
   "outputs": [
    {
     "data": {
      "text/plain": [
       "array(['Evening', 'Afternoon', 'Morning', 'Unknown', 'Night'],\n",
       "      dtype=object)"
      ]
     },
     "execution_count": 47,
     "metadata": {},
     "output_type": "execute_result"
    }
   ],
   "source": [
    "sharks['Moment of the Day'].unique()"
   ]
  },
  {
   "cell_type": "code",
   "execution_count": 48,
   "id": "deb62503",
   "metadata": {},
   "outputs": [
    {
     "data": {
      "text/html": [
       "<div>\n",
       "<style scoped>\n",
       "    .dataframe tbody tr th:only-of-type {\n",
       "        vertical-align: middle;\n",
       "    }\n",
       "\n",
       "    .dataframe tbody tr th {\n",
       "        vertical-align: top;\n",
       "    }\n",
       "\n",
       "    .dataframe thead th {\n",
       "        text-align: right;\n",
       "    }\n",
       "</style>\n",
       "<table border=\"1\" class=\"dataframe\">\n",
       "  <thead>\n",
       "    <tr style=\"text-align: right;\">\n",
       "      <th></th>\n",
       "      <th>Case Number</th>\n",
       "      <th>Date</th>\n",
       "      <th>Year</th>\n",
       "      <th>Type</th>\n",
       "      <th>Country</th>\n",
       "      <th>Activity</th>\n",
       "      <th>Name</th>\n",
       "      <th>Sex</th>\n",
       "      <th>Age</th>\n",
       "      <th>Injury</th>\n",
       "      <th>Fatal (Y/N)</th>\n",
       "      <th>Time</th>\n",
       "      <th>Species</th>\n",
       "      <th>Moment of the Day</th>\n",
       "    </tr>\n",
       "  </thead>\n",
       "  <tbody>\n",
       "    <tr>\n",
       "      <th>0</th>\n",
       "      <td>2018.06.25</td>\n",
       "      <td>25-Jun-2018</td>\n",
       "      <td>2018</td>\n",
       "      <td>Boating</td>\n",
       "      <td>USA</td>\n",
       "      <td>Paddling</td>\n",
       "      <td>Julie Wolfe</td>\n",
       "      <td>F</td>\n",
       "      <td>57</td>\n",
       "      <td>No injury to occupant, outrigger canoe and pad...</td>\n",
       "      <td>N</td>\n",
       "      <td>18h00</td>\n",
       "      <td>White shark</td>\n",
       "      <td>Evening</td>\n",
       "    </tr>\n",
       "    <tr>\n",
       "      <th>1</th>\n",
       "      <td>2018.06.18</td>\n",
       "      <td>18-Jun-2018</td>\n",
       "      <td>2018</td>\n",
       "      <td>Unprovoked</td>\n",
       "      <td>USA</td>\n",
       "      <td>Standing</td>\n",
       "      <td>Adyson McNeely</td>\n",
       "      <td>F</td>\n",
       "      <td>11</td>\n",
       "      <td>Minor injury to left thigh</td>\n",
       "      <td>N</td>\n",
       "      <td>14h00  -15h00</td>\n",
       "      <td>NaN</td>\n",
       "      <td>Afternoon</td>\n",
       "    </tr>\n",
       "    <tr>\n",
       "      <th>2</th>\n",
       "      <td>2018.06.09</td>\n",
       "      <td>09-Jun-2018</td>\n",
       "      <td>2018</td>\n",
       "      <td>Invalid</td>\n",
       "      <td>USA</td>\n",
       "      <td>Surfing</td>\n",
       "      <td>John Denges</td>\n",
       "      <td>M</td>\n",
       "      <td>48</td>\n",
       "      <td>Injury to left lower leg from surfboard skeg</td>\n",
       "      <td>N</td>\n",
       "      <td>07h45</td>\n",
       "      <td>NaN</td>\n",
       "      <td>Morning</td>\n",
       "    </tr>\n",
       "    <tr>\n",
       "      <th>3</th>\n",
       "      <td>2018.06.08</td>\n",
       "      <td>08-Jun-2018</td>\n",
       "      <td>2018</td>\n",
       "      <td>Unprovoked</td>\n",
       "      <td>AUSTRALIA</td>\n",
       "      <td>Surfing</td>\n",
       "      <td>male</td>\n",
       "      <td>M</td>\n",
       "      <td>NaN</td>\n",
       "      <td>Minor injury to lower leg</td>\n",
       "      <td>N</td>\n",
       "      <td>Unknown</td>\n",
       "      <td>2 m shark</td>\n",
       "      <td>Unknown</td>\n",
       "    </tr>\n",
       "    <tr>\n",
       "      <th>4</th>\n",
       "      <td>2018.06.04</td>\n",
       "      <td>04-Jun-2018</td>\n",
       "      <td>2018</td>\n",
       "      <td>Provoked</td>\n",
       "      <td>MEXICO</td>\n",
       "      <td>Free diving</td>\n",
       "      <td>Gustavo Ramos</td>\n",
       "      <td>M</td>\n",
       "      <td>NaN</td>\n",
       "      <td>Lacerations to leg &amp; hand shark PROVOKED INCIDENT</td>\n",
       "      <td>N</td>\n",
       "      <td>Unknown</td>\n",
       "      <td>Tiger shark, 3m</td>\n",
       "      <td>Unknown</td>\n",
       "    </tr>\n",
       "  </tbody>\n",
       "</table>\n",
       "</div>"
      ],
      "text/plain": [
       "  Case Number         Date  Year        Type    Country     Activity  \\\n",
       "0  2018.06.25  25-Jun-2018  2018     Boating        USA     Paddling   \n",
       "1  2018.06.18  18-Jun-2018  2018  Unprovoked        USA     Standing   \n",
       "2  2018.06.09  09-Jun-2018  2018     Invalid        USA      Surfing   \n",
       "3  2018.06.08  08-Jun-2018  2018  Unprovoked  AUSTRALIA      Surfing   \n",
       "4  2018.06.04  04-Jun-2018  2018    Provoked     MEXICO  Free diving   \n",
       "\n",
       "              Name Sex   Age  \\\n",
       "0      Julie Wolfe    F   57   \n",
       "1  Adyson McNeely     F   11   \n",
       "2      John Denges    M   48   \n",
       "3             male    M  NaN   \n",
       "4   Gustavo Ramos     M  NaN   \n",
       "\n",
       "                                              Injury Fatal (Y/N)  \\\n",
       "0  No injury to occupant, outrigger canoe and pad...           N   \n",
       "1                         Minor injury to left thigh           N   \n",
       "2       Injury to left lower leg from surfboard skeg           N   \n",
       "3                          Minor injury to lower leg           N   \n",
       "4  Lacerations to leg & hand shark PROVOKED INCIDENT           N   \n",
       "\n",
       "            Time         Species  Moment of the Day  \n",
       "0          18h00      White shark           Evening  \n",
       "1  14h00  -15h00              NaN         Afternoon  \n",
       "2          07h45              NaN           Morning  \n",
       "3        Unknown        2 m shark           Unknown  \n",
       "4        Unknown  Tiger shark, 3m           Unknown  "
      ]
     },
     "execution_count": 48,
     "metadata": {},
     "output_type": "execute_result"
    }
   ],
   "source": [
    "sharks.head(5)"
   ]
  },
  {
   "cell_type": "code",
   "execution_count": 49,
   "id": "d2798070",
   "metadata": {},
   "outputs": [],
   "source": [
    "# As I am going to use the column Activity for my 3rd hypotheses I need now to see the unique values of the column to then do a regex function"
   ]
  },
  {
   "cell_type": "code",
   "execution_count": 50,
   "id": "ac27841d",
   "metadata": {},
   "outputs": [
    {
     "data": {
      "text/plain": [
       "Surfing                                                        969\n",
       "Swimming                                                       842\n",
       "Fishing                                                        420\n",
       "Spearfishing                                                   332\n",
       "Bathing                                                        156\n",
       "                                                              ... \n",
       "Motor launch Baby Princesa capsized with 22 people on board      1\n",
       "Sea Disaster Sinking of ferryboat Christina                      1\n",
       "Wreck of the 1689-ton Portuguese  coaster Angoche                1\n",
       "Hookah diving (submerged)                                        1\n",
       "a corsair's boat was overturned                                  1\n",
       "Name: Activity, Length: 1487, dtype: int64"
      ]
     },
     "execution_count": 50,
     "metadata": {},
     "output_type": "execute_result"
    }
   ],
   "source": [
    "sharks['Activity'].value_counts()"
   ]
  },
  {
   "cell_type": "code",
   "execution_count": 51,
   "id": "1565e345",
   "metadata": {
    "scrolled": true
   },
   "outputs": [],
   "source": [
    "# print(list(sharks['Activity'].unique()))"
   ]
  },
  {
   "cell_type": "code",
   "execution_count": 52,
   "id": "40d31a0c",
   "metadata": {},
   "outputs": [],
   "source": [
    "sharks['Activity'].fillna('Other', inplace=True)"
   ]
  },
  {
   "cell_type": "code",
   "execution_count": 53,
   "id": "16f2c812",
   "metadata": {},
   "outputs": [],
   "source": [
    "# Now I need to use the function I have created to inclue only 6 values in the Activity column. I am going to create a new column for it named \"Type of Activity\""
   ]
  },
  {
   "cell_type": "code",
   "execution_count": 54,
   "id": "cd03685d",
   "metadata": {
    "scrolled": true
   },
   "outputs": [],
   "source": [
    "sharks['Type of Activity'] = sharks['Activity'].apply(fc.cambia_activity)"
   ]
  },
  {
   "cell_type": "code",
   "execution_count": 55,
   "id": "ae3708bc",
   "metadata": {
    "scrolled": true
   },
   "outputs": [
    {
     "data": {
      "text/html": [
       "<div>\n",
       "<style scoped>\n",
       "    .dataframe tbody tr th:only-of-type {\n",
       "        vertical-align: middle;\n",
       "    }\n",
       "\n",
       "    .dataframe tbody tr th {\n",
       "        vertical-align: top;\n",
       "    }\n",
       "\n",
       "    .dataframe thead th {\n",
       "        text-align: right;\n",
       "    }\n",
       "</style>\n",
       "<table border=\"1\" class=\"dataframe\">\n",
       "  <thead>\n",
       "    <tr style=\"text-align: right;\">\n",
       "      <th></th>\n",
       "      <th>Case Number</th>\n",
       "      <th>Date</th>\n",
       "      <th>Year</th>\n",
       "      <th>Type</th>\n",
       "      <th>Country</th>\n",
       "      <th>Activity</th>\n",
       "      <th>Name</th>\n",
       "      <th>Sex</th>\n",
       "      <th>Age</th>\n",
       "      <th>Injury</th>\n",
       "      <th>Fatal (Y/N)</th>\n",
       "      <th>Time</th>\n",
       "      <th>Species</th>\n",
       "      <th>Moment of the Day</th>\n",
       "      <th>Type of Activity</th>\n",
       "    </tr>\n",
       "  </thead>\n",
       "  <tbody>\n",
       "    <tr>\n",
       "      <th>0</th>\n",
       "      <td>2018.06.25</td>\n",
       "      <td>25-Jun-2018</td>\n",
       "      <td>2018</td>\n",
       "      <td>Boating</td>\n",
       "      <td>USA</td>\n",
       "      <td>Paddling</td>\n",
       "      <td>Julie Wolfe</td>\n",
       "      <td>F</td>\n",
       "      <td>57</td>\n",
       "      <td>No injury to occupant, outrigger canoe and pad...</td>\n",
       "      <td>N</td>\n",
       "      <td>18h00</td>\n",
       "      <td>White shark</td>\n",
       "      <td>Evening</td>\n",
       "      <td>Surfing</td>\n",
       "    </tr>\n",
       "    <tr>\n",
       "      <th>1</th>\n",
       "      <td>2018.06.18</td>\n",
       "      <td>18-Jun-2018</td>\n",
       "      <td>2018</td>\n",
       "      <td>Unprovoked</td>\n",
       "      <td>USA</td>\n",
       "      <td>Standing</td>\n",
       "      <td>Adyson McNeely</td>\n",
       "      <td>F</td>\n",
       "      <td>11</td>\n",
       "      <td>Minor injury to left thigh</td>\n",
       "      <td>N</td>\n",
       "      <td>14h00  -15h00</td>\n",
       "      <td>NaN</td>\n",
       "      <td>Afternoon</td>\n",
       "      <td>Other</td>\n",
       "    </tr>\n",
       "    <tr>\n",
       "      <th>2</th>\n",
       "      <td>2018.06.09</td>\n",
       "      <td>09-Jun-2018</td>\n",
       "      <td>2018</td>\n",
       "      <td>Invalid</td>\n",
       "      <td>USA</td>\n",
       "      <td>Surfing</td>\n",
       "      <td>John Denges</td>\n",
       "      <td>M</td>\n",
       "      <td>48</td>\n",
       "      <td>Injury to left lower leg from surfboard skeg</td>\n",
       "      <td>N</td>\n",
       "      <td>07h45</td>\n",
       "      <td>NaN</td>\n",
       "      <td>Morning</td>\n",
       "      <td>Surfing</td>\n",
       "    </tr>\n",
       "    <tr>\n",
       "      <th>3</th>\n",
       "      <td>2018.06.08</td>\n",
       "      <td>08-Jun-2018</td>\n",
       "      <td>2018</td>\n",
       "      <td>Unprovoked</td>\n",
       "      <td>AUSTRALIA</td>\n",
       "      <td>Surfing</td>\n",
       "      <td>male</td>\n",
       "      <td>M</td>\n",
       "      <td>NaN</td>\n",
       "      <td>Minor injury to lower leg</td>\n",
       "      <td>N</td>\n",
       "      <td>Unknown</td>\n",
       "      <td>2 m shark</td>\n",
       "      <td>Unknown</td>\n",
       "      <td>Surfing</td>\n",
       "    </tr>\n",
       "    <tr>\n",
       "      <th>4</th>\n",
       "      <td>2018.06.04</td>\n",
       "      <td>04-Jun-2018</td>\n",
       "      <td>2018</td>\n",
       "      <td>Provoked</td>\n",
       "      <td>MEXICO</td>\n",
       "      <td>Free diving</td>\n",
       "      <td>Gustavo Ramos</td>\n",
       "      <td>M</td>\n",
       "      <td>NaN</td>\n",
       "      <td>Lacerations to leg &amp; hand shark PROVOKED INCIDENT</td>\n",
       "      <td>N</td>\n",
       "      <td>Unknown</td>\n",
       "      <td>Tiger shark, 3m</td>\n",
       "      <td>Unknown</td>\n",
       "      <td>Diving</td>\n",
       "    </tr>\n",
       "  </tbody>\n",
       "</table>\n",
       "</div>"
      ],
      "text/plain": [
       "  Case Number         Date  Year        Type    Country     Activity  \\\n",
       "0  2018.06.25  25-Jun-2018  2018     Boating        USA     Paddling   \n",
       "1  2018.06.18  18-Jun-2018  2018  Unprovoked        USA     Standing   \n",
       "2  2018.06.09  09-Jun-2018  2018     Invalid        USA      Surfing   \n",
       "3  2018.06.08  08-Jun-2018  2018  Unprovoked  AUSTRALIA      Surfing   \n",
       "4  2018.06.04  04-Jun-2018  2018    Provoked     MEXICO  Free diving   \n",
       "\n",
       "              Name Sex   Age  \\\n",
       "0      Julie Wolfe    F   57   \n",
       "1  Adyson McNeely     F   11   \n",
       "2      John Denges    M   48   \n",
       "3             male    M  NaN   \n",
       "4   Gustavo Ramos     M  NaN   \n",
       "\n",
       "                                              Injury Fatal (Y/N)  \\\n",
       "0  No injury to occupant, outrigger canoe and pad...           N   \n",
       "1                         Minor injury to left thigh           N   \n",
       "2       Injury to left lower leg from surfboard skeg           N   \n",
       "3                          Minor injury to lower leg           N   \n",
       "4  Lacerations to leg & hand shark PROVOKED INCIDENT           N   \n",
       "\n",
       "            Time         Species  Moment of the Day Type of Activity  \n",
       "0          18h00      White shark           Evening          Surfing  \n",
       "1  14h00  -15h00              NaN         Afternoon            Other  \n",
       "2          07h45              NaN           Morning          Surfing  \n",
       "3        Unknown        2 m shark           Unknown          Surfing  \n",
       "4        Unknown  Tiger shark, 3m           Unknown           Diving  "
      ]
     },
     "execution_count": 55,
     "metadata": {},
     "output_type": "execute_result"
    }
   ],
   "source": [
    "sharks.head()"
   ]
  },
  {
   "cell_type": "code",
   "execution_count": 56,
   "id": "d0cac7db",
   "metadata": {},
   "outputs": [
    {
     "data": {
      "text/plain": [
       "array(['Surfing', 'Other', 'Diving', 'Swimming', 'Fishing', 'Boating',\n",
       "       'Feeding'], dtype=object)"
      ]
     },
     "execution_count": 56,
     "metadata": {},
     "output_type": "execute_result"
    }
   ],
   "source": [
    "sharks['Type of Activity'].unique()"
   ]
  },
  {
   "cell_type": "code",
   "execution_count": 57,
   "id": "2c6e2381",
   "metadata": {},
   "outputs": [
    {
     "data": {
      "text/plain": [
       "Other       1657\n",
       "Surfing     1570\n",
       "Swimming    1345\n",
       "Fishing     1136\n",
       "Diving       361\n",
       "Boating       57\n",
       "Feeding        5\n",
       "Name: Type of Activity, dtype: int64"
      ]
     },
     "execution_count": 57,
     "metadata": {},
     "output_type": "execute_result"
    }
   ],
   "source": [
    "sharks['Type of Activity'].value_counts()"
   ]
  },
  {
   "cell_type": "code",
   "execution_count": 58,
   "id": "9876d42f",
   "metadata": {},
   "outputs": [],
   "source": [
    "sharks.to_csv('data/sharks_clean.csv')"
   ]
  }
 ],
 "metadata": {
  "kernelspec": {
   "display_name": "ironhack",
   "language": "python",
   "name": "ironhack"
  },
  "language_info": {
   "codemirror_mode": {
    "name": "ipython",
    "version": 3
   },
   "file_extension": ".py",
   "mimetype": "text/x-python",
   "name": "python",
   "nbconvert_exporter": "python",
   "pygments_lexer": "ipython3",
   "version": "3.8.10"
  }
 },
 "nbformat": 4,
 "nbformat_minor": 5
}
