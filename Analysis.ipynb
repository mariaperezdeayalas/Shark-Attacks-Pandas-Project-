{
 "cells": [
  {
   "cell_type": "code",
   "execution_count": null,
   "id": "594c0f0b",
   "metadata": {},
   "outputs": [],
   "source": [
    "import pandas as pd\n",
    "import numpy as np\n",
    "import re\n",
    "import seaborn as sns\n",
    "import matplotlib.pyplot as plt"
   ]
  },
  {
   "cell_type": "code",
   "execution_count": null,
   "id": "1a939101",
   "metadata": {},
   "outputs": [],
   "source": [
    "# HYPOTHESES:\n",
    "\n",
    "# 1. Over the years the fatality of shark attacks has decreased\n",
    "# 2. Majority of accidents that end in fatality happen during the night? If not, when?\n",
    "# 3. Has the mortality of ie. surfing decreased over time? And what about the rest?"
   ]
  },
  {
   "cell_type": "code",
   "execution_count": null,
   "id": "7e89894f",
   "metadata": {},
   "outputs": [],
   "source": [
    "# HYPOTHESES #1: Over the years the fatality of shark attacks has decreased"
   ]
  },
  {
   "cell_type": "code",
   "execution_count": null,
   "id": "96081728",
   "metadata": {},
   "outputs": [],
   "source": [
    "df.head()"
   ]
  },
  {
   "cell_type": "code",
   "execution_count": null,
   "id": "acf9b256",
   "metadata": {},
   "outputs": [],
   "source": [
    "sns.histplot(data=df, x='Year', hue='Fatal (Y/N)', multiple='stack')"
   ]
  },
  {
   "cell_type": "code",
   "execution_count": null,
   "id": "0f32fdec",
   "metadata": {},
   "outputs": [],
   "source": []
  },
  {
   "cell_type": "code",
   "execution_count": null,
   "id": "4c671c26",
   "metadata": {},
   "outputs": [],
   "source": []
  }
 ],
 "metadata": {
  "kernelspec": {
   "display_name": "ironhack",
   "language": "python",
   "name": "ironhack"
  },
  "language_info": {
   "codemirror_mode": {
    "name": "ipython",
    "version": 3
   },
   "file_extension": ".py",
   "mimetype": "text/x-python",
   "name": "python",
   "nbconvert_exporter": "python",
   "pygments_lexer": "ipython3",
   "version": "3.8.10"
  }
 },
 "nbformat": 4,
 "nbformat_minor": 5
}
